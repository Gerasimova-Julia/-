{
 "cells": [
  {
   "cell_type": "markdown",
   "metadata": {},
   "source": [
    "<span style=\"color:green\">**Поздравляю, твой проект принят!**</span>\n",
    "\n",
    "Юлия, отличная работа, получился качественный аналитический отчет. Поставленные задачи были успешно выполнены! Спасибо за обозначение корректировок. Недочёты исправлены! Надеюсь, ревью было полезным:) Желаю успехов в учебе и следующих проектах!\n",
    "\n",
    "Актуальные комментарии имеют метку `v3`.\n",
    "\n",
    "<span style=\"color:purple\">**Привет еще раз!**</span> v2\n",
    "\n",
    "Юлия, спасибо, что доработала проект – стало лучше! Значительное количество недочётов отработано. Проект почти готов, осталось исправить расчёт потерь по уникальным пользователям после фильтрации. Дал дополнительные комментарии, надеюсь они помогут. Жду твою работу!\n",
    "\n",
    "Оформление комментариев оставим таким же, только обозначим номер проверки `v2`.\n",
    "\n",
    "<span style=\"color:purple\">**Привет, Юлия!**</span>\n",
    "\n",
    "Меня зовут **Василий** и я - ревьювер, буду проверять твой проект.\n",
    "\n",
    "Если не против, я буду обращаться к тебе на \"ТЫ\". Если это неприемлемо, обязательно напиши мне в комментариях – мы прейдем на \"ВЫ\".\n",
    "\n",
    "Спасибо, что прислала проект. Ты проделала большую работу над проектом. В тетради ты сможешь найти мои комментарии. Пострайся учесть эти комментарии в ходе выполнения дальнейших проектов.\n",
    "\n",
    "Обрати внимание, я буду выделять свои комментарии цветом, в зависимости от того, какие действия, важность и особенности тебя ждут в процессе проверки.\n",
    "\n",
    "<div class=\"alert alert-block alert-success\">\n",
    "\n",
    "**Комментарий ревьювера (все отлично)**\n",
    "    \n",
    "Такими комментариями я буду помечать хорошо проделаную работу, а так же хорошо проделаную работу над ошибками.\n",
    "</div>\n",
    "\n",
    "<div class=\"alert alert-block alert-warning\">\n",
    "\n",
    "**Комментарий ревьювера (что можно улучшить)**\n",
    "    \n",
    "После таких комментариев ничего исправлять не нужно, но я дам рекомендации на будущее и подскажу, что можно улучшить.\n",
    "</div>\n",
    "\n",
    "<div class=\"alert alert-block alert-danger\">\n",
    "    \n",
    "**Комментарий ревьювера (недочет, который нужно доработать)**\n",
    "    \n",
    "Если ты видишь такой комментарий, значит я указываю тебе на недочёт, его нужно исправить. Без такого исправления я не приму твою работу:)\n",
    "</div>\n",
    "\n",
    "**Пожалуста, не удаляй мои комментарии. При повторной проверке, я буду ориентироваться на них.**\n",
    "\n",
    "<span style=\"color:blue\"> Можешь под моими комментариями оставлять свои, в которых опиши свои исправления. Это облегчит процесс проверки и мне, и тебе:) Например, вот так:</span>\n",
    "\n",
    "<div class=\"alert alert-block alert-info\">\n",
    "<b>КОММЕНТАРИЙ ОТ УЧЕНИКА:</b>\n",
    "</div>"
   ]
  },
  {
   "cell_type": "markdown",
   "metadata": {},
   "source": [
    "# Сборный проект"
   ]
  },
  {
   "cell_type": "markdown",
   "metadata": {},
   "source": [
    "Цель - изучить поведение пользователей приложения по продаже продуктов питания. Понять, повлияет ли изменение шрифта на поведение пользователей.\n",
    "\n",
    "Задачи:\n",
    "- изучение воронки продаж;\n",
    "- исследование результатов A/A/B-эксперимента.\n",
    "\n",
    "В распоряжении имеется файл с данными о действиях пользователя и событиях. "
   ]
  },
  {
   "cell_type": "markdown",
   "metadata": {},
   "source": [
    "<div class=\"alert alert-block alert-success\">\n",
    "\n",
    "**Комментарий ревьювера (все отлично)**\n",
    "    \n",
    "Выделены цели работы, понятно чему посвящен твой проект👍\n",
    "</div>"
   ]
  },
  {
   "cell_type": "markdown",
   "metadata": {},
   "source": [
    "### Загрузка и подготовка данных к анализу"
   ]
  },
  {
   "cell_type": "code",
   "execution_count": 1,
   "metadata": {},
   "outputs": [],
   "source": [
    "#Импорт библиотек\n",
    "import pandas as pd\n",
    "import numpy as np\n",
    "import matplotlib.pyplot as plt\n",
    "import seaborn as sns\n",
    "from IPython.display import display\n",
    "import math as mth\n",
    "from scipy import stats as st\n",
    "from pandas.plotting import register_matplotlib_converters"
   ]
  },
  {
   "cell_type": "markdown",
   "metadata": {},
   "source": [
    "<div class=\"alert alert-block alert-success\">\n",
    "\n",
    "**Комментарий ревьювера (все отлично)**\n",
    "    \n",
    "Правильно, что импортируешь необходимые библиотеки в первой ячейке. Так твой коллега, запускающий работу, будет в курсе используемых в ней библиотек и сможет настроить свое окружение при необходимости.\n",
    "</div>"
   ]
  },
  {
   "cell_type": "code",
   "execution_count": 2,
   "metadata": {},
   "outputs": [
    {
     "data": {
      "text/html": [
       "<div>\n",
       "<style scoped>\n",
       "    .dataframe tbody tr th:only-of-type {\n",
       "        vertical-align: middle;\n",
       "    }\n",
       "\n",
       "    .dataframe tbody tr th {\n",
       "        vertical-align: top;\n",
       "    }\n",
       "\n",
       "    .dataframe thead th {\n",
       "        text-align: right;\n",
       "    }\n",
       "</style>\n",
       "<table border=\"1\" class=\"dataframe\">\n",
       "  <thead>\n",
       "    <tr style=\"text-align: right;\">\n",
       "      <th></th>\n",
       "      <th>EventName</th>\n",
       "      <th>DeviceIDHash</th>\n",
       "      <th>EventTimestamp</th>\n",
       "      <th>ExpId</th>\n",
       "    </tr>\n",
       "  </thead>\n",
       "  <tbody>\n",
       "    <tr>\n",
       "      <th>0</th>\n",
       "      <td>MainScreenAppear</td>\n",
       "      <td>4575588528974610257</td>\n",
       "      <td>1564029816</td>\n",
       "      <td>246</td>\n",
       "    </tr>\n",
       "    <tr>\n",
       "      <th>1</th>\n",
       "      <td>MainScreenAppear</td>\n",
       "      <td>7416695313311560658</td>\n",
       "      <td>1564053102</td>\n",
       "      <td>246</td>\n",
       "    </tr>\n",
       "    <tr>\n",
       "      <th>2</th>\n",
       "      <td>PaymentScreenSuccessful</td>\n",
       "      <td>3518123091307005509</td>\n",
       "      <td>1564054127</td>\n",
       "      <td>248</td>\n",
       "    </tr>\n",
       "    <tr>\n",
       "      <th>3</th>\n",
       "      <td>CartScreenAppear</td>\n",
       "      <td>3518123091307005509</td>\n",
       "      <td>1564054127</td>\n",
       "      <td>248</td>\n",
       "    </tr>\n",
       "    <tr>\n",
       "      <th>4</th>\n",
       "      <td>PaymentScreenSuccessful</td>\n",
       "      <td>6217807653094995999</td>\n",
       "      <td>1564055322</td>\n",
       "      <td>248</td>\n",
       "    </tr>\n",
       "    <tr>\n",
       "      <th>5</th>\n",
       "      <td>CartScreenAppear</td>\n",
       "      <td>6217807653094995999</td>\n",
       "      <td>1564055323</td>\n",
       "      <td>248</td>\n",
       "    </tr>\n",
       "    <tr>\n",
       "      <th>6</th>\n",
       "      <td>OffersScreenAppear</td>\n",
       "      <td>8351860793733343758</td>\n",
       "      <td>1564066242</td>\n",
       "      <td>246</td>\n",
       "    </tr>\n",
       "    <tr>\n",
       "      <th>7</th>\n",
       "      <td>MainScreenAppear</td>\n",
       "      <td>5682100281902512875</td>\n",
       "      <td>1564085677</td>\n",
       "      <td>246</td>\n",
       "    </tr>\n",
       "    <tr>\n",
       "      <th>8</th>\n",
       "      <td>MainScreenAppear</td>\n",
       "      <td>1850981295691852772</td>\n",
       "      <td>1564086702</td>\n",
       "      <td>247</td>\n",
       "    </tr>\n",
       "    <tr>\n",
       "      <th>9</th>\n",
       "      <td>MainScreenAppear</td>\n",
       "      <td>5407636962369102641</td>\n",
       "      <td>1564112112</td>\n",
       "      <td>246</td>\n",
       "    </tr>\n",
       "  </tbody>\n",
       "</table>\n",
       "</div>"
      ],
      "text/plain": [
       "                 EventName         DeviceIDHash  EventTimestamp  ExpId\n",
       "0         MainScreenAppear  4575588528974610257      1564029816    246\n",
       "1         MainScreenAppear  7416695313311560658      1564053102    246\n",
       "2  PaymentScreenSuccessful  3518123091307005509      1564054127    248\n",
       "3         CartScreenAppear  3518123091307005509      1564054127    248\n",
       "4  PaymentScreenSuccessful  6217807653094995999      1564055322    248\n",
       "5         CartScreenAppear  6217807653094995999      1564055323    248\n",
       "6       OffersScreenAppear  8351860793733343758      1564066242    246\n",
       "7         MainScreenAppear  5682100281902512875      1564085677    246\n",
       "8         MainScreenAppear  1850981295691852772      1564086702    247\n",
       "9         MainScreenAppear  5407636962369102641      1564112112    246"
      ]
     },
     "metadata": {},
     "output_type": "display_data"
    },
    {
     "name": "stdout",
     "output_type": "stream",
     "text": [
      "<class 'pandas.core.frame.DataFrame'>\n",
      "RangeIndex: 244126 entries, 0 to 244125\n",
      "Data columns (total 4 columns):\n",
      " #   Column          Non-Null Count   Dtype \n",
      "---  ------          --------------   ----- \n",
      " 0   EventName       244126 non-null  object\n",
      " 1   DeviceIDHash    244126 non-null  int64 \n",
      " 2   EventTimestamp  244126 non-null  int64 \n",
      " 3   ExpId           244126 non-null  int64 \n",
      "dtypes: int64(3), object(1)\n",
      "memory usage: 7.5+ MB\n"
     ]
    },
    {
     "data": {
      "text/plain": [
       "None"
      ]
     },
     "metadata": {},
     "output_type": "display_data"
    }
   ],
   "source": [
    "#Загрузка данных\n",
    "df = pd.read_csv('/datasets/logs_exp.csv', sep='\\t')\n",
    "\n",
    "display(df.head(10))\n",
    "display(df.info())"
   ]
  },
  {
   "cell_type": "code",
   "execution_count": 3,
   "metadata": {},
   "outputs": [],
   "source": [
    "#Переименование столбцов\n",
    "#df.columns = ['event_name', 'device_id', 'datetime', 'experiment_id']\n",
    "df.rename(columns={\n",
    "    'EventName':'event_name',\n",
    "    'DeviceIDHash':'device_id',\n",
    "    'EventTimestamp':'datetime',\n",
    "    'ExpId':'experiment_id'\n",
    "}, inplace=True)"
   ]
  },
  {
   "cell_type": "markdown",
   "metadata": {},
   "source": [
    "<div class=\"alert alert-block alert-warning\">\n",
    "\n",
    "**Комментарий ревьювера (что можно улучшить)**\n",
    "\n",
    "Не стоит переименовывать столбцы через атрибут columns, потому что так ты неявно учитываешь порядок столбцов. Если порядок столбцов поменяется, код перестанет работать. Используй вместо этого метод rename().\n",
    "    \n",
    "</div>"
   ]
  },
  {
   "cell_type": "code",
   "execution_count": 4,
   "metadata": {},
   "outputs": [
    {
     "data": {
      "text/html": [
       "<div>\n",
       "<style scoped>\n",
       "    .dataframe tbody tr th:only-of-type {\n",
       "        vertical-align: middle;\n",
       "    }\n",
       "\n",
       "    .dataframe tbody tr th {\n",
       "        vertical-align: top;\n",
       "    }\n",
       "\n",
       "    .dataframe thead th {\n",
       "        text-align: right;\n",
       "    }\n",
       "</style>\n",
       "<table border=\"1\" class=\"dataframe\">\n",
       "  <thead>\n",
       "    <tr style=\"text-align: right;\">\n",
       "      <th></th>\n",
       "      <th>event_name</th>\n",
       "      <th>device_id</th>\n",
       "      <th>datetime</th>\n",
       "      <th>experiment_id</th>\n",
       "    </tr>\n",
       "  </thead>\n",
       "  <tbody>\n",
       "    <tr>\n",
       "      <th>0</th>\n",
       "      <td>MainScreenAppear</td>\n",
       "      <td>4575588528974610257</td>\n",
       "      <td>2019-07-25 04:43:36</td>\n",
       "      <td>246</td>\n",
       "    </tr>\n",
       "    <tr>\n",
       "      <th>1</th>\n",
       "      <td>MainScreenAppear</td>\n",
       "      <td>7416695313311560658</td>\n",
       "      <td>2019-07-25 11:11:42</td>\n",
       "      <td>246</td>\n",
       "    </tr>\n",
       "    <tr>\n",
       "      <th>2</th>\n",
       "      <td>PaymentScreenSuccessful</td>\n",
       "      <td>3518123091307005509</td>\n",
       "      <td>2019-07-25 11:28:47</td>\n",
       "      <td>248</td>\n",
       "    </tr>\n",
       "    <tr>\n",
       "      <th>3</th>\n",
       "      <td>CartScreenAppear</td>\n",
       "      <td>3518123091307005509</td>\n",
       "      <td>2019-07-25 11:28:47</td>\n",
       "      <td>248</td>\n",
       "    </tr>\n",
       "    <tr>\n",
       "      <th>4</th>\n",
       "      <td>PaymentScreenSuccessful</td>\n",
       "      <td>6217807653094995999</td>\n",
       "      <td>2019-07-25 11:48:42</td>\n",
       "      <td>248</td>\n",
       "    </tr>\n",
       "    <tr>\n",
       "      <th>5</th>\n",
       "      <td>CartScreenAppear</td>\n",
       "      <td>6217807653094995999</td>\n",
       "      <td>2019-07-25 11:48:43</td>\n",
       "      <td>248</td>\n",
       "    </tr>\n",
       "    <tr>\n",
       "      <th>6</th>\n",
       "      <td>OffersScreenAppear</td>\n",
       "      <td>8351860793733343758</td>\n",
       "      <td>2019-07-25 14:50:42</td>\n",
       "      <td>246</td>\n",
       "    </tr>\n",
       "    <tr>\n",
       "      <th>7</th>\n",
       "      <td>MainScreenAppear</td>\n",
       "      <td>5682100281902512875</td>\n",
       "      <td>2019-07-25 20:14:37</td>\n",
       "      <td>246</td>\n",
       "    </tr>\n",
       "    <tr>\n",
       "      <th>8</th>\n",
       "      <td>MainScreenAppear</td>\n",
       "      <td>1850981295691852772</td>\n",
       "      <td>2019-07-25 20:31:42</td>\n",
       "      <td>247</td>\n",
       "    </tr>\n",
       "    <tr>\n",
       "      <th>9</th>\n",
       "      <td>MainScreenAppear</td>\n",
       "      <td>5407636962369102641</td>\n",
       "      <td>2019-07-26 03:35:12</td>\n",
       "      <td>246</td>\n",
       "    </tr>\n",
       "  </tbody>\n",
       "</table>\n",
       "</div>"
      ],
      "text/plain": [
       "                event_name            device_id            datetime  \\\n",
       "0         MainScreenAppear  4575588528974610257 2019-07-25 04:43:36   \n",
       "1         MainScreenAppear  7416695313311560658 2019-07-25 11:11:42   \n",
       "2  PaymentScreenSuccessful  3518123091307005509 2019-07-25 11:28:47   \n",
       "3         CartScreenAppear  3518123091307005509 2019-07-25 11:28:47   \n",
       "4  PaymentScreenSuccessful  6217807653094995999 2019-07-25 11:48:42   \n",
       "5         CartScreenAppear  6217807653094995999 2019-07-25 11:48:43   \n",
       "6       OffersScreenAppear  8351860793733343758 2019-07-25 14:50:42   \n",
       "7         MainScreenAppear  5682100281902512875 2019-07-25 20:14:37   \n",
       "8         MainScreenAppear  1850981295691852772 2019-07-25 20:31:42   \n",
       "9         MainScreenAppear  5407636962369102641 2019-07-26 03:35:12   \n",
       "\n",
       "   experiment_id  \n",
       "0            246  \n",
       "1            246  \n",
       "2            248  \n",
       "3            248  \n",
       "4            248  \n",
       "5            248  \n",
       "6            246  \n",
       "7            246  \n",
       "8            247  \n",
       "9            246  "
      ]
     },
     "metadata": {},
     "output_type": "display_data"
    },
    {
     "name": "stdout",
     "output_type": "stream",
     "text": [
      "<class 'pandas.core.frame.DataFrame'>\n",
      "RangeIndex: 244126 entries, 0 to 244125\n",
      "Data columns (total 4 columns):\n",
      " #   Column         Non-Null Count   Dtype         \n",
      "---  ------         --------------   -----         \n",
      " 0   event_name     244126 non-null  object        \n",
      " 1   device_id      244126 non-null  int64         \n",
      " 2   datetime       244126 non-null  datetime64[ns]\n",
      " 3   experiment_id  244126 non-null  int64         \n",
      "dtypes: datetime64[ns](1), int64(2), object(1)\n",
      "memory usage: 7.5+ MB\n"
     ]
    },
    {
     "data": {
      "text/plain": [
       "None"
      ]
     },
     "metadata": {},
     "output_type": "display_data"
    }
   ],
   "source": [
    "#Изменения формата в столбцах с датой\n",
    "df['datetime'] = pd.to_datetime(df['datetime'], unit='s')\n",
    "display(df.head(10))\n",
    "display(df.info())"
   ]
  },
  {
   "cell_type": "markdown",
   "metadata": {},
   "source": [
    "<div class=\"alert alert-block alert-success\">\n",
    "\n",
    "**Комментарий ревьювера (все отлично)**\n",
    "    \n",
    "Даты приведены к соответствующему типу👍\n",
    "</div>"
   ]
  },
  {
   "cell_type": "code",
   "execution_count": 5,
   "metadata": {},
   "outputs": [
    {
     "name": "stdout",
     "output_type": "stream",
     "text": [
      "Количество строк-дубликатов в датафрейме df: 413\n",
      "Количество пропусков в датафрейме df: event_name       0\n",
      "device_id        0\n",
      "datetime         0\n",
      "experiment_id    0\n",
      "dtype: int64\n"
     ]
    }
   ],
   "source": [
    "print(f'Количество строк-дубликатов в датафрейме df: {df.duplicated().sum()}')\n",
    "print(f'Количество пропусков в датафрейме df: {df.isna().sum()}')"
   ]
  },
  {
   "cell_type": "markdown",
   "metadata": {},
   "source": [
    "В данных обнаружено 413 строк-дубликатов. Удалим их."
   ]
  },
  {
   "cell_type": "code",
   "execution_count": 6,
   "metadata": {
    "scrolled": true
   },
   "outputs": [
    {
     "data": {
      "text/plain": [
       "0"
      ]
     },
     "execution_count": 6,
     "metadata": {},
     "output_type": "execute_result"
    }
   ],
   "source": [
    "df = df.drop_duplicates()\n",
    "df.duplicated().sum()"
   ]
  },
  {
   "cell_type": "markdown",
   "metadata": {},
   "source": [
    "<div class=\"alert alert-block alert-success\">\n",
    "\n",
    "**Комментарий ревьювера (все отлично)**\n",
    "    \n",
    "Дубликаты обнаружены и удалены.\n",
    "</div>"
   ]
  },
  {
   "cell_type": "markdown",
   "metadata": {},
   "source": [
    "Добавим отдельный столбец с датой."
   ]
  },
  {
   "cell_type": "code",
   "execution_count": 7,
   "metadata": {},
   "outputs": [],
   "source": [
    "df['date'] = df['datetime'].dt.date"
   ]
  },
  {
   "cell_type": "markdown",
   "metadata": {},
   "source": [
    "Проверим дублирование пользователей в различных группах."
   ]
  },
  {
   "cell_type": "code",
   "execution_count": 8,
   "metadata": {},
   "outputs": [
    {
     "data": {
      "text/plain": [
       "0"
      ]
     },
     "execution_count": 8,
     "metadata": {},
     "output_type": "execute_result"
    }
   ],
   "source": [
    "group_counts = df.groupby('device_id')['experiment_id'].nunique()\n",
    "conflicted_users = group_counts[group_counts > 1].index\n",
    "len(conflicted_users)"
   ]
  },
  {
   "cell_type": "markdown",
   "metadata": {},
   "source": [
    "В группах каждый пользователь уникальный. Попадание пользователей в несколько групп отсутствует. "
   ]
  },
  {
   "cell_type": "markdown",
   "metadata": {},
   "source": [
    "<div class=\"alert alert-block alert-danger\">\n",
    "    \n",
    "**Комментарий ревьювера (недочет, который нужно доработать)**\n",
    "    \n",
    "В проекте нет проверки попадания пользователей сразу в несколько групп. Такая проверка необходима, так как в АВ тесте могут быть ошибки при логировании и распределении пользователей по группам.\n",
    "</div>"
   ]
  },
  {
   "cell_type": "markdown",
   "metadata": {},
   "source": [
    "<div class=\"alert alert-block alert-info\">\n",
    "<b> Сделано! </b>\n",
    "</div>"
   ]
  },
  {
   "cell_type": "markdown",
   "metadata": {},
   "source": [
    "<div class=\"alert alert-block alert-success\">\n",
    "\n",
    "**Комментарий ревьювера v2 (все отлично)**\n",
    "    \n",
    "Проверка выполнена оптимальным способом👍\n",
    "</div>"
   ]
  },
  {
   "cell_type": "markdown",
   "metadata": {},
   "source": [
    "#### Вывод:"
   ]
  },
  {
   "cell_type": "markdown",
   "metadata": {},
   "source": [
    "Датасет изначально имел 244 126 строк, 4 столбца.\n",
    "\n",
    "В 1 пункте были заменены названия столбцов, изменен формат столбца с датой, удалено 413 строк-дубликатов и добавлен отдельный столбец с датой.\n",
    "\n",
    "После подготовки данных стало 243 713 строк и 5 столбцов:\n",
    "- event_name — название события;\n",
    "- device_id — уникальный идентификатор пользователя;\n",
    "- datetime — дата и время события;\n",
    "- experiment_id — номер эксперимента: 246 и 247 — контрольные группы, а 248 — экспериментальная;\n",
    "- date - дата события."
   ]
  },
  {
   "cell_type": "markdown",
   "metadata": {},
   "source": [
    "### Изучение и проверка данных"
   ]
  },
  {
   "cell_type": "markdown",
   "metadata": {},
   "source": [
    "Узнаем, сколько всего событий, пользователей в логе и сколько в среднем событий приходится на пользователя."
   ]
  },
  {
   "cell_type": "code",
   "execution_count": 9,
   "metadata": {},
   "outputs": [
    {
     "data": {
      "text/plain": [
       "243713"
      ]
     },
     "execution_count": 9,
     "metadata": {},
     "output_type": "execute_result"
    }
   ],
   "source": [
    "df['event_name'].count() #количество событий в логе"
   ]
  },
  {
   "cell_type": "code",
   "execution_count": 10,
   "metadata": {},
   "outputs": [
    {
     "data": {
      "text/plain": [
       "5"
      ]
     },
     "execution_count": 10,
     "metadata": {},
     "output_type": "execute_result"
    }
   ],
   "source": [
    "df['event_name'].nunique() #количество уникальных событий в логе"
   ]
  },
  {
   "cell_type": "code",
   "execution_count": 11,
   "metadata": {},
   "outputs": [
    {
     "data": {
      "text/plain": [
       "7551"
      ]
     },
     "execution_count": 11,
     "metadata": {},
     "output_type": "execute_result"
    }
   ],
   "source": [
    "df['device_id'].nunique() #количесвто пользователей в логе"
   ]
  },
  {
   "cell_type": "code",
   "execution_count": 12,
   "metadata": {},
   "outputs": [
    {
     "data": {
      "text/plain": [
       "32.27559263673685"
      ]
     },
     "execution_count": 12,
     "metadata": {},
     "output_type": "execute_result"
    }
   ],
   "source": [
    "df_events = df.pivot_table(index='device_id',values='event_name',aggfunc='count')\n",
    "df_events['event_name'].mean()"
   ]
  },
  {
   "cell_type": "markdown",
   "metadata": {},
   "source": [
    "В логе 243713 событий - 5 уникальных. \n",
    "7551 пользователь. В среднем на пользователя приходится 32 события."
   ]
  },
  {
   "cell_type": "markdown",
   "metadata": {},
   "source": [
    "<div class=\"alert alert-block alert-warning\">\n",
    "\n",
    "**Комментарий ревьювера (что можно улучшить)**\n",
    "    \n",
    "Можно дополнительно изучить распределение количества событий по каждому пользователю и показать это на гистограмме распределения.\n",
    "</div>"
   ]
  },
  {
   "cell_type": "markdown",
   "metadata": {},
   "source": [
    "Найдём максимальную и минимальную дату."
   ]
  },
  {
   "cell_type": "code",
   "execution_count": 13,
   "metadata": {},
   "outputs": [
    {
     "name": "stdout",
     "output_type": "stream",
     "text": [
      "2019-07-25\n",
      "2019-08-07\n"
     ]
    }
   ],
   "source": [
    "print(df['date'].min())\n",
    "print(df['date'].max())"
   ]
  },
  {
   "cell_type": "code",
   "execution_count": 14,
   "metadata": {},
   "outputs": [
    {
     "data": {
      "image/png": "[encoded data removed]",
      "text/plain": [
       "<Figure size 432x288 with 1 Axes>"
      ]
     },
     "metadata": {
      "needs_background": "light"
     },
     "output_type": "display_data"
    }
   ],
   "source": [
    "#Построим гистограмму событий по дате\n",
    "df['date'].hist(bins = 27).set_title('Гистограмма по дате')\n",
    "plt.xlabel(\"Дата\")\n",
    "plt.ylabel(\"Количесвто событий\")\n",
    "plt.xticks(rotation=60) \n",
    "plt.show()"
   ]
  },
  {
   "cell_type": "markdown",
   "metadata": {},
   "source": [
    "По гистограмме видно, что полные данные имеются с 1 августа 2019 года. Отбросим более ранние даты."
   ]
  },
  {
   "cell_type": "code",
   "execution_count": 15,
   "metadata": {},
   "outputs": [
    {
     "data": {
      "image/png": "[encoded data removed]",
      "text/plain": [
       "<Figure size 432x288 with 1 Axes>"
      ]
     },
     "metadata": {
      "needs_background": "light"
     },
     "output_type": "display_data"
    }
   ],
   "source": [
    "df['date'] = pd.to_datetime(df['date'])\n",
    "df_new = df.query('date > \"2019-07-31\"')\n",
    "df_new['date'].hist(bins = 13).set_title('Гистограмма по дате')\n",
    "plt.xlabel(\"Дата\")\n",
    "plt.ylabel(\"Количесвто событий\")\n",
    "plt.xticks(rotation=50) \n",
    "plt.show()"
   ]
  },
  {
   "cell_type": "markdown",
   "metadata": {},
   "source": [
    "<div class=\"alert alert-block alert-success\">\n",
    "\n",
    "**Комментарий ревьювера (все отлично)**\n",
    "    \n",
    "Визуализация на хорошем уровне. Здорово, что уделяешь внимание оформлению графиков.\n",
    "    \n",
    "Предлагаю изучить интересные методы по визуализации. Прикрепляю несколько интересных ссылок:\n",
    "   \n",
    "\n",
    "https://coderlessons.com/tutorials/python-technologies/izuchai-siborna/siborn-kratkoe-rukovodstvo\n",
    "\n",
    "https://tproger.ru/translations/python-data-vizualization/\n",
    "</div>"
   ]
  },
  {
   "cell_type": "code",
   "execution_count": 16,
   "metadata": {},
   "outputs": [
    {
     "name": "stdout",
     "output_type": "stream",
     "text": [
      "В срез не вошло 2826 событий.\n",
      "Процент потерь по событиям - 1.2%\n"
     ]
    }
   ],
   "source": [
    "old_df = df.query('date <= \"2019-07-31\"')\n",
    "count_old_df = old_df['device_id'].count()\n",
    "print(f\"В срез не вошло {count_old_df} событий.\")\n",
    "print(f\"Процент потерь по событиям - {count_old_df/len(df):.1%}\")"
   ]
  },
  {
   "cell_type": "code",
   "execution_count": null,
   "metadata": {},
   "outputs": [],
   "source": []
  },
  {
   "cell_type": "markdown",
   "metadata": {},
   "source": [
    "<div class=\"alert alert-block alert-danger\">\n",
    "    \n",
    "**Комментарий ревьювера (недочет, который нужно доработать)**\n",
    "    \n",
    "1) Для точной оценки потерь после фильтрации рекомендуется считать относительные показатели, поэтому дополни расчет потерь по событиям в процентах.\n",
    "    \n",
    "2) Посчитай также потери по уникальным пользователям в процентах и количестве в коде.\n",
    "</div>"
   ]
  },
  {
   "cell_type": "markdown",
   "metadata": {},
   "source": [
    "<div class=\"alert alert-block alert-info\">\n",
    "<b> Сделано! </b>\n",
    "</div>"
   ]
  },
  {
   "cell_type": "markdown",
   "metadata": {},
   "source": [
    "<div class=\"alert alert-block alert-danger\">\n",
    "    \n",
    "**Комментарий ревьювера v2 (недочет, который нужно доработать)**\n",
    "    \n",
    "Расчёт потерь по пользователям выполнен некорректно, так как ты не учитываешь, что пользователи из первой недели могли совершать события во второй неделе. Сравни количество пользователей до и после фильтрации.\n",
    "</div>"
   ]
  },
  {
   "cell_type": "markdown",
   "metadata": {},
   "source": [
    "<div class=\"alert alert-block alert-info\">\n",
    "<b> Поправила </b>\n",
    "</div>"
   ]
  },
  {
   "cell_type": "code",
   "execution_count": 17,
   "metadata": {},
   "outputs": [
    {
     "data": {
      "text/plain": [
       "17"
      ]
     },
     "execution_count": 17,
     "metadata": {},
     "output_type": "execute_result"
    }
   ],
   "source": [
    "old_df_cleaned = old_df[~old_df['device_id'].isin(df_new['device_id'])]\n",
    "old_df_cleaned['device_id'].nunique()"
   ]
  },
  {
   "cell_type": "code",
   "execution_count": 18,
   "metadata": {},
   "outputs": [
    {
     "name": "stdout",
     "output_type": "stream",
     "text": [
      "Количество уникальных отброшенных пользователей - 17\n",
      "Процент уникальных отброшенных пользователей - 0.2%\n"
     ]
    }
   ],
   "source": [
    "print(f\"Количество уникальных отброшенных пользователей - {old_df_cleaned['device_id'].nunique()}\")\n",
    "print(f\"Процент уникальных отброшенных пользователей - {old_df_cleaned['device_id'].nunique()/df['device_id'].nunique():.1%}\")"
   ]
  },
  {
   "cell_type": "markdown",
   "metadata": {},
   "source": [
    "<div class=\"alert alert-block alert-success\">\n",
    "\n",
    "**Комментарий ревьювера v3 (все отлично)**\n",
    "    \n",
    "Верно, потери совсем незначительны👍\n",
    "</div>"
   ]
  },
  {
   "cell_type": "code",
   "execution_count": 19,
   "metadata": {},
   "outputs": [
    {
     "data": {
      "text/plain": [
       "248    84563\n",
       "246    79302\n",
       "247    77022\n",
       "Name: experiment_id, dtype: int64"
      ]
     },
     "execution_count": 19,
     "metadata": {},
     "output_type": "execute_result"
    }
   ],
   "source": [
    "df_new['experiment_id'].value_counts()"
   ]
  },
  {
   "cell_type": "markdown",
   "metadata": {},
   "source": [
    "В срез вошли пользователи из всех экспериментальных групп."
   ]
  },
  {
   "cell_type": "markdown",
   "metadata": {},
   "source": [
    "#### Вывод:"
   ]
  },
  {
   "cell_type": "markdown",
   "metadata": {},
   "source": [
    "Во 2-ом пункте были изучены данные.\n",
    "\n",
    "Всего в логе 243713 событий, из них 5 уникальных.\n",
    "Уникальных пользователей в логе - 7551.\n",
    "В среднем на пользователя приходится 32 события.\n",
    "\n",
    "Минимальная дата события - 2019-07-25, максимальная - 2019-08-07.\n",
    "\n",
    "Из датасета был выделен срез с полными данными - с 2019-08-01 до 2019-08-07.\n",
    "В срез не вошло 2826 событий. Всех экспериментальные группы попали в срез."
   ]
  },
  {
   "cell_type": "markdown",
   "metadata": {},
   "source": [
    "### Воронка событий"
   ]
  },
  {
   "cell_type": "markdown",
   "metadata": {},
   "source": [
    "Посчитаем, сколько пользователей совершали каждое из этих событий."
   ]
  },
  {
   "cell_type": "code",
   "execution_count": 20,
   "metadata": {},
   "outputs": [
    {
     "data": {
      "text/plain": [
       "MainScreenAppear           117328\n",
       "OffersScreenAppear          46333\n",
       "CartScreenAppear            42303\n",
       "PaymentScreenSuccessful     33918\n",
       "Tutorial                     1005\n",
       "Name: event_name, dtype: int64"
      ]
     },
     "execution_count": 20,
     "metadata": {},
     "output_type": "execute_result"
    }
   ],
   "source": [
    "df_new['event_name'].value_counts()"
   ]
  },
  {
   "cell_type": "markdown",
   "metadata": {},
   "source": [
    "Доля пользователей, которые хоть раз совершали событие."
   ]
  },
  {
   "cell_type": "code",
   "execution_count": 21,
   "metadata": {},
   "outputs": [
    {
     "data": {
      "text/html": [
       "<div>\n",
       "<style scoped>\n",
       "    .dataframe tbody tr th:only-of-type {\n",
       "        vertical-align: middle;\n",
       "    }\n",
       "\n",
       "    .dataframe tbody tr th {\n",
       "        vertical-align: top;\n",
       "    }\n",
       "\n",
       "    .dataframe thead th {\n",
       "        text-align: right;\n",
       "    }\n",
       "</style>\n",
       "<table border=\"1\" class=\"dataframe\">\n",
       "  <thead>\n",
       "    <tr style=\"text-align: right;\">\n",
       "      <th></th>\n",
       "      <th>device_id</th>\n",
       "      <th>%</th>\n",
       "    </tr>\n",
       "    <tr>\n",
       "      <th>event_name</th>\n",
       "      <th></th>\n",
       "      <th></th>\n",
       "    </tr>\n",
       "  </thead>\n",
       "  <tbody>\n",
       "    <tr>\n",
       "      <th>MainScreenAppear</th>\n",
       "      <td>7419</td>\n",
       "      <td>98.5</td>\n",
       "    </tr>\n",
       "    <tr>\n",
       "      <th>OffersScreenAppear</th>\n",
       "      <td>4593</td>\n",
       "      <td>61.0</td>\n",
       "    </tr>\n",
       "    <tr>\n",
       "      <th>CartScreenAppear</th>\n",
       "      <td>3734</td>\n",
       "      <td>49.6</td>\n",
       "    </tr>\n",
       "    <tr>\n",
       "      <th>PaymentScreenSuccessful</th>\n",
       "      <td>3539</td>\n",
       "      <td>47.0</td>\n",
       "    </tr>\n",
       "    <tr>\n",
       "      <th>Tutorial</th>\n",
       "      <td>840</td>\n",
       "      <td>11.1</td>\n",
       "    </tr>\n",
       "  </tbody>\n",
       "</table>\n",
       "</div>"
      ],
      "text/plain": [
       "                         device_id     %\n",
       "event_name                              \n",
       "MainScreenAppear              7419  98.5\n",
       "OffersScreenAppear            4593  61.0\n",
       "CartScreenAppear              3734  49.6\n",
       "PaymentScreenSuccessful       3539  47.0\n",
       "Tutorial                       840  11.1"
      ]
     },
     "execution_count": 21,
     "metadata": {},
     "output_type": "execute_result"
    }
   ],
   "source": [
    "df_events = df_new.pivot_table(\n",
    "    index='event_name',\n",
    "    values='device_id',\n",
    "    aggfunc='nunique').sort_values(\n",
    "    by = 'device_id', \n",
    "    ascending = False)\n",
    "\n",
    "df_events['%'] = round(df_events['device_id']/len(df_new['device_id'].unique()), 3) * 100\n",
    "df_events"
   ]
  },
  {
   "cell_type": "markdown",
   "metadata": {},
   "source": [
    "<div class=\"alert alert-block alert-warning\">\n",
    "\n",
    "**Комментарий ревьювера (что можно улучшить)**\n",
    "    \n",
    "Как думаешь, почему около 1,5% пользователей миновали главный экран?\n",
    "</div>"
   ]
  },
  {
   "cell_type": "markdown",
   "metadata": {},
   "source": [
    "<div class=\"alert alert-block alert-info\">\n",
    "<b> Обычно, когда пользователь переходит по рекламным ссылкам, то сразу попадает на страницу с предложением, минуя главный экран. </b>\n",
    "</div>"
   ]
  },
  {
   "cell_type": "markdown",
   "metadata": {},
   "source": [
    "<div class=\"alert alert-block alert-success\">\n",
    "\n",
    "**Комментарий ревьювера v2 (все отлично)**\n",
    "    \n",
    "Согласен с ответом👍\n",
    "</div>"
   ]
  },
  {
   "cell_type": "markdown",
   "metadata": {},
   "source": [
    "Порядок событий:\n",
    "- MainScreenAppear - просмотр главной страницы\n",
    "- OffersScreenAppear - просмотр страницы предложений\n",
    "- CartScreenAppear - просмотр корзины\n",
    "- PaymentScreenSuccessful - переход на страницу успешной оплаты\n",
    "- Tutorial - просмотр обучающей информации для новых пользователей\n",
    "\n",
    "Последовательная цепочка выстраивается из первых четырех событий. \n",
    "Скорее всего обучение не является обязательным этапом."
   ]
  },
  {
   "cell_type": "markdown",
   "metadata": {},
   "source": [
    "<div class=\"alert alert-block alert-success\">\n",
    "\n",
    "**Комментарий ревьювера (все отлично)**\n",
    "    \n",
    "Согласен с решением не включать tutorial в воронку. Это событие обычно можно пройти по желанию и на любом этапе.\n",
    "</div>"
   ]
  },
  {
   "cell_type": "code",
   "execution_count": 22,
   "metadata": {},
   "outputs": [
    {
     "data": {
      "text/html": [
       "<div>\n",
       "<style scoped>\n",
       "    .dataframe tbody tr th:only-of-type {\n",
       "        vertical-align: middle;\n",
       "    }\n",
       "\n",
       "    .dataframe tbody tr th {\n",
       "        vertical-align: top;\n",
       "    }\n",
       "\n",
       "    .dataframe thead th {\n",
       "        text-align: right;\n",
       "    }\n",
       "</style>\n",
       "<table border=\"1\" class=\"dataframe\">\n",
       "  <thead>\n",
       "    <tr style=\"text-align: right;\">\n",
       "      <th></th>\n",
       "      <th>device_id</th>\n",
       "      <th>conversion</th>\n",
       "    </tr>\n",
       "    <tr>\n",
       "      <th>event_name</th>\n",
       "      <th></th>\n",
       "      <th></th>\n",
       "    </tr>\n",
       "  </thead>\n",
       "  <tbody>\n",
       "    <tr>\n",
       "      <th>MainScreenAppear</th>\n",
       "      <td>7419</td>\n",
       "      <td>100.0</td>\n",
       "    </tr>\n",
       "    <tr>\n",
       "      <th>OffersScreenAppear</th>\n",
       "      <td>4593</td>\n",
       "      <td>61.9</td>\n",
       "    </tr>\n",
       "    <tr>\n",
       "      <th>CartScreenAppear</th>\n",
       "      <td>3734</td>\n",
       "      <td>81.3</td>\n",
       "    </tr>\n",
       "    <tr>\n",
       "      <th>PaymentScreenSuccessful</th>\n",
       "      <td>3539</td>\n",
       "      <td>94.8</td>\n",
       "    </tr>\n",
       "    <tr>\n",
       "      <th>Tutorial</th>\n",
       "      <td>840</td>\n",
       "      <td>23.7</td>\n",
       "    </tr>\n",
       "  </tbody>\n",
       "</table>\n",
       "</div>"
      ],
      "text/plain": [
       "                         device_id  conversion\n",
       "event_name                                    \n",
       "MainScreenAppear              7419       100.0\n",
       "OffersScreenAppear            4593        61.9\n",
       "CartScreenAppear              3734        81.3\n",
       "PaymentScreenSuccessful       3539        94.8\n",
       "Tutorial                       840        23.7"
      ]
     },
     "execution_count": 22,
     "metadata": {},
     "output_type": "execute_result"
    }
   ],
   "source": [
    "df_events.loc[:, 'shift'] = df_events['device_id'].shift(1, fill_value=df_events['device_id'].iloc[0])\n",
    "\n",
    "df_events['conversion'] = round(df_events['device_id']/df_events['shift']*100, 1)\n",
    "\n",
    "df_events = df_events[['device_id', 'conversion']]\n",
    "df_events"
   ]
  },
  {
   "cell_type": "markdown",
   "metadata": {},
   "source": [
    "Большинство пользователей теряется после первого шага - 38%."
   ]
  },
  {
   "cell_type": "code",
   "execution_count": 23,
   "metadata": {},
   "outputs": [
    {
     "data": {
      "text/plain": [
       "48.0"
      ]
     },
     "execution_count": 23,
     "metadata": {},
     "output_type": "execute_result"
    }
   ],
   "source": [
    "round(df_events['device_id'].iloc[3]/df_events['device_id'].iloc[0], 2)*100"
   ]
  },
  {
   "cell_type": "markdown",
   "metadata": {},
   "source": [
    "От первого события до оплаты доходит 48% пользователей."
   ]
  },
  {
   "cell_type": "markdown",
   "metadata": {},
   "source": [
    "#### Вывод:"
   ]
  },
  {
   "cell_type": "markdown",
   "metadata": {},
   "source": [
    "В 3-ем пункте была изучена воронка событий.\n",
    "\n",
    "Посчитано: \n",
    "- количество пользователей на каждом событии;\n",
    "- доля пользователей, которые хоть раз совершали событие.\n",
    "\n",
    "Предположительный порядок событий:\n",
    "- MainScreenAppear - просмотр главной страницы\n",
    "- OffersScreenAppear - просмотр страницы предложений\n",
    "- CartScreenAppear - просмотр корзины\n",
    "- PaymentScreenSuccessful - переход на страницу успешной оплаты\n",
    "- Tutorial - просмотр обучающей информации для новых пользователей\n",
    "\n",
    "Последовательная цепочка выстраивается из первых четырех событий. Скорее всего обучение не является обязательным этапом.\n",
    "\n",
    "Большинство пользователей теряется после первого события - 38%, а от первого события до оплаты доходит 48% пользователей."
   ]
  },
  {
   "cell_type": "markdown",
   "metadata": {},
   "source": [
    "<div class=\"alert alert-block alert-success\">\n",
    "\n",
    "**Комментарий ревьювера (все отлично)**\n",
    "    \n",
    "По выводам все хорошо.\n",
    "    \n",
    "После первого события теряется больше всего пользователей. Около половины клиентов доходит с первого этапа до последнего.\n",
    "</div>"
   ]
  },
  {
   "cell_type": "markdown",
   "metadata": {},
   "source": [
    "### Изучение результатов эксперимента"
   ]
  },
  {
   "cell_type": "code",
   "execution_count": 24,
   "metadata": {},
   "outputs": [
    {
     "data": {
      "text/html": [
       "<div>\n",
       "<style scoped>\n",
       "    .dataframe tbody tr th:only-of-type {\n",
       "        vertical-align: middle;\n",
       "    }\n",
       "\n",
       "    .dataframe tbody tr th {\n",
       "        vertical-align: top;\n",
       "    }\n",
       "\n",
       "    .dataframe thead th {\n",
       "        text-align: right;\n",
       "    }\n",
       "</style>\n",
       "<table border=\"1\" class=\"dataframe\">\n",
       "  <thead>\n",
       "    <tr style=\"text-align: right;\">\n",
       "      <th></th>\n",
       "      <th>device_id</th>\n",
       "    </tr>\n",
       "    <tr>\n",
       "      <th>experiment_id</th>\n",
       "      <th></th>\n",
       "    </tr>\n",
       "  </thead>\n",
       "  <tbody>\n",
       "    <tr>\n",
       "      <th>246</th>\n",
       "      <td>2484</td>\n",
       "    </tr>\n",
       "    <tr>\n",
       "      <th>247</th>\n",
       "      <td>2513</td>\n",
       "    </tr>\n",
       "    <tr>\n",
       "      <th>248</th>\n",
       "      <td>2537</td>\n",
       "    </tr>\n",
       "  </tbody>\n",
       "</table>\n",
       "</div>"
      ],
      "text/plain": [
       "               device_id\n",
       "experiment_id           \n",
       "246                 2484\n",
       "247                 2513\n",
       "248                 2537"
      ]
     },
     "execution_count": 24,
     "metadata": {},
     "output_type": "execute_result"
    }
   ],
   "source": [
    "#количество пользователей в каждой экспериментальной группе\n",
    "df_experiment = df_new.pivot_table(index='experiment_id',values='device_id',aggfunc='nunique') \n",
    "df_experiment "
   ]
  },
  {
   "cell_type": "code",
   "execution_count": 25,
   "metadata": {
    "scrolled": true
   },
   "outputs": [
    {
     "data": {
      "text/html": [
       "<div>\n",
       "<style scoped>\n",
       "    .dataframe tbody tr th:only-of-type {\n",
       "        vertical-align: middle;\n",
       "    }\n",
       "\n",
       "    .dataframe tbody tr th {\n",
       "        vertical-align: top;\n",
       "    }\n",
       "\n",
       "    .dataframe thead th {\n",
       "        text-align: right;\n",
       "    }\n",
       "</style>\n",
       "<table border=\"1\" class=\"dataframe\">\n",
       "  <thead>\n",
       "    <tr style=\"text-align: right;\">\n",
       "      <th></th>\n",
       "      <th>CartScreenAppear</th>\n",
       "      <th>MainScreenAppear</th>\n",
       "      <th>OffersScreenAppear</th>\n",
       "      <th>PaymentScreenSuccessful</th>\n",
       "      <th>Tutorial</th>\n",
       "      <th>count</th>\n",
       "    </tr>\n",
       "    <tr>\n",
       "      <th>experiment_id</th>\n",
       "      <th></th>\n",
       "      <th></th>\n",
       "      <th></th>\n",
       "      <th></th>\n",
       "      <th></th>\n",
       "      <th></th>\n",
       "    </tr>\n",
       "  </thead>\n",
       "  <tbody>\n",
       "    <tr>\n",
       "      <th>246</th>\n",
       "      <td>1266</td>\n",
       "      <td>2450</td>\n",
       "      <td>1542</td>\n",
       "      <td>1200</td>\n",
       "      <td>278</td>\n",
       "      <td>2484</td>\n",
       "    </tr>\n",
       "    <tr>\n",
       "      <th>247</th>\n",
       "      <td>1238</td>\n",
       "      <td>2476</td>\n",
       "      <td>1520</td>\n",
       "      <td>1158</td>\n",
       "      <td>283</td>\n",
       "      <td>2513</td>\n",
       "    </tr>\n",
       "    <tr>\n",
       "      <th>248</th>\n",
       "      <td>1230</td>\n",
       "      <td>2493</td>\n",
       "      <td>1531</td>\n",
       "      <td>1181</td>\n",
       "      <td>279</td>\n",
       "      <td>2537</td>\n",
       "    </tr>\n",
       "  </tbody>\n",
       "</table>\n",
       "</div>"
      ],
      "text/plain": [
       "               CartScreenAppear  MainScreenAppear  OffersScreenAppear  \\\n",
       "experiment_id                                                           \n",
       "246                        1266              2450                1542   \n",
       "247                        1238              2476                1520   \n",
       "248                        1230              2493                1531   \n",
       "\n",
       "               PaymentScreenSuccessful  Tutorial  count  \n",
       "experiment_id                                            \n",
       "246                               1200       278   2484  \n",
       "247                               1158       283   2513  \n",
       "248                               1181       279   2537  "
      ]
     },
     "execution_count": 25,
     "metadata": {},
     "output_type": "execute_result"
    }
   ],
   "source": [
    "df_group = df_new.pivot_table(\n",
    "    index = 'experiment_id', \n",
    "    columns = 'event_name', \n",
    "    values = 'device_id',\n",
    "    aggfunc = 'nunique') \n",
    "\n",
    "df_group2 = pd.merge(df_group, df_experiment, left_index=True, right_index=True)\n",
    "df_group2.columns = ['CartScreenAppear', 'MainScreenAppear', 'OffersScreenAppear', 'PaymentScreenSuccessful', 'Tutorial', 'count']\n",
    "\n",
    "df_group2"
   ]
  },
  {
   "cell_type": "markdown",
   "metadata": {},
   "source": [
    "<div class=\"alert alert-block alert-warning\">\n",
    "\n",
    "**Комментарий ревьювера (что можно улучшить)**\n",
    "\n",
    "Вот тут здорово бы подошла воронка с разбивкой по группам и событиям (без tutorial). Это бы показало примерное равенство между группами наглядно.\n",
    "    \n",
    "Прикрепляю пример визуализации, который можно адаптировать под этот проект https://plotly.com/python/funnel-charts/#stacked-funnel-plot-with-gofunnel\n",
    "    \n",
    "</div>\n"
   ]
  },
  {
   "cell_type": "markdown",
   "metadata": {},
   "source": [
    "Самым популярным событием в каждой группе является MainScreenAppear - просмотр главной страницы."
   ]
  },
  {
   "cell_type": "markdown",
   "metadata": {},
   "source": [
    "#### Проверка гипотез при уровне значимости 0.1"
   ]
  },
  {
   "cell_type": "markdown",
   "metadata": {},
   "source": [
    "**H0:Между долями статистической значимой разницы нет;**\n",
    "\n",
    "**H1:Между долями статистическая значимая разница есть.**"
   ]
  },
  {
   "cell_type": "markdown",
   "metadata": {},
   "source": [
    "<div class=\"alert alert-block alert-success\">\n",
    "\n",
    "**Комментарий ревьювера (все отлично)**\n",
    "    \n",
    "Гипотезы верно сформулированы👍\n",
    "</div>"
   ]
  },
  {
   "cell_type": "markdown",
   "metadata": {},
   "source": [
    "<div class=\"alert alert-block alert-danger\">\n",
    "    \n",
    "**Комментарий ревьювера (недочет, который нужно доработать)**\n",
    "    \n",
    "Каким статистическим тестом проверяются гипотезы?\n",
    "</div>"
   ]
  },
  {
   "cell_type": "markdown",
   "metadata": {},
   "source": [
    "<div class=\"alert alert-block alert-info\">\n",
    "<b> Для проверки гипотез о равенстве долей двух групп используем Z-тест. \n",
    "\n",
    "*Он применяется, когда необходимо проверить, есть ли значимая разница между долями двух групп.* </b>\n",
    "</div>\n",
    "\n"
   ]
  },
  {
   "cell_type": "markdown",
   "metadata": {},
   "source": [
    "<div class=\"alert alert-block alert-success\">\n",
    "\n",
    "**Комментарий ревьювера v2 (все отлично)**\n",
    "    \n",
    "Основные параметры проверки гипотез отражены👍\n",
    "</div>"
   ]
  },
  {
   "cell_type": "code",
   "execution_count": 26,
   "metadata": {},
   "outputs": [],
   "source": [
    "# Функция для проверки гипотез\n",
    "def return_hypothesis_test (success, trials, alpha):\n",
    "    # пропорция успехов в первой группе\n",
    "    p1 = success[0] / trials[0]\n",
    "    # пропорция успехов во второй группе\n",
    "    p2 = success[1] / trials[1]\n",
    "    # пропорция успехов \n",
    "    p_combined = (success[0] + success[1]) / (trials[0] + trials[1])\n",
    "    # разница пропорций \n",
    "    difference = p1 - p2\n",
    " \n",
    "    z_value = difference / mth.sqrt(p_combined *(1-p_combined) * (1/trials[0] + 1/trials[1]))\n",
    "    \n",
    "    distr = st.norm(0, 1) \n",
    "    \n",
    "    p_value = (1 - distr.cdf(abs(z_value))) * 2\n",
    "    \n",
    "    print('p-значение: ', p_value)\n",
    "    \n",
    "    if (p_value < alpha):\n",
    "        print(\"Отвергаем нулевую гипотезу: между долями есть значимая разница\")\n",
    "        print('')\n",
    "    else:\n",
    "        print(\"Не получилось отвергнуть нулевую гипотезу, нет оснований считать доли разными\")\n",
    "        print('')\n"
   ]
  },
  {
   "cell_type": "markdown",
   "metadata": {},
   "source": [
    "<div class=\"alert alert-block alert-success\">\n",
    "\n",
    "**Комментарий ревьювера (все отлично)**\n",
    "    \n",
    "Правильно, что создала функцию для проведения теста. Действительно, тестов проводить много, так что она не будет лишней.  \n",
    "</div>"
   ]
  },
  {
   "cell_type": "code",
   "execution_count": 27,
   "metadata": {},
   "outputs": [],
   "source": [
    "# Напишем функцию, которая на вход получает порядковый номер группы в таблице и параметр альфа, и возвращает результаты проверки гипотез\n",
    "def automation (group1, group2, alpha):\n",
    "    alpha_test = alpha\n",
    "    count_users = ([df_group2['count'][group1], df_group2['count'][group2]])\n",
    "    count_MainScreenAppear = ([df_group2['MainScreenAppear'][group1], df_group2['MainScreenAppear'][group2]])\n",
    "    count_OffersScreenAppear = ([df_group2['OffersScreenAppear'][group1], df_group2['OffersScreenAppear'][group2]])\n",
    "    count_CartScreenAppear = ([df_group2['CartScreenAppear'][group1], df_group2['CartScreenAppear'][group2]])\n",
    "    count_PaymentScreenSuccessful = ([df_group2['PaymentScreenSuccessful'][group1], df_group2['PaymentScreenSuccessful'][group2]])\n",
    "    \n",
    "    print('MainScreenAppear')\n",
    "    return_hypothesis_test(count_MainScreenAppear, count_users, alpha_test)\n",
    "    \n",
    "    print('OffersScreenAppear')\n",
    "    return_hypothesis_test(count_OffersScreenAppear, count_users, alpha_test)\n",
    "    \n",
    "    print('CartScreenAppear')\n",
    "    return_hypothesis_test(count_CartScreenAppear, count_users, alpha_test)\n",
    "    \n",
    "    print('PaymentScreenSuccessful')\n",
    "    return_hypothesis_test(count_PaymentScreenSuccessful, count_users, alpha_test)"
   ]
  },
  {
   "cell_type": "code",
   "execution_count": 28,
   "metadata": {},
   "outputs": [
    {
     "name": "stdout",
     "output_type": "stream",
     "text": [
      "MainScreenAppear\n",
      "p-значение:  0.7570597232046099\n",
      "Не получилось отвергнуть нулевую гипотезу, нет оснований считать доли разными\n",
      "\n",
      "OffersScreenAppear\n",
      "p-значение:  0.2480954578522181\n",
      "Не получилось отвергнуть нулевую гипотезу, нет оснований считать доли разными\n",
      "\n",
      "CartScreenAppear\n",
      "p-значение:  0.22883372237997213\n",
      "Не получилось отвергнуть нулевую гипотезу, нет оснований считать доли разными\n",
      "\n",
      "PaymentScreenSuccessful\n",
      "p-значение:  0.11456679313141849\n",
      "Не получилось отвергнуть нулевую гипотезу, нет оснований считать доли разными\n",
      "\n"
     ]
    }
   ],
   "source": [
    "automation (246, 247, 0.1)"
   ]
  },
  {
   "cell_type": "markdown",
   "metadata": {},
   "source": [
    "Из проверки гипотез видно, что нет оснований считать контрольные выборки групп 246 и 247 разными. Равные доли говорят о том, что контрольные группы выбраны верны."
   ]
  },
  {
   "cell_type": "markdown",
   "metadata": {},
   "source": [
    "<div class=\"alert alert-block alert-success\">\n",
    "\n",
    "**Комментарий ревьювера (все отлично)**\n",
    "    \n",
    "Все верно, такой результат и ожидался. Разбиение прошло корректно и можно смело приступать к А/В тесту.\n",
    "    \n",
    "</div>"
   ]
  },
  {
   "cell_type": "code",
   "execution_count": 29,
   "metadata": {},
   "outputs": [
    {
     "data": {
      "text/html": [
       "<div>\n",
       "<style scoped>\n",
       "    .dataframe tbody tr th:only-of-type {\n",
       "        vertical-align: middle;\n",
       "    }\n",
       "\n",
       "    .dataframe tbody tr th {\n",
       "        vertical-align: top;\n",
       "    }\n",
       "\n",
       "    .dataframe thead th {\n",
       "        text-align: right;\n",
       "    }\n",
       "</style>\n",
       "<table border=\"1\" class=\"dataframe\">\n",
       "  <thead>\n",
       "    <tr style=\"text-align: right;\">\n",
       "      <th></th>\n",
       "      <th>CartScreenAppear</th>\n",
       "      <th>MainScreenAppear</th>\n",
       "      <th>OffersScreenAppear</th>\n",
       "      <th>PaymentScreenSuccessful</th>\n",
       "      <th>Tutorial</th>\n",
       "      <th>count</th>\n",
       "    </tr>\n",
       "    <tr>\n",
       "      <th>experiment_id</th>\n",
       "      <th></th>\n",
       "      <th></th>\n",
       "      <th></th>\n",
       "      <th></th>\n",
       "      <th></th>\n",
       "      <th></th>\n",
       "    </tr>\n",
       "  </thead>\n",
       "  <tbody>\n",
       "    <tr>\n",
       "      <th>246</th>\n",
       "      <td>1266</td>\n",
       "      <td>2450</td>\n",
       "      <td>1542</td>\n",
       "      <td>1200</td>\n",
       "      <td>278</td>\n",
       "      <td>2484</td>\n",
       "    </tr>\n",
       "    <tr>\n",
       "      <th>247</th>\n",
       "      <td>1238</td>\n",
       "      <td>2476</td>\n",
       "      <td>1520</td>\n",
       "      <td>1158</td>\n",
       "      <td>283</td>\n",
       "      <td>2513</td>\n",
       "    </tr>\n",
       "    <tr>\n",
       "      <th>248</th>\n",
       "      <td>1230</td>\n",
       "      <td>2493</td>\n",
       "      <td>1531</td>\n",
       "      <td>1181</td>\n",
       "      <td>279</td>\n",
       "      <td>2537</td>\n",
       "    </tr>\n",
       "    <tr>\n",
       "      <th>249</th>\n",
       "      <td>2504</td>\n",
       "      <td>4926</td>\n",
       "      <td>3062</td>\n",
       "      <td>2358</td>\n",
       "      <td>561</td>\n",
       "      <td>4997</td>\n",
       "    </tr>\n",
       "  </tbody>\n",
       "</table>\n",
       "</div>"
      ],
      "text/plain": [
       "               CartScreenAppear  MainScreenAppear  OffersScreenAppear  \\\n",
       "experiment_id                                                           \n",
       "246                        1266              2450                1542   \n",
       "247                        1238              2476                1520   \n",
       "248                        1230              2493                1531   \n",
       "249                        2504              4926                3062   \n",
       "\n",
       "               PaymentScreenSuccessful  Tutorial  count  \n",
       "experiment_id                                            \n",
       "246                               1200       278   2484  \n",
       "247                               1158       283   2513  \n",
       "248                               1181       279   2537  \n",
       "249                               2358       561   4997  "
      ]
     },
     "execution_count": 29,
     "metadata": {},
     "output_type": "execute_result"
    }
   ],
   "source": [
    "#объединим две контрольные группы в группу 249\n",
    "new_row = df_group2.iloc[0] + df_group2.iloc[1]\n",
    "\n",
    "df_group2.loc[249] = new_row\n",
    "\n",
    "df_group2"
   ]
  },
  {
   "cell_type": "code",
   "execution_count": 30,
   "metadata": {},
   "outputs": [
    {
     "name": "stdout",
     "output_type": "stream",
     "text": [
      "MainScreenAppear\n",
      "p-значение:  0.2949721933554552\n",
      "Не получилось отвергнуть нулевую гипотезу, нет оснований считать доли разными\n",
      "\n",
      "OffersScreenAppear\n",
      "p-значение:  0.20836205402738917\n",
      "Не получилось отвергнуть нулевую гипотезу, нет оснований считать доли разными\n",
      "\n",
      "CartScreenAppear\n",
      "p-значение:  0.07842923237520116\n",
      "Отвергаем нулевую гипотезу: между долями есть значимая разница\n",
      "\n",
      "PaymentScreenSuccessful\n",
      "p-значение:  0.2122553275697796\n",
      "Не получилось отвергнуть нулевую гипотезу, нет оснований считать доли разными\n",
      "\n"
     ]
    }
   ],
   "source": [
    "automation (246, 248, 0.1)"
   ]
  },
  {
   "cell_type": "code",
   "execution_count": 31,
   "metadata": {},
   "outputs": [
    {
     "name": "stdout",
     "output_type": "stream",
     "text": [
      "MainScreenAppear\n",
      "p-значение:  0.4587053616621515\n",
      "Не получилось отвергнуть нулевую гипотезу, нет оснований считать доли разными\n",
      "\n",
      "OffersScreenAppear\n",
      "p-значение:  0.9197817830592261\n",
      "Не получилось отвергнуть нулевую гипотезу, нет оснований считать доли разными\n",
      "\n",
      "CartScreenAppear\n",
      "p-значение:  0.5786197879539783\n",
      "Не получилось отвергнуть нулевую гипотезу, нет оснований считать доли разными\n",
      "\n",
      "PaymentScreenSuccessful\n",
      "p-значение:  0.7373415053803964\n",
      "Не получилось отвергнуть нулевую гипотезу, нет оснований считать доли разными\n",
      "\n"
     ]
    }
   ],
   "source": [
    "# Сделаем проверку групп 247 и 248\n",
    "automation (247, 248, 0.1)"
   ]
  },
  {
   "cell_type": "code",
   "execution_count": 32,
   "metadata": {},
   "outputs": [
    {
     "name": "stdout",
     "output_type": "stream",
     "text": [
      "MainScreenAppear\n",
      "p-значение:  0.29424526837179577\n",
      "Не получилось отвергнуть нулевую гипотезу, нет оснований считать доли разными\n",
      "\n",
      "OffersScreenAppear\n",
      "p-значение:  0.43425549655188256\n",
      "Не получилось отвергнуть нулевую гипотезу, нет оснований считать доли разными\n",
      "\n",
      "CartScreenAppear\n",
      "p-значение:  0.18175875284404386\n",
      "Не получилось отвергнуть нулевую гипотезу, нет оснований считать доли разными\n",
      "\n",
      "PaymentScreenSuccessful\n",
      "p-значение:  0.6004294282308704\n",
      "Не получилось отвергнуть нулевую гипотезу, нет оснований считать доли разными\n",
      "\n"
     ]
    }
   ],
   "source": [
    "# Сделаем проверку групп 249 и 248\n",
    "automation (249, 248, 0.1)"
   ]
  },
  {
   "cell_type": "markdown",
   "metadata": {},
   "source": [
    "##### Вывод:"
   ]
  },
  {
   "cell_type": "markdown",
   "metadata": {},
   "source": [
    "Между группой 247 и группой с измененными шрифтами 248 значимых различий нет. А вот между группами 246 и 248 есть значимая разница в доле пользоватей, перешедших к странице корзины. \n",
    "\n",
    "Значимой разницы в переходах объединенной контрольной группы с 248-ой группой нет."
   ]
  },
  {
   "cell_type": "markdown",
   "metadata": {},
   "source": [
    "#### Проверка гипотез при уровне значимости 0.05"
   ]
  },
  {
   "cell_type": "code",
   "execution_count": 33,
   "metadata": {},
   "outputs": [
    {
     "name": "stdout",
     "output_type": "stream",
     "text": [
      "MainScreenAppear\n",
      "p-значение:  0.7570597232046099\n",
      "Не получилось отвергнуть нулевую гипотезу, нет оснований считать доли разными\n",
      "\n",
      "OffersScreenAppear\n",
      "p-значение:  0.2480954578522181\n",
      "Не получилось отвергнуть нулевую гипотезу, нет оснований считать доли разными\n",
      "\n",
      "CartScreenAppear\n",
      "p-значение:  0.22883372237997213\n",
      "Не получилось отвергнуть нулевую гипотезу, нет оснований считать доли разными\n",
      "\n",
      "PaymentScreenSuccessful\n",
      "p-значение:  0.11456679313141849\n",
      "Не получилось отвергнуть нулевую гипотезу, нет оснований считать доли разными\n",
      "\n"
     ]
    }
   ],
   "source": [
    "# Сделаем проверку групп 246 и 247\n",
    "automation (246, 247, 0.05)"
   ]
  },
  {
   "cell_type": "code",
   "execution_count": 34,
   "metadata": {},
   "outputs": [
    {
     "name": "stdout",
     "output_type": "stream",
     "text": [
      "MainScreenAppear\n",
      "p-значение:  0.2949721933554552\n",
      "Не получилось отвергнуть нулевую гипотезу, нет оснований считать доли разными\n",
      "\n",
      "OffersScreenAppear\n",
      "p-значение:  0.20836205402738917\n",
      "Не получилось отвергнуть нулевую гипотезу, нет оснований считать доли разными\n",
      "\n",
      "CartScreenAppear\n",
      "p-значение:  0.07842923237520116\n",
      "Не получилось отвергнуть нулевую гипотезу, нет оснований считать доли разными\n",
      "\n",
      "PaymentScreenSuccessful\n",
      "p-значение:  0.2122553275697796\n",
      "Не получилось отвергнуть нулевую гипотезу, нет оснований считать доли разными\n",
      "\n"
     ]
    }
   ],
   "source": [
    "# Сделаем проверку групп 246 и 248\n",
    "automation (246, 248, 0.05)"
   ]
  },
  {
   "cell_type": "code",
   "execution_count": 35,
   "metadata": {},
   "outputs": [
    {
     "name": "stdout",
     "output_type": "stream",
     "text": [
      "MainScreenAppear\n",
      "p-значение:  0.4587053616621515\n",
      "Не получилось отвергнуть нулевую гипотезу, нет оснований считать доли разными\n",
      "\n",
      "OffersScreenAppear\n",
      "p-значение:  0.9197817830592261\n",
      "Не получилось отвергнуть нулевую гипотезу, нет оснований считать доли разными\n",
      "\n",
      "CartScreenAppear\n",
      "p-значение:  0.5786197879539783\n",
      "Не получилось отвергнуть нулевую гипотезу, нет оснований считать доли разными\n",
      "\n",
      "PaymentScreenSuccessful\n",
      "p-значение:  0.7373415053803964\n",
      "Не получилось отвергнуть нулевую гипотезу, нет оснований считать доли разными\n",
      "\n"
     ]
    }
   ],
   "source": [
    "# Сделаем проверку групп 247 и 248\n",
    "automation (247, 248, 0.05)"
   ]
  },
  {
   "cell_type": "code",
   "execution_count": 36,
   "metadata": {},
   "outputs": [
    {
     "name": "stdout",
     "output_type": "stream",
     "text": [
      "MainScreenAppear\n",
      "p-значение:  0.29424526837179577\n",
      "Не получилось отвергнуть нулевую гипотезу, нет оснований считать доли разными\n",
      "\n",
      "OffersScreenAppear\n",
      "p-значение:  0.43425549655188256\n",
      "Не получилось отвергнуть нулевую гипотезу, нет оснований считать доли разными\n",
      "\n",
      "CartScreenAppear\n",
      "p-значение:  0.18175875284404386\n",
      "Не получилось отвергнуть нулевую гипотезу, нет оснований считать доли разными\n",
      "\n",
      "PaymentScreenSuccessful\n",
      "p-значение:  0.6004294282308704\n",
      "Не получилось отвергнуть нулевую гипотезу, нет оснований считать доли разными\n",
      "\n"
     ]
    }
   ],
   "source": [
    "# Сделаем проверку групп 249 и 248\n",
    "automation (249, 248, 0.05)"
   ]
  },
  {
   "cell_type": "markdown",
   "metadata": {},
   "source": [
    "##### Вывод:"
   ]
  },
  {
   "cell_type": "markdown",
   "metadata": {},
   "source": [
    "При уровне значимости 0.05, нулевая гипотеза не отбрасывается ни при каких тестах. \n",
    "Доли во всех выборках равны. Различий между контрольными группами и тестовой нет."
   ]
  },
  {
   "cell_type": "markdown",
   "metadata": {},
   "source": [
    "<div class=\"alert alert-block alert-warning\">\n",
    "\n",
    "**Комментарий ревьювера (что можно улучшить)**\n",
    "    \n",
    "Проверки проведены корректно.\n",
    "    \n",
    "В случае, когда на одних и тех же данных тестируется несколько гипотез (проводится несколько тестов), лучше проводить коррекцию уровня значимости. Один из вариантов это сделать - поправка Бонферрони. Можешь почитать про нее ([ссылка](https://www.codecamp.ru/blog/bonferroni-correction/)). \n",
    "    \n",
    "</div>"
   ]
  },
  {
   "cell_type": "markdown",
   "metadata": {},
   "source": [
    "### Общий вывод:"
   ]
  },
  {
   "cell_type": "markdown",
   "metadata": {},
   "source": [
    "**Датасет изначально имел 244 126 строк, 4 столбца.**\n",
    "\n",
    "В ходе работы были заменены названия столбцов, изменен формат столбца с датой, удалено 413 строк-дубликатов и добавлен отдельный столбец с датой.\n",
    "\n",
    "После подготовки данных стало 243 713 строк и 5 столбцов:\n",
    "- event_name — название события;\n",
    "- device_id — уникальный идентификатор пользователя;\n",
    "- datetime — дата и время события;\n",
    "- experiment_id — номер эксперимента: 246 и 247 — контрольные группы, а 248 — экспериментальная;\n",
    "- date - дата события."
   ]
  },
  {
   "cell_type": "markdown",
   "metadata": {},
   "source": [
    "Всего в логе 243713 событий, из них 5 уникальных. \n",
    "\n",
    "Уникальных пользователей в логе - 7551. В среднем на пользователя приходится 32 события.\n",
    "\n",
    "Минимальная дата события - 2019-07-25, максимальная - 2019-08-07.\n",
    "\n",
    "Из датасета был выделен срез с полными данными - с 2019-08-01 до 2019-08-07. В срез не вошло 2826 событий. Всех экспериментальные группы попали в срез."
   ]
  },
  {
   "cell_type": "markdown",
   "metadata": {},
   "source": [
    "**Также было посчитано:**\n",
    "- количество пользователей на каждом событии;\n",
    "- доля пользователей, которые хоть раз совершали событие.\n",
    "\n",
    "**Предположительный порядок событий:**\n",
    "- MainScreenAppear - просмотр главной страницы\n",
    "- OffersScreenAppear - просмотр страницы предложений\n",
    "- CartScreenAppear - просмотр корзины\n",
    "- PaymentScreenSuccessful - переход на страницу успешной оплаты\n",
    "- Tutorial - просмотр обучающей информации для новых пользователей\n",
    "Последовательная цепочка выстраивается из первых четырех событий. Скорее всего обучение не является обязательным этапом - отбросили данный этап.\n",
    "\n",
    "Большинство пользователей теряется после первого события - 38%, а от первого события до оплаты доходит 48% пользователей."
   ]
  },
  {
   "cell_type": "markdown",
   "metadata": {},
   "source": [
    "**В работе были проверены гипотезы:**\n",
    "- H0:Между долями статистической значимой разницы нет;\n",
    "- H1:Между долями статистическая значимая разница есть.\n",
    "\n",
    "\n",
    "**Результаты проверок:**\n",
    "\n",
    "- При уровне статистической значимости 0.1, между группой 247 и группой с измененными шрифтами 248 значимых различий нет. А вот между группами 246 и 248 есть значимая разница в доле пользоватей, перешедших к странице корзины. Значимой разницы в переходах объединенной контрольной группы с 248-ой группой нет.\n",
    "\n",
    "- При уровне статистической значимости 0.05, нулевая гипотеза не отбрасывается ни при каких тестах. Доли во всех выборках равны. Различий между контрольными группами и тестовой нет."
   ]
  },
  {
   "cell_type": "markdown",
   "metadata": {},
   "source": [
    "А/В-тесты не обнаружили статистически значимой разницы между группами. \n",
    "Поэтому изменение шрифтов в приложении на поведение пользователей не повлияет."
   ]
  },
  {
   "cell_type": "markdown",
   "metadata": {},
   "source": [
    "<div class=\"alert alert-block alert-success\">\n",
    "\n",
    "**Комментарий ревьювера (все отлично)**\n",
    "    \n",
    "Все результаты проекта отражены.\n",
    "    \n",
    "По тесту. Не выявленно ни положительного, ни отрицательного влияния шрифтов. Т.е., их можно менять, можно оставлять - на продажах это не скажется.\n",
    "    \n",
    "</div>"
   ]
  },
  {
   "cell_type": "markdown",
   "metadata": {},
   "source": [
    "<div class=\"alert alert-block alert-warning\">\n",
    "\n",
    "**Общий комментарий ревьювера**\n",
    "    \n",
    "Юлия, очень хорошая работа! Выводы структурированы и достаточно четко отражают результаты исследования, качественная визуализация данных, корректно проводишь проверку гипотез. Однако в работе есть недочёты, которые нужно исправить для принятия работы:\n",
    "    \n",
    "* проверить пересечение групп;\n",
    "* дополнить расчёт потерь после фильтрации в коде; \n",
    "* указать статистический критерий проверки гипотез.\n",
    "    \n",
    "Спасибо за четкие комментарии по результатам исследования и аккуратный код, это упростило проверку. Еще есть несколько рекомендаций, которые помогут тебе с будущими проектами. Жду твою работу!\n",
    "    \n",
    "В дополнении прикрепляю полезный материал по A/B-тесту: \n",
    "\n",
    "* https://your-scorpion.ru/ab-tests-check-mathematics/\n",
    "\n",
    "</div>\n"
   ]
  },
  {
   "cell_type": "markdown",
   "metadata": {},
   "source": [
    "<div class=\"alert alert-block alert-info\">\n",
    "<b> Спасибо)) </b>\n",
    "</div>"
   ]
  },
  {
   "cell_type": "code",
   "execution_count": null,
   "metadata": {},
   "outputs": [],
   "source": []
  }
 ],
 "metadata": {
  "ExecuteTimeLog": [
   {
    "duration": 47,
    "start_time": "2024-08-08T07:18:46.526Z"
   },
   {
    "duration": 1415,
    "start_time": "2024-08-08T07:18:48.897Z"
   },
   {
    "duration": 1021,
    "start_time": "2024-08-08T07:18:50.738Z"
   },
   {
    "duration": 3,
    "start_time": "2024-08-08T07:19:58.674Z"
   },
   {
    "duration": 22,
    "start_time": "2024-08-08T07:20:12.350Z"
   },
   {
    "duration": 303,
    "start_time": "2024-08-08T07:20:42.887Z"
   },
   {
    "duration": 57,
    "start_time": "2024-08-08T07:22:46.671Z"
   },
   {
    "duration": 107,
    "start_time": "2024-08-08T07:23:08.431Z"
   },
   {
    "duration": 127,
    "start_time": "2024-08-08T07:25:05.144Z"
   },
   {
    "duration": 121,
    "start_time": "2024-08-08T07:25:22.712Z"
   },
   {
    "duration": 94,
    "start_time": "2024-08-08T07:25:35.440Z"
   },
   {
    "duration": 74,
    "start_time": "2024-08-08T07:25:48.024Z"
   },
   {
    "duration": 28,
    "start_time": "2024-08-08T07:29:10.733Z"
   },
   {
    "duration": 157,
    "start_time": "2024-08-08T07:30:27.287Z"
   },
   {
    "duration": 34,
    "start_time": "2024-08-08T07:30:39.490Z"
   },
   {
    "duration": 60,
    "start_time": "2024-08-08T07:31:28.236Z"
   },
   {
    "duration": 14,
    "start_time": "2024-08-08T07:31:58.474Z"
   },
   {
    "duration": 220,
    "start_time": "2024-08-08T07:34:28.604Z"
   },
   {
    "duration": 209,
    "start_time": "2024-08-08T07:34:56.311Z"
   },
   {
    "duration": 203,
    "start_time": "2024-08-08T07:35:03.284Z"
   },
   {
    "duration": 197,
    "start_time": "2024-08-08T07:35:15.348Z"
   },
   {
    "duration": 242,
    "start_time": "2024-08-08T07:35:28.652Z"
   },
   {
    "duration": 57,
    "start_time": "2024-08-08T07:35:42.288Z"
   },
   {
    "duration": 4,
    "start_time": "2024-08-08T07:36:00.732Z"
   },
   {
    "duration": 136,
    "start_time": "2024-08-08T07:36:17.837Z"
   },
   {
    "duration": 64,
    "start_time": "2024-08-08T07:37:30.013Z"
   },
   {
    "duration": 168,
    "start_time": "2024-08-08T07:37:36.140Z"
   },
   {
    "duration": 10,
    "start_time": "2024-08-08T07:38:26.509Z"
   },
   {
    "duration": 9,
    "start_time": "2024-08-08T07:38:37.366Z"
   },
   {
    "duration": 211,
    "start_time": "2024-08-08T07:38:44.925Z"
   },
   {
    "duration": 131,
    "start_time": "2024-08-08T07:38:56.751Z"
   },
   {
    "duration": 139,
    "start_time": "2024-08-08T07:40:23.978Z"
   },
   {
    "duration": 73,
    "start_time": "2024-08-08T07:40:41.254Z"
   },
   {
    "duration": 74,
    "start_time": "2024-08-08T07:40:53.331Z"
   },
   {
    "duration": 231,
    "start_time": "2024-08-08T07:41:00.318Z"
   },
   {
    "duration": 212,
    "start_time": "2024-08-08T07:41:30.402Z"
   },
   {
    "duration": 263,
    "start_time": "2024-08-08T07:41:47.310Z"
   },
   {
    "duration": 257,
    "start_time": "2024-08-08T07:43:06.062Z"
   },
   {
    "duration": 65,
    "start_time": "2024-08-08T07:43:50.072Z"
   },
   {
    "duration": 69,
    "start_time": "2024-08-08T07:43:58.503Z"
   },
   {
    "duration": 66,
    "start_time": "2024-08-08T07:44:35.133Z"
   },
   {
    "duration": 35,
    "start_time": "2024-08-08T07:45:40.280Z"
   },
   {
    "duration": 54,
    "start_time": "2024-08-08T07:46:19.073Z"
   },
   {
    "duration": 64,
    "start_time": "2024-08-08T07:47:27.653Z"
   },
   {
    "duration": 66,
    "start_time": "2024-08-08T07:47:31.865Z"
   },
   {
    "duration": 57,
    "start_time": "2024-08-08T07:47:43.661Z"
   },
   {
    "duration": 237,
    "start_time": "2024-08-08T07:47:55.129Z"
   },
   {
    "duration": 26,
    "start_time": "2024-08-08T08:45:13.283Z"
   },
   {
    "duration": 49,
    "start_time": "2024-08-09T06:50:15.162Z"
   },
   {
    "duration": 1392,
    "start_time": "2024-08-09T06:50:19.272Z"
   },
   {
    "duration": 932,
    "start_time": "2024-08-09T06:50:20.666Z"
   },
   {
    "duration": 3,
    "start_time": "2024-08-09T06:50:21.600Z"
   },
   {
    "duration": 40,
    "start_time": "2024-08-09T06:50:21.605Z"
   },
   {
    "duration": 335,
    "start_time": "2024-08-09T06:50:21.647Z"
   },
   {
    "duration": 140,
    "start_time": "2024-08-09T06:50:21.983Z"
   },
   {
    "duration": 139,
    "start_time": "2024-08-09T06:50:22.125Z"
   },
   {
    "duration": 108,
    "start_time": "2024-08-09T06:50:22.265Z"
   },
   {
    "duration": 83,
    "start_time": "2024-08-09T06:50:22.374Z"
   },
   {
    "duration": 41,
    "start_time": "2024-08-09T06:50:22.458Z"
   },
   {
    "duration": 15,
    "start_time": "2024-08-09T06:50:22.508Z"
   },
   {
    "duration": 29,
    "start_time": "2024-08-09T06:50:22.525Z"
   },
   {
    "duration": 65,
    "start_time": "2024-08-09T06:50:22.555Z"
   },
   {
    "duration": 126,
    "start_time": "2024-08-09T06:50:22.623Z"
   },
   {
    "duration": 4,
    "start_time": "2024-08-09T06:50:42.802Z"
   },
   {
    "duration": 60,
    "start_time": "2024-08-09T06:50:51.672Z"
   },
   {
    "duration": 13,
    "start_time": "2024-08-09T06:51:50.420Z"
   },
   {
    "duration": 19,
    "start_time": "2024-08-09T06:53:23.827Z"
   },
   {
    "duration": 34,
    "start_time": "2024-08-09T06:53:36.878Z"
   },
   {
    "duration": 34,
    "start_time": "2024-08-09T06:53:51.599Z"
   },
   {
    "duration": 95,
    "start_time": "2024-08-09T06:57:06.184Z"
   },
   {
    "duration": 102,
    "start_time": "2024-08-09T10:09:14.542Z"
   },
   {
    "duration": 1224,
    "start_time": "2024-08-09T10:09:26.342Z"
   },
   {
    "duration": 207,
    "start_time": "2024-08-09T10:09:27.568Z"
   },
   {
    "duration": 2,
    "start_time": "2024-08-09T10:09:27.777Z"
   },
   {
    "duration": 41,
    "start_time": "2024-08-09T10:09:27.781Z"
   },
   {
    "duration": 342,
    "start_time": "2024-08-09T10:09:27.824Z"
   },
   {
    "duration": 153,
    "start_time": "2024-08-09T10:09:28.167Z"
   },
   {
    "duration": 145,
    "start_time": "2024-08-09T10:09:28.321Z"
   },
   {
    "duration": 110,
    "start_time": "2024-08-09T10:09:28.468Z"
   },
   {
    "duration": 84,
    "start_time": "2024-08-09T10:09:28.580Z"
   },
   {
    "duration": 113,
    "start_time": "2024-08-09T10:09:28.666Z"
   },
   {
    "duration": 40,
    "start_time": "2024-08-09T10:09:28.781Z"
   },
   {
    "duration": 15,
    "start_time": "2024-08-09T10:09:28.823Z"
   },
   {
    "duration": 46,
    "start_time": "2024-08-09T10:09:28.840Z"
   },
   {
    "duration": 50,
    "start_time": "2024-08-09T10:09:28.888Z"
   },
   {
    "duration": 123,
    "start_time": "2024-08-09T10:09:28.939Z"
   },
   {
    "duration": 34,
    "start_time": "2024-08-09T10:09:29.064Z"
   },
   {
    "duration": 173,
    "start_time": "2024-08-09T10:10:06.499Z"
   },
   {
    "duration": 88,
    "start_time": "2024-08-09T10:11:38.756Z"
   },
   {
    "duration": 3,
    "start_time": "2024-08-09T10:19:04.069Z"
   },
   {
    "duration": 1179,
    "start_time": "2024-08-09T10:19:17.655Z"
   },
   {
    "duration": 201,
    "start_time": "2024-08-09T10:19:18.835Z"
   },
   {
    "duration": 3,
    "start_time": "2024-08-09T10:19:19.037Z"
   },
   {
    "duration": 32,
    "start_time": "2024-08-09T10:19:19.041Z"
   },
   {
    "duration": 345,
    "start_time": "2024-08-09T10:19:19.075Z"
   },
   {
    "duration": 147,
    "start_time": "2024-08-09T10:19:19.421Z"
   },
   {
    "duration": 138,
    "start_time": "2024-08-09T10:19:19.570Z"
   },
   {
    "duration": 112,
    "start_time": "2024-08-09T10:19:19.710Z"
   },
   {
    "duration": 84,
    "start_time": "2024-08-09T10:19:19.823Z"
   },
   {
    "duration": 105,
    "start_time": "2024-08-09T10:19:19.909Z"
   },
   {
    "duration": 94,
    "start_time": "2024-08-09T10:19:20.016Z"
   },
   {
    "duration": 33,
    "start_time": "2024-08-09T10:19:20.112Z"
   },
   {
    "duration": 15,
    "start_time": "2024-08-09T10:19:20.146Z"
   },
   {
    "duration": 48,
    "start_time": "2024-08-09T10:19:20.164Z"
   },
   {
    "duration": 55,
    "start_time": "2024-08-09T10:19:20.214Z"
   },
   {
    "duration": 111,
    "start_time": "2024-08-09T10:19:20.271Z"
   },
   {
    "duration": 42,
    "start_time": "2024-08-09T10:19:20.384Z"
   },
   {
    "duration": 577,
    "start_time": "2024-08-09T10:19:32.260Z"
   },
   {
    "duration": 447,
    "start_time": "2024-08-09T10:19:45.710Z"
   },
   {
    "duration": 459,
    "start_time": "2024-08-09T10:19:54.870Z"
   },
   {
    "duration": 471,
    "start_time": "2024-08-09T10:20:00.438Z"
   },
   {
    "duration": 492,
    "start_time": "2024-08-09T10:20:31.222Z"
   },
   {
    "duration": 263,
    "start_time": "2024-08-09T10:24:12.609Z"
   },
   {
    "duration": 35,
    "start_time": "2024-08-09T10:25:07.171Z"
   },
   {
    "duration": 300,
    "start_time": "2024-08-09T10:25:29.827Z"
   },
   {
    "duration": 206,
    "start_time": "2024-08-09T10:25:34.839Z"
   },
   {
    "duration": 212,
    "start_time": "2024-08-09T10:25:45.800Z"
   },
   {
    "duration": 1154,
    "start_time": "2024-08-09T10:26:22.175Z"
   },
   {
    "duration": 201,
    "start_time": "2024-08-09T10:26:23.331Z"
   },
   {
    "duration": 3,
    "start_time": "2024-08-09T10:26:23.534Z"
   },
   {
    "duration": 27,
    "start_time": "2024-08-09T10:26:23.539Z"
   },
   {
    "duration": 399,
    "start_time": "2024-08-09T10:26:23.568Z"
   },
   {
    "duration": 149,
    "start_time": "2024-08-09T10:26:23.968Z"
   },
   {
    "duration": 142,
    "start_time": "2024-08-09T10:26:24.119Z"
   },
   {
    "duration": 109,
    "start_time": "2024-08-09T10:26:24.264Z"
   },
   {
    "duration": 100,
    "start_time": "2024-08-09T10:26:24.374Z"
   },
   {
    "duration": 43,
    "start_time": "2024-08-09T10:26:24.476Z"
   },
   {
    "duration": 39,
    "start_time": "2024-08-09T10:26:24.521Z"
   },
   {
    "duration": 28,
    "start_time": "2024-08-09T10:26:24.562Z"
   },
   {
    "duration": 47,
    "start_time": "2024-08-09T10:26:24.592Z"
   },
   {
    "duration": 77,
    "start_time": "2024-08-09T10:26:24.641Z"
   },
   {
    "duration": 34,
    "start_time": "2024-08-09T10:26:24.720Z"
   },
   {
    "duration": 588,
    "start_time": "2024-08-09T10:26:24.756Z"
   },
   {
    "duration": 853,
    "start_time": "2024-08-09T10:26:25.346Z"
   },
   {
    "duration": 713,
    "start_time": "2024-08-09T10:26:55.294Z"
   },
   {
    "duration": 250,
    "start_time": "2024-08-09T10:27:03.577Z"
   },
   {
    "duration": 31,
    "start_time": "2024-08-09T10:27:53.741Z"
   },
   {
    "duration": 8,
    "start_time": "2024-08-09T10:28:06.533Z"
   },
   {
    "duration": 7,
    "start_time": "2024-08-09T10:28:30.013Z"
   },
   {
    "duration": 5,
    "start_time": "2024-08-09T10:29:43.261Z"
   },
   {
    "duration": 4,
    "start_time": "2024-08-09T10:30:16.757Z"
   },
   {
    "duration": 45,
    "start_time": "2024-08-09T10:33:48.091Z"
   },
   {
    "duration": 49,
    "start_time": "2024-08-09T10:34:26.895Z"
   },
   {
    "duration": 32,
    "start_time": "2024-08-09T10:34:44.367Z"
   },
   {
    "duration": 26,
    "start_time": "2024-08-09T10:35:19.815Z"
   },
   {
    "duration": 60,
    "start_time": "2024-08-09T10:37:39.698Z"
   },
   {
    "duration": 54,
    "start_time": "2024-08-09T10:37:46.033Z"
   },
   {
    "duration": 66,
    "start_time": "2024-08-09T10:38:33.493Z"
   },
   {
    "duration": 56,
    "start_time": "2024-08-09T10:38:47.121Z"
   },
   {
    "duration": 8,
    "start_time": "2024-08-09T10:38:58.093Z"
   },
   {
    "duration": 25,
    "start_time": "2024-08-09T10:39:07.434Z"
   },
   {
    "duration": 25,
    "start_time": "2024-08-09T10:39:17.833Z"
   },
   {
    "duration": 10,
    "start_time": "2024-08-09T10:39:20.475Z"
   },
   {
    "duration": 61,
    "start_time": "2024-08-09T10:39:47.694Z"
   },
   {
    "duration": 10,
    "start_time": "2024-08-09T10:39:54.114Z"
   },
   {
    "duration": 2548,
    "start_time": "2024-08-09T10:40:08.509Z"
   },
   {
    "duration": 2632,
    "start_time": "2024-08-09T10:40:15.913Z"
   },
   {
    "duration": 2519,
    "start_time": "2024-08-09T10:40:44.589Z"
   },
   {
    "duration": 7,
    "start_time": "2024-08-09T10:42:34.522Z"
   },
   {
    "duration": 6,
    "start_time": "2024-08-09T10:42:40.390Z"
   },
   {
    "duration": 11,
    "start_time": "2024-08-09T10:43:14.319Z"
   },
   {
    "duration": 1201,
    "start_time": "2024-08-09T10:43:20.343Z"
   },
   {
    "duration": 204,
    "start_time": "2024-08-09T10:43:21.546Z"
   },
   {
    "duration": 3,
    "start_time": "2024-08-09T10:43:21.752Z"
   },
   {
    "duration": 23,
    "start_time": "2024-08-09T10:43:21.756Z"
   },
   {
    "duration": 359,
    "start_time": "2024-08-09T10:43:21.782Z"
   },
   {
    "duration": 147,
    "start_time": "2024-08-09T10:43:22.143Z"
   },
   {
    "duration": 140,
    "start_time": "2024-08-09T10:43:22.292Z"
   },
   {
    "duration": 108,
    "start_time": "2024-08-09T10:43:22.434Z"
   },
   {
    "duration": 103,
    "start_time": "2024-08-09T10:43:22.544Z"
   },
   {
    "duration": 34,
    "start_time": "2024-08-09T10:43:22.648Z"
   },
   {
    "duration": 25,
    "start_time": "2024-08-09T10:43:22.684Z"
   },
   {
    "duration": 29,
    "start_time": "2024-08-09T10:43:22.711Z"
   },
   {
    "duration": 70,
    "start_time": "2024-08-09T10:43:22.741Z"
   },
   {
    "duration": 72,
    "start_time": "2024-08-09T10:43:22.814Z"
   },
   {
    "duration": 56,
    "start_time": "2024-08-09T10:43:22.889Z"
   },
   {
    "duration": 581,
    "start_time": "2024-08-09T10:43:22.947Z"
   },
   {
    "duration": 263,
    "start_time": "2024-08-09T10:43:23.529Z"
   },
   {
    "duration": 17,
    "start_time": "2024-08-09T10:43:23.793Z"
   },
   {
    "duration": 26,
    "start_time": "2024-08-09T10:43:23.812Z"
   },
   {
    "duration": 2,
    "start_time": "2024-08-09T10:43:23.840Z"
   },
   {
    "duration": 29,
    "start_time": "2024-08-09T10:43:23.844Z"
   },
   {
    "duration": 34,
    "start_time": "2024-08-09T10:45:34.021Z"
   },
   {
    "duration": 156,
    "start_time": "2024-08-09T11:37:38.707Z"
   },
   {
    "duration": 28,
    "start_time": "2024-08-09T11:37:44.932Z"
   },
   {
    "duration": 10,
    "start_time": "2024-08-09T11:42:32.576Z"
   },
   {
    "duration": 101,
    "start_time": "2024-08-09T11:42:39.656Z"
   },
   {
    "duration": 105,
    "start_time": "2024-08-09T11:45:54.320Z"
   },
   {
    "duration": 128,
    "start_time": "2024-08-09T11:46:01.202Z"
   },
   {
    "duration": 4,
    "start_time": "2024-08-09T11:51:06.435Z"
   },
   {
    "duration": 1311,
    "start_time": "2024-08-12T07:50:38.666Z"
   },
   {
    "duration": 909,
    "start_time": "2024-08-12T07:50:39.979Z"
   },
   {
    "duration": 3,
    "start_time": "2024-08-12T07:50:40.889Z"
   },
   {
    "duration": 21,
    "start_time": "2024-08-12T07:50:40.894Z"
   },
   {
    "duration": 302,
    "start_time": "2024-08-12T07:50:40.917Z"
   },
   {
    "duration": 127,
    "start_time": "2024-08-12T07:50:41.220Z"
   },
   {
    "duration": 116,
    "start_time": "2024-08-12T07:50:41.348Z"
   },
   {
    "duration": 90,
    "start_time": "2024-08-12T07:50:41.466Z"
   },
   {
    "duration": 92,
    "start_time": "2024-08-12T07:50:41.558Z"
   },
   {
    "duration": 43,
    "start_time": "2024-08-12T07:50:41.652Z"
   },
   {
    "duration": 13,
    "start_time": "2024-08-12T07:50:41.696Z"
   },
   {
    "duration": 25,
    "start_time": "2024-08-12T07:50:41.710Z"
   },
   {
    "duration": 55,
    "start_time": "2024-08-12T07:50:41.736Z"
   },
   {
    "duration": 61,
    "start_time": "2024-08-12T07:50:41.793Z"
   },
   {
    "duration": 42,
    "start_time": "2024-08-12T07:50:41.855Z"
   },
   {
    "duration": 501,
    "start_time": "2024-08-12T07:50:41.898Z"
   },
   {
    "duration": 220,
    "start_time": "2024-08-12T07:50:42.400Z"
   },
   {
    "duration": 7,
    "start_time": "2024-08-12T07:50:42.621Z"
   },
   {
    "duration": 5,
    "start_time": "2024-08-12T07:50:42.630Z"
   },
   {
    "duration": 49,
    "start_time": "2024-08-12T07:50:42.636Z"
   },
   {
    "duration": 23,
    "start_time": "2024-08-12T07:50:42.686Z"
   },
   {
    "duration": 116,
    "start_time": "2024-08-12T07:50:42.710Z"
   },
   {
    "duration": 13,
    "start_time": "2024-08-12T07:50:42.828Z"
   },
   {
    "duration": 5,
    "start_time": "2024-08-12T07:51:05.087Z"
   },
   {
    "duration": 89,
    "start_time": "2024-08-12T07:51:16.992Z"
   },
   {
    "duration": 82,
    "start_time": "2024-08-12T07:51:31.983Z"
   },
   {
    "duration": 9,
    "start_time": "2024-08-12T07:51:46.491Z"
   },
   {
    "duration": 115,
    "start_time": "2024-08-12T07:51:51.295Z"
   },
   {
    "duration": 5,
    "start_time": "2024-08-12T07:52:03.903Z"
   },
   {
    "duration": 4,
    "start_time": "2024-08-12T07:52:15.863Z"
   },
   {
    "duration": 9,
    "start_time": "2024-08-12T07:52:26.268Z"
   },
   {
    "duration": 10,
    "start_time": "2024-08-12T07:52:39.577Z"
   },
   {
    "duration": 10,
    "start_time": "2024-08-12T07:52:48.407Z"
   },
   {
    "duration": 4,
    "start_time": "2024-08-12T07:52:57.821Z"
   },
   {
    "duration": 10,
    "start_time": "2024-08-12T07:53:07.122Z"
   },
   {
    "duration": 8,
    "start_time": "2024-08-12T07:53:15.436Z"
   },
   {
    "duration": 9,
    "start_time": "2024-08-12T07:53:26.805Z"
   },
   {
    "duration": 9,
    "start_time": "2024-08-12T07:53:34.609Z"
   },
   {
    "duration": 9,
    "start_time": "2024-08-12T07:53:41.580Z"
   },
   {
    "duration": 9,
    "start_time": "2024-08-12T07:53:48.492Z"
   },
   {
    "duration": 1413,
    "start_time": "2024-08-13T06:52:33.951Z"
   },
   {
    "duration": 1007,
    "start_time": "2024-08-13T06:52:35.366Z"
   },
   {
    "duration": 3,
    "start_time": "2024-08-13T06:52:36.374Z"
   },
   {
    "duration": 23,
    "start_time": "2024-08-13T06:52:36.379Z"
   },
   {
    "duration": 322,
    "start_time": "2024-08-13T06:52:36.405Z"
   },
   {
    "duration": 136,
    "start_time": "2024-08-13T06:52:36.729Z"
   },
   {
    "duration": 141,
    "start_time": "2024-08-13T06:52:36.867Z"
   },
   {
    "duration": 101,
    "start_time": "2024-08-13T06:52:37.010Z"
   },
   {
    "duration": 91,
    "start_time": "2024-08-13T06:52:37.112Z"
   },
   {
    "duration": 33,
    "start_time": "2024-08-13T06:52:37.205Z"
   },
   {
    "duration": 14,
    "start_time": "2024-08-13T06:52:37.239Z"
   },
   {
    "duration": 46,
    "start_time": "2024-08-13T06:52:37.254Z"
   },
   {
    "duration": 45,
    "start_time": "2024-08-13T06:52:37.301Z"
   },
   {
    "duration": 90,
    "start_time": "2024-08-13T06:52:37.349Z"
   },
   {
    "duration": 36,
    "start_time": "2024-08-13T06:52:37.442Z"
   },
   {
    "duration": 580,
    "start_time": "2024-08-13T06:52:37.481Z"
   },
   {
    "duration": 259,
    "start_time": "2024-08-13T06:52:38.063Z"
   },
   {
    "duration": 10,
    "start_time": "2024-08-13T06:52:38.324Z"
   },
   {
    "duration": 7,
    "start_time": "2024-08-13T06:52:38.336Z"
   },
   {
    "duration": 58,
    "start_time": "2024-08-13T06:52:38.346Z"
   },
   {
    "duration": 32,
    "start_time": "2024-08-13T06:52:38.406Z"
   },
   {
    "duration": 139,
    "start_time": "2024-08-13T06:52:38.440Z"
   },
   {
    "duration": 18,
    "start_time": "2024-08-13T06:52:38.580Z"
   },
   {
    "duration": 5,
    "start_time": "2024-08-13T06:52:38.599Z"
   },
   {
    "duration": 111,
    "start_time": "2024-08-13T06:52:38.605Z"
   },
   {
    "duration": 141,
    "start_time": "2024-08-13T06:52:38.717Z"
   },
   {
    "duration": 5,
    "start_time": "2024-08-13T06:52:38.860Z"
   },
   {
    "duration": 17,
    "start_time": "2024-08-13T06:52:38.866Z"
   },
   {
    "duration": 15,
    "start_time": "2024-08-13T06:52:38.885Z"
   },
   {
    "duration": 20,
    "start_time": "2024-08-13T06:52:38.901Z"
   },
   {
    "duration": 15,
    "start_time": "2024-08-13T06:52:38.923Z"
   },
   {
    "duration": 6,
    "start_time": "2024-08-13T06:52:38.939Z"
   },
   {
    "duration": 16,
    "start_time": "2024-08-13T06:52:38.946Z"
   },
   {
    "duration": 9,
    "start_time": "2024-08-13T06:52:38.963Z"
   },
   {
    "duration": 27,
    "start_time": "2024-08-13T06:52:38.973Z"
   },
   {
    "duration": 10,
    "start_time": "2024-08-13T06:52:39.002Z"
   },
   {
    "duration": 28,
    "start_time": "2024-08-13T06:52:39.013Z"
   },
   {
    "duration": 22,
    "start_time": "2024-08-13T06:52:39.042Z"
   },
   {
    "duration": 1187,
    "start_time": "2024-08-13T06:53:30.535Z"
   },
   {
    "duration": 216,
    "start_time": "2024-08-13T06:53:31.723Z"
   },
   {
    "duration": 2,
    "start_time": "2024-08-13T06:53:31.941Z"
   },
   {
    "duration": 341,
    "start_time": "2024-08-13T06:53:31.945Z"
   },
   {
    "duration": 145,
    "start_time": "2024-08-13T06:53:32.288Z"
   },
   {
    "duration": 137,
    "start_time": "2024-08-13T06:53:32.435Z"
   },
   {
    "duration": 101,
    "start_time": "2024-08-13T06:53:32.574Z"
   },
   {
    "duration": 93,
    "start_time": "2024-08-13T06:53:32.676Z"
   },
   {
    "duration": 45,
    "start_time": "2024-08-13T06:53:32.771Z"
   },
   {
    "duration": 80,
    "start_time": "2024-08-13T06:53:32.818Z"
   },
   {
    "duration": 52,
    "start_time": "2024-08-13T06:53:32.899Z"
   },
   {
    "duration": 66,
    "start_time": "2024-08-13T06:53:32.953Z"
   },
   {
    "duration": 62,
    "start_time": "2024-08-13T06:53:33.021Z"
   },
   {
    "duration": 42,
    "start_time": "2024-08-13T06:53:33.084Z"
   },
   {
    "duration": 606,
    "start_time": "2024-08-13T06:53:33.127Z"
   },
   {
    "duration": 271,
    "start_time": "2024-08-13T06:53:33.735Z"
   },
   {
    "duration": 8,
    "start_time": "2024-08-13T06:53:34.007Z"
   },
   {
    "duration": 12,
    "start_time": "2024-08-13T06:53:34.016Z"
   },
   {
    "duration": 35,
    "start_time": "2024-08-13T06:53:34.030Z"
   },
   {
    "duration": 48,
    "start_time": "2024-08-13T06:53:34.066Z"
   },
   {
    "duration": 132,
    "start_time": "2024-08-13T06:53:34.116Z"
   },
   {
    "duration": 14,
    "start_time": "2024-08-13T06:53:34.249Z"
   },
   {
    "duration": 6,
    "start_time": "2024-08-13T06:53:34.265Z"
   },
   {
    "duration": 109,
    "start_time": "2024-08-13T06:53:34.272Z"
   },
   {
    "duration": 147,
    "start_time": "2024-08-13T06:53:34.383Z"
   },
   {
    "duration": 6,
    "start_time": "2024-08-13T06:53:34.531Z"
   },
   {
    "duration": 19,
    "start_time": "2024-08-13T06:53:34.539Z"
   },
   {
    "duration": 12,
    "start_time": "2024-08-13T06:53:34.562Z"
   },
   {
    "duration": 21,
    "start_time": "2024-08-13T06:53:34.577Z"
   },
   {
    "duration": 21,
    "start_time": "2024-08-13T06:53:34.600Z"
   },
   {
    "duration": 10,
    "start_time": "2024-08-13T06:53:34.623Z"
   },
   {
    "duration": 18,
    "start_time": "2024-08-13T06:53:34.634Z"
   },
   {
    "duration": 20,
    "start_time": "2024-08-13T06:53:34.654Z"
   },
   {
    "duration": 10,
    "start_time": "2024-08-13T06:53:34.676Z"
   },
   {
    "duration": 21,
    "start_time": "2024-08-13T06:53:34.696Z"
   },
   {
    "duration": 75,
    "start_time": "2024-08-13T06:53:34.719Z"
   },
   {
    "duration": 14,
    "start_time": "2024-08-13T06:53:34.795Z"
   },
   {
    "duration": 1198,
    "start_time": "2024-08-13T06:53:59.945Z"
   },
   {
    "duration": 217,
    "start_time": "2024-08-13T06:54:01.146Z"
   },
   {
    "duration": 3,
    "start_time": "2024-08-13T06:54:01.365Z"
   },
   {
    "duration": 415,
    "start_time": "2024-08-13T06:54:01.370Z"
   },
   {
    "duration": 139,
    "start_time": "2024-08-13T06:54:01.786Z"
   },
   {
    "duration": 2,
    "start_time": "2024-08-13T06:54:01.927Z"
   },
   {
    "duration": 72,
    "start_time": "2024-08-13T06:54:01.931Z"
   },
   {
    "duration": 174,
    "start_time": "2024-08-13T06:54:02.004Z"
   },
   {
    "duration": 37,
    "start_time": "2024-08-13T06:54:02.180Z"
   },
   {
    "duration": 60,
    "start_time": "2024-08-13T06:54:02.220Z"
   },
   {
    "duration": 96,
    "start_time": "2024-08-13T06:54:02.281Z"
   },
   {
    "duration": 91,
    "start_time": "2024-08-13T06:54:02.379Z"
   },
   {
    "duration": 88,
    "start_time": "2024-08-13T06:54:02.472Z"
   },
   {
    "duration": 39,
    "start_time": "2024-08-13T06:54:02.562Z"
   },
   {
    "duration": 574,
    "start_time": "2024-08-13T06:54:02.603Z"
   },
   {
    "duration": 279,
    "start_time": "2024-08-13T06:54:03.179Z"
   },
   {
    "duration": 9,
    "start_time": "2024-08-13T06:54:03.460Z"
   },
   {
    "duration": 26,
    "start_time": "2024-08-13T06:54:03.471Z"
   },
   {
    "duration": 35,
    "start_time": "2024-08-13T06:54:03.499Z"
   },
   {
    "duration": 32,
    "start_time": "2024-08-13T06:54:03.536Z"
   },
   {
    "duration": 141,
    "start_time": "2024-08-13T06:54:03.570Z"
   },
   {
    "duration": 14,
    "start_time": "2024-08-13T06:54:03.712Z"
   },
   {
    "duration": 9,
    "start_time": "2024-08-13T06:54:03.727Z"
   },
   {
    "duration": 111,
    "start_time": "2024-08-13T06:54:03.737Z"
   },
   {
    "duration": 140,
    "start_time": "2024-08-13T06:54:03.849Z"
   },
   {
    "duration": 10,
    "start_time": "2024-08-13T06:54:03.990Z"
   },
   {
    "duration": 6,
    "start_time": "2024-08-13T06:54:04.001Z"
   },
   {
    "duration": 13,
    "start_time": "2024-08-13T06:54:04.010Z"
   },
   {
    "duration": 12,
    "start_time": "2024-08-13T06:54:04.024Z"
   },
   {
    "duration": 11,
    "start_time": "2024-08-13T06:54:04.038Z"
   },
   {
    "duration": 5,
    "start_time": "2024-08-13T06:54:04.051Z"
   },
   {
    "duration": 49,
    "start_time": "2024-08-13T06:54:04.058Z"
   },
   {
    "duration": 9,
    "start_time": "2024-08-13T06:54:04.109Z"
   },
   {
    "duration": 9,
    "start_time": "2024-08-13T06:54:04.120Z"
   },
   {
    "duration": 10,
    "start_time": "2024-08-13T06:54:04.131Z"
   },
   {
    "duration": 10,
    "start_time": "2024-08-13T06:54:04.144Z"
   },
   {
    "duration": 13,
    "start_time": "2024-08-13T06:54:04.196Z"
   },
   {
    "duration": 126,
    "start_time": "2024-08-13T06:55:29.025Z"
   },
   {
    "duration": 103,
    "start_time": "2024-08-13T06:55:43.336Z"
   },
   {
    "duration": 204,
    "start_time": "2024-08-13T06:55:56.493Z"
   },
   {
    "duration": 85,
    "start_time": "2024-08-13T06:56:53.325Z"
   },
   {
    "duration": 58,
    "start_time": "2024-08-13T06:57:33.957Z"
   },
   {
    "duration": 1221,
    "start_time": "2024-08-13T06:57:49.904Z"
   },
   {
    "duration": 219,
    "start_time": "2024-08-13T06:57:51.127Z"
   },
   {
    "duration": 3,
    "start_time": "2024-08-13T06:57:51.348Z"
   },
   {
    "duration": 55,
    "start_time": "2024-08-13T06:57:51.352Z"
   },
   {
    "duration": 90,
    "start_time": "2024-08-13T06:57:51.409Z"
   },
   {
    "duration": 131,
    "start_time": "2024-08-13T06:57:51.501Z"
   },
   {
    "duration": 87,
    "start_time": "2024-08-13T06:57:51.633Z"
   },
   {
    "duration": 36,
    "start_time": "2024-08-13T06:57:51.721Z"
   },
   {
    "duration": 15,
    "start_time": "2024-08-13T06:57:51.759Z"
   },
   {
    "duration": 44,
    "start_time": "2024-08-13T06:57:51.775Z"
   },
   {
    "duration": 24,
    "start_time": "2024-08-13T06:57:51.820Z"
   },
   {
    "duration": 31,
    "start_time": "2024-08-13T06:57:51.846Z"
   },
   {
    "duration": 44,
    "start_time": "2024-08-13T06:57:51.879Z"
   },
   {
    "duration": 609,
    "start_time": "2024-08-13T06:57:51.926Z"
   },
   {
    "duration": 264,
    "start_time": "2024-08-13T06:57:52.536Z"
   },
   {
    "duration": 8,
    "start_time": "2024-08-13T06:57:52.802Z"
   },
   {
    "duration": 7,
    "start_time": "2024-08-13T06:57:52.811Z"
   },
   {
    "duration": 6,
    "start_time": "2024-08-13T06:57:52.820Z"
   },
   {
    "duration": 86,
    "start_time": "2024-08-13T06:57:52.827Z"
   },
   {
    "duration": 90,
    "start_time": "2024-08-13T06:57:52.915Z"
   },
   {
    "duration": 13,
    "start_time": "2024-08-13T06:57:53.007Z"
   },
   {
    "duration": 4,
    "start_time": "2024-08-13T06:57:53.022Z"
   },
   {
    "duration": 57,
    "start_time": "2024-08-13T06:57:53.028Z"
   },
   {
    "duration": 2201,
    "start_time": "2024-08-13T06:57:53.096Z"
   },
   {
    "duration": 0,
    "start_time": "2024-08-13T06:57:55.299Z"
   },
   {
    "duration": 0,
    "start_time": "2024-08-13T06:57:55.301Z"
   },
   {
    "duration": 0,
    "start_time": "2024-08-13T06:57:55.302Z"
   },
   {
    "duration": 0,
    "start_time": "2024-08-13T06:57:55.304Z"
   },
   {
    "duration": 0,
    "start_time": "2024-08-13T06:57:55.305Z"
   },
   {
    "duration": 0,
    "start_time": "2024-08-13T06:57:55.306Z"
   },
   {
    "duration": 0,
    "start_time": "2024-08-13T06:57:55.307Z"
   },
   {
    "duration": 0,
    "start_time": "2024-08-13T06:57:55.308Z"
   },
   {
    "duration": 0,
    "start_time": "2024-08-13T06:57:55.310Z"
   },
   {
    "duration": 0,
    "start_time": "2024-08-13T06:57:55.311Z"
   },
   {
    "duration": 0,
    "start_time": "2024-08-13T06:57:55.312Z"
   },
   {
    "duration": 0,
    "start_time": "2024-08-13T06:57:55.313Z"
   },
   {
    "duration": 78,
    "start_time": "2024-08-13T07:00:02.230Z"
   },
   {
    "duration": 1249,
    "start_time": "2024-08-13T07:00:24.509Z"
   },
   {
    "duration": 225,
    "start_time": "2024-08-13T07:00:25.760Z"
   },
   {
    "duration": 3,
    "start_time": "2024-08-13T07:00:25.986Z"
   },
   {
    "duration": 41,
    "start_time": "2024-08-13T07:00:25.995Z"
   },
   {
    "duration": 96,
    "start_time": "2024-08-13T07:00:26.038Z"
   },
   {
    "duration": 143,
    "start_time": "2024-08-13T07:00:26.136Z"
   },
   {
    "duration": 77,
    "start_time": "2024-08-13T07:00:26.281Z"
   },
   {
    "duration": 44,
    "start_time": "2024-08-13T07:00:26.359Z"
   },
   {
    "duration": 15,
    "start_time": "2024-08-13T07:00:26.404Z"
   },
   {
    "duration": 29,
    "start_time": "2024-08-13T07:00:26.422Z"
   },
   {
    "duration": 18,
    "start_time": "2024-08-13T07:00:26.453Z"
   },
   {
    "duration": 54,
    "start_time": "2024-08-13T07:00:26.473Z"
   },
   {
    "duration": 110,
    "start_time": "2024-08-13T07:00:26.528Z"
   },
   {
    "duration": 0,
    "start_time": "2024-08-13T07:00:26.639Z"
   },
   {
    "duration": 0,
    "start_time": "2024-08-13T07:00:26.640Z"
   },
   {
    "duration": 0,
    "start_time": "2024-08-13T07:00:26.642Z"
   },
   {
    "duration": 0,
    "start_time": "2024-08-13T07:00:26.643Z"
   },
   {
    "duration": 0,
    "start_time": "2024-08-13T07:00:26.644Z"
   },
   {
    "duration": 0,
    "start_time": "2024-08-13T07:00:26.645Z"
   },
   {
    "duration": 0,
    "start_time": "2024-08-13T07:00:26.646Z"
   },
   {
    "duration": 0,
    "start_time": "2024-08-13T07:00:26.646Z"
   },
   {
    "duration": 0,
    "start_time": "2024-08-13T07:00:26.647Z"
   },
   {
    "duration": 0,
    "start_time": "2024-08-13T07:00:26.648Z"
   },
   {
    "duration": 0,
    "start_time": "2024-08-13T07:00:26.649Z"
   },
   {
    "duration": 0,
    "start_time": "2024-08-13T07:00:26.650Z"
   },
   {
    "duration": 0,
    "start_time": "2024-08-13T07:00:26.652Z"
   },
   {
    "duration": 0,
    "start_time": "2024-08-13T07:00:26.653Z"
   },
   {
    "duration": 0,
    "start_time": "2024-08-13T07:00:26.654Z"
   },
   {
    "duration": 0,
    "start_time": "2024-08-13T07:00:26.655Z"
   },
   {
    "duration": 0,
    "start_time": "2024-08-13T07:00:26.656Z"
   },
   {
    "duration": 0,
    "start_time": "2024-08-13T07:00:26.657Z"
   },
   {
    "duration": 0,
    "start_time": "2024-08-13T07:00:26.658Z"
   },
   {
    "duration": 0,
    "start_time": "2024-08-13T07:00:26.659Z"
   },
   {
    "duration": 0,
    "start_time": "2024-08-13T07:00:26.696Z"
   },
   {
    "duration": 0,
    "start_time": "2024-08-13T07:00:26.697Z"
   },
   {
    "duration": 0,
    "start_time": "2024-08-13T07:00:26.698Z"
   },
   {
    "duration": 99,
    "start_time": "2024-08-13T07:13:44.669Z"
   },
   {
    "duration": 34,
    "start_time": "2024-08-13T07:17:33.262Z"
   },
   {
    "duration": 9,
    "start_time": "2024-08-13T07:17:58.990Z"
   },
   {
    "duration": 9,
    "start_time": "2024-08-13T07:18:04.854Z"
   },
   {
    "duration": 570,
    "start_time": "2024-08-13T07:18:08.630Z"
   },
   {
    "duration": 11,
    "start_time": "2024-08-13T07:18:14.471Z"
   },
   {
    "duration": 10,
    "start_time": "2024-08-13T07:18:20.821Z"
   },
   {
    "duration": 247,
    "start_time": "2024-08-13T07:19:22.198Z"
   },
   {
    "duration": 290,
    "start_time": "2024-08-13T08:25:55.354Z"
   },
   {
    "duration": 12,
    "start_time": "2024-08-13T08:26:03.074Z"
   },
   {
    "duration": 225,
    "start_time": "2024-08-13T08:26:07.714Z"
   },
   {
    "duration": 245,
    "start_time": "2024-08-13T08:26:18.934Z"
   },
   {
    "duration": 245,
    "start_time": "2024-08-13T08:26:30.805Z"
   },
   {
    "duration": 212,
    "start_time": "2024-08-13T08:26:36.399Z"
   },
   {
    "duration": 321,
    "start_time": "2024-08-13T08:26:41.382Z"
   },
   {
    "duration": 221,
    "start_time": "2024-08-13T08:26:49.130Z"
   },
   {
    "duration": 225,
    "start_time": "2024-08-13T08:26:52.812Z"
   },
   {
    "duration": 233,
    "start_time": "2024-08-13T08:27:02.334Z"
   },
   {
    "duration": 220,
    "start_time": "2024-08-13T08:27:17.762Z"
   },
   {
    "duration": 9,
    "start_time": "2024-08-13T08:41:28.288Z"
   },
   {
    "duration": 9,
    "start_time": "2024-08-13T08:41:33.548Z"
   },
   {
    "duration": 9,
    "start_time": "2024-08-13T08:41:49.265Z"
   },
   {
    "duration": 6,
    "start_time": "2024-08-13T08:41:59.561Z"
   },
   {
    "duration": 7,
    "start_time": "2024-08-13T08:43:21.996Z"
   },
   {
    "duration": 147,
    "start_time": "2024-08-13T09:55:01.890Z"
   },
   {
    "duration": 27,
    "start_time": "2024-08-13T10:06:27.680Z"
   },
   {
    "duration": 72,
    "start_time": "2024-08-13T10:06:50.061Z"
   },
   {
    "duration": 78,
    "start_time": "2024-08-13T10:07:18.331Z"
   },
   {
    "duration": 14,
    "start_time": "2024-08-13T10:09:44.793Z"
   },
   {
    "duration": 89,
    "start_time": "2024-08-13T11:03:01.075Z"
   },
   {
    "duration": 81,
    "start_time": "2024-08-13T11:03:08.418Z"
   },
   {
    "duration": 79,
    "start_time": "2024-08-13T11:03:16.739Z"
   },
   {
    "duration": 82,
    "start_time": "2024-08-13T11:03:24.998Z"
   },
   {
    "duration": 81,
    "start_time": "2024-08-13T11:03:32.283Z"
   },
   {
    "duration": 79,
    "start_time": "2024-08-13T11:04:13.998Z"
   },
   {
    "duration": 78,
    "start_time": "2024-08-13T11:05:26.655Z"
   },
   {
    "duration": 73,
    "start_time": "2024-08-13T11:08:19.633Z"
   },
   {
    "duration": 82,
    "start_time": "2024-08-13T11:08:24.795Z"
   },
   {
    "duration": 87,
    "start_time": "2024-08-13T11:17:39.824Z"
   },
   {
    "duration": 78,
    "start_time": "2024-08-13T12:23:11.359Z"
   },
   {
    "duration": 78,
    "start_time": "2024-08-13T12:23:48.269Z"
   },
   {
    "duration": 5,
    "start_time": "2024-08-13T12:25:04.645Z"
   },
   {
    "duration": 5,
    "start_time": "2024-08-13T12:25:40.544Z"
   },
   {
    "duration": 52,
    "start_time": "2024-08-13T12:33:18.164Z"
   },
   {
    "duration": 54,
    "start_time": "2024-08-13T12:34:15.265Z"
   },
   {
    "duration": 2351,
    "start_time": "2024-08-13T12:34:17.245Z"
   },
   {
    "duration": 5,
    "start_time": "2024-08-13T13:05:17.836Z"
   },
   {
    "duration": 5,
    "start_time": "2024-08-13T13:05:20.339Z"
   },
   {
    "duration": 804,
    "start_time": "2024-08-13T13:05:23.011Z"
   },
   {
    "duration": 5,
    "start_time": "2024-08-13T13:05:32.060Z"
   },
   {
    "duration": 5,
    "start_time": "2024-08-13T13:05:33.460Z"
   },
   {
    "duration": 750,
    "start_time": "2024-08-13T13:05:37.767Z"
   },
   {
    "duration": 15,
    "start_time": "2024-08-13T13:23:59.743Z"
   },
   {
    "duration": 11,
    "start_time": "2024-08-13T13:24:12.912Z"
   },
   {
    "duration": 9,
    "start_time": "2024-08-13T13:24:47.602Z"
   },
   {
    "duration": 43,
    "start_time": "2024-08-13T13:24:55.464Z"
   },
   {
    "duration": 26,
    "start_time": "2024-08-13T13:25:20.619Z"
   },
   {
    "duration": 15,
    "start_time": "2024-08-13T13:25:22.797Z"
   },
   {
    "duration": 29,
    "start_time": "2024-08-13T13:25:38.713Z"
   },
   {
    "duration": 26,
    "start_time": "2024-08-13T13:25:53.145Z"
   },
   {
    "duration": 24,
    "start_time": "2024-08-13T13:26:03.677Z"
   },
   {
    "duration": 30,
    "start_time": "2024-08-13T13:26:32.173Z"
   },
   {
    "duration": 25,
    "start_time": "2024-08-13T13:26:38.327Z"
   },
   {
    "duration": 73,
    "start_time": "2024-08-13T13:27:21.081Z"
   },
   {
    "duration": 60,
    "start_time": "2024-08-13T13:28:13.042Z"
   },
   {
    "duration": 99,
    "start_time": "2024-08-13T13:28:30.763Z"
   },
   {
    "duration": 90,
    "start_time": "2024-08-13T13:29:17.073Z"
   },
   {
    "duration": 85,
    "start_time": "2024-08-13T13:29:39.581Z"
   },
   {
    "duration": 90,
    "start_time": "2024-08-13T13:32:59.241Z"
   },
   {
    "duration": 103,
    "start_time": "2024-08-13T13:33:07.509Z"
   },
   {
    "duration": 298,
    "start_time": "2024-08-13T13:35:12.730Z"
   },
   {
    "duration": 84,
    "start_time": "2024-08-13T13:35:27.267Z"
   },
   {
    "duration": 87,
    "start_time": "2024-08-13T13:36:14.102Z"
   },
   {
    "duration": 81,
    "start_time": "2024-08-13T13:39:13.502Z"
   },
   {
    "duration": 85,
    "start_time": "2024-08-13T13:39:19.943Z"
   },
   {
    "duration": 83,
    "start_time": "2024-08-13T13:40:51.320Z"
   },
   {
    "duration": 88,
    "start_time": "2024-08-13T13:43:08.200Z"
   },
   {
    "duration": 104,
    "start_time": "2024-08-13T13:46:01.027Z"
   },
   {
    "duration": 98,
    "start_time": "2024-08-13T13:46:14.034Z"
   },
   {
    "duration": 66,
    "start_time": "2024-08-13T13:57:12.266Z"
   },
   {
    "duration": 84,
    "start_time": "2024-08-13T13:57:19.257Z"
   },
   {
    "duration": 40,
    "start_time": "2024-08-13T13:57:23.137Z"
   },
   {
    "duration": 79,
    "start_time": "2024-08-13T13:57:25.381Z"
   },
   {
    "duration": 87,
    "start_time": "2024-08-13T13:59:38.035Z"
   },
   {
    "duration": 87,
    "start_time": "2024-08-13T13:59:44.666Z"
   },
   {
    "duration": 91,
    "start_time": "2024-08-13T14:00:12.694Z"
   },
   {
    "duration": 6,
    "start_time": "2024-08-13T14:01:10.235Z"
   },
   {
    "duration": 5,
    "start_time": "2024-08-13T14:01:23.875Z"
   },
   {
    "duration": 742,
    "start_time": "2024-08-13T14:01:27.524Z"
   },
   {
    "duration": 7,
    "start_time": "2024-08-13T14:08:45.751Z"
   },
   {
    "duration": 712,
    "start_time": "2024-08-13T14:08:49.570Z"
   },
   {
    "duration": 6,
    "start_time": "2024-08-13T14:09:03.483Z"
   },
   {
    "duration": 716,
    "start_time": "2024-08-13T14:09:06.352Z"
   },
   {
    "duration": 3,
    "start_time": "2024-08-13T14:10:48.283Z"
   },
   {
    "duration": 10,
    "start_time": "2024-08-13T14:10:50.795Z"
   },
   {
    "duration": 80,
    "start_time": "2024-08-13T14:11:17.244Z"
   },
   {
    "duration": 80,
    "start_time": "2024-08-13T14:11:25.424Z"
   },
   {
    "duration": 8,
    "start_time": "2024-08-13T14:11:37.359Z"
   },
   {
    "duration": 8,
    "start_time": "2024-08-13T14:11:45.696Z"
   },
   {
    "duration": 85,
    "start_time": "2024-08-13T14:11:49.205Z"
   },
   {
    "duration": 3,
    "start_time": "2024-08-13T14:11:54.168Z"
   },
   {
    "duration": 7,
    "start_time": "2024-08-13T14:11:56.625Z"
   },
   {
    "duration": 3,
    "start_time": "2024-08-13T14:12:04.111Z"
   },
   {
    "duration": 86,
    "start_time": "2024-08-13T14:12:32.008Z"
   },
   {
    "duration": 8,
    "start_time": "2024-08-13T14:12:33.752Z"
   },
   {
    "duration": 7,
    "start_time": "2024-08-13T14:12:38.393Z"
   },
   {
    "duration": 717,
    "start_time": "2024-08-13T14:12:42.148Z"
   },
   {
    "duration": 6,
    "start_time": "2024-08-13T14:15:06.218Z"
   },
   {
    "duration": 5,
    "start_time": "2024-08-13T14:15:08.202Z"
   },
   {
    "duration": 778,
    "start_time": "2024-08-13T14:15:11.873Z"
   },
   {
    "duration": 5,
    "start_time": "2024-08-13T14:15:30.434Z"
   },
   {
    "duration": 721,
    "start_time": "2024-08-13T14:15:34.257Z"
   },
   {
    "duration": 506,
    "start_time": "2024-08-13T14:15:57.201Z"
   },
   {
    "duration": 85,
    "start_time": "2024-08-13T14:16:12.366Z"
   },
   {
    "duration": 5,
    "start_time": "2024-08-13T14:16:25.499Z"
   },
   {
    "duration": 677,
    "start_time": "2024-08-13T14:16:28.418Z"
   },
   {
    "duration": 82,
    "start_time": "2024-08-13T14:16:35.076Z"
   },
   {
    "duration": 5,
    "start_time": "2024-08-13T14:16:36.996Z"
   },
   {
    "duration": 5,
    "start_time": "2024-08-13T14:16:50.360Z"
   },
   {
    "duration": 747,
    "start_time": "2024-08-13T14:16:54.554Z"
   },
   {
    "duration": 5,
    "start_time": "2024-08-13T14:18:03.636Z"
   },
   {
    "duration": 879,
    "start_time": "2024-08-13T14:18:06.635Z"
   },
   {
    "duration": 802,
    "start_time": "2024-08-13T14:18:14.954Z"
   },
   {
    "duration": 10,
    "start_time": "2024-08-13T14:18:34.045Z"
   },
   {
    "duration": 19,
    "start_time": "2024-08-13T15:06:26.454Z"
   },
   {
    "duration": 6,
    "start_time": "2024-08-13T15:06:33.750Z"
   },
   {
    "duration": 5,
    "start_time": "2024-08-13T15:06:57.855Z"
   },
   {
    "duration": 7,
    "start_time": "2024-08-13T15:07:08.338Z"
   },
   {
    "duration": 13,
    "start_time": "2024-08-13T15:07:17.392Z"
   },
   {
    "duration": 12,
    "start_time": "2024-08-13T15:08:29.075Z"
   },
   {
    "duration": 10,
    "start_time": "2024-08-14T08:01:40.027Z"
   },
   {
    "duration": 1398,
    "start_time": "2024-08-14T08:01:50.912Z"
   },
   {
    "duration": 705,
    "start_time": "2024-08-14T08:01:52.311Z"
   },
   {
    "duration": 3,
    "start_time": "2024-08-14T08:01:53.018Z"
   },
   {
    "duration": 102,
    "start_time": "2024-08-14T08:01:53.023Z"
   },
   {
    "duration": 77,
    "start_time": "2024-08-14T08:01:53.126Z"
   },
   {
    "duration": 126,
    "start_time": "2024-08-14T08:01:53.205Z"
   },
   {
    "duration": 76,
    "start_time": "2024-08-14T08:01:53.333Z"
   },
   {
    "duration": 33,
    "start_time": "2024-08-14T08:01:53.411Z"
   },
   {
    "duration": 34,
    "start_time": "2024-08-14T08:01:53.445Z"
   },
   {
    "duration": 7,
    "start_time": "2024-08-14T08:01:53.482Z"
   },
   {
    "duration": 61,
    "start_time": "2024-08-14T08:01:53.491Z"
   },
   {
    "duration": 120,
    "start_time": "2024-08-14T08:01:53.554Z"
   },
   {
    "duration": 558,
    "start_time": "2024-08-14T08:01:53.675Z"
   },
   {
    "duration": 242,
    "start_time": "2024-08-14T08:01:54.237Z"
   },
   {
    "duration": 8,
    "start_time": "2024-08-14T08:01:54.480Z"
   },
   {
    "duration": 31,
    "start_time": "2024-08-14T08:01:54.489Z"
   },
   {
    "duration": 130,
    "start_time": "2024-08-14T08:01:54.522Z"
   },
   {
    "duration": 97,
    "start_time": "2024-08-14T08:01:54.654Z"
   },
   {
    "duration": 69,
    "start_time": "2024-08-14T08:01:54.753Z"
   },
   {
    "duration": 116,
    "start_time": "2024-08-14T08:01:54.837Z"
   },
   {
    "duration": 156,
    "start_time": "2024-08-14T08:01:54.955Z"
   },
   {
    "duration": 79,
    "start_time": "2024-08-14T08:01:55.113Z"
   },
   {
    "duration": 5,
    "start_time": "2024-08-14T08:01:55.194Z"
   },
   {
    "duration": 38,
    "start_time": "2024-08-14T08:01:55.200Z"
   },
   {
    "duration": 33,
    "start_time": "2024-08-14T08:01:55.240Z"
   },
   {
    "duration": 37,
    "start_time": "2024-08-14T08:01:55.274Z"
   },
   {
    "duration": 35,
    "start_time": "2024-08-14T08:01:55.313Z"
   },
   {
    "duration": 137,
    "start_time": "2024-08-14T08:01:55.351Z"
   },
   {
    "duration": 0,
    "start_time": "2024-08-14T08:01:55.490Z"
   },
   {
    "duration": 0,
    "start_time": "2024-08-14T08:01:55.491Z"
   },
   {
    "duration": 0,
    "start_time": "2024-08-14T08:01:55.493Z"
   },
   {
    "duration": 0,
    "start_time": "2024-08-14T08:01:55.494Z"
   },
   {
    "duration": 0,
    "start_time": "2024-08-14T08:01:55.496Z"
   },
   {
    "duration": 0,
    "start_time": "2024-08-14T08:01:55.497Z"
   },
   {
    "duration": 2,
    "start_time": "2024-08-14T08:03:17.702Z"
   },
   {
    "duration": 9,
    "start_time": "2024-08-14T08:04:14.477Z"
   },
   {
    "duration": 9,
    "start_time": "2024-08-14T08:04:17.285Z"
   },
   {
    "duration": 11,
    "start_time": "2024-08-14T08:04:20.861Z"
   },
   {
    "duration": 11,
    "start_time": "2024-08-14T08:04:23.387Z"
   },
   {
    "duration": 8,
    "start_time": "2024-08-14T08:04:26.011Z"
   },
   {
    "duration": 8,
    "start_time": "2024-08-14T08:04:28.334Z"
   },
   {
    "duration": 45,
    "start_time": "2024-08-14T11:34:34.642Z"
   },
   {
    "duration": 162,
    "start_time": "2024-08-14T11:55:06.051Z"
   },
   {
    "duration": 13,
    "start_time": "2024-08-14T12:12:26.396Z"
   },
   {
    "duration": 12,
    "start_time": "2024-08-14T12:13:02.122Z"
   },
   {
    "duration": 11,
    "start_time": "2024-08-14T12:13:48.338Z"
   },
   {
    "duration": 1046,
    "start_time": "2024-08-14T12:13:57.522Z"
   },
   {
    "duration": 1060,
    "start_time": "2024-08-14T12:14:48.218Z"
   },
   {
    "duration": 10,
    "start_time": "2024-08-14T12:18:40.979Z"
   },
   {
    "duration": 11,
    "start_time": "2024-08-14T12:19:01.198Z"
   },
   {
    "duration": 11,
    "start_time": "2024-08-14T12:19:08.508Z"
   },
   {
    "duration": 9,
    "start_time": "2024-08-14T12:19:16.112Z"
   },
   {
    "duration": 63,
    "start_time": "2024-08-14T12:19:19.484Z"
   },
   {
    "duration": 11,
    "start_time": "2024-08-14T12:19:21.739Z"
   },
   {
    "duration": 12,
    "start_time": "2024-08-14T12:19:29.577Z"
   },
   {
    "duration": 12,
    "start_time": "2024-08-14T12:20:27.149Z"
   },
   {
    "duration": 10,
    "start_time": "2024-08-14T12:20:33.408Z"
   },
   {
    "duration": 4,
    "start_time": "2024-08-14T12:23:21.242Z"
   },
   {
    "duration": 90,
    "start_time": "2024-08-15T08:44:48.436Z"
   },
   {
    "duration": 50,
    "start_time": "2024-08-15T08:51:36.118Z"
   },
   {
    "duration": 1433,
    "start_time": "2024-08-15T08:51:43.758Z"
   },
   {
    "duration": 859,
    "start_time": "2024-08-15T08:51:45.193Z"
   },
   {
    "duration": 2,
    "start_time": "2024-08-15T08:51:46.054Z"
   },
   {
    "duration": 61,
    "start_time": "2024-08-15T08:51:46.058Z"
   },
   {
    "duration": 84,
    "start_time": "2024-08-15T08:51:46.122Z"
   },
   {
    "duration": 129,
    "start_time": "2024-08-15T08:51:46.208Z"
   },
   {
    "duration": 76,
    "start_time": "2024-08-15T08:51:46.339Z"
   },
   {
    "duration": 63,
    "start_time": "2024-08-15T08:51:46.416Z"
   },
   {
    "duration": 14,
    "start_time": "2024-08-15T08:51:46.480Z"
   },
   {
    "duration": 72,
    "start_time": "2024-08-15T08:51:46.496Z"
   },
   {
    "duration": 29,
    "start_time": "2024-08-15T08:51:46.570Z"
   },
   {
    "duration": 67,
    "start_time": "2024-08-15T08:51:46.601Z"
   },
   {
    "duration": 32,
    "start_time": "2024-08-15T08:51:46.670Z"
   },
   {
    "duration": 551,
    "start_time": "2024-08-15T08:51:46.705Z"
   },
   {
    "duration": 234,
    "start_time": "2024-08-15T08:51:47.260Z"
   },
   {
    "duration": 7,
    "start_time": "2024-08-15T08:51:47.495Z"
   },
   {
    "duration": 28,
    "start_time": "2024-08-15T08:51:47.504Z"
   },
   {
    "duration": 64,
    "start_time": "2024-08-15T08:51:47.534Z"
   },
   {
    "duration": 93,
    "start_time": "2024-08-15T08:51:47.599Z"
   },
   {
    "duration": 12,
    "start_time": "2024-08-15T08:51:47.693Z"
   },
   {
    "duration": 129,
    "start_time": "2024-08-15T08:51:47.706Z"
   },
   {
    "duration": 0,
    "start_time": "2024-08-15T08:51:47.837Z"
   },
   {
    "duration": 0,
    "start_time": "2024-08-15T08:51:47.838Z"
   },
   {
    "duration": 0,
    "start_time": "2024-08-15T08:51:47.839Z"
   },
   {
    "duration": 0,
    "start_time": "2024-08-15T08:51:47.840Z"
   },
   {
    "duration": 0,
    "start_time": "2024-08-15T08:51:47.841Z"
   },
   {
    "duration": 0,
    "start_time": "2024-08-15T08:51:47.842Z"
   },
   {
    "duration": 1,
    "start_time": "2024-08-15T08:51:47.843Z"
   },
   {
    "duration": 0,
    "start_time": "2024-08-15T08:51:47.844Z"
   },
   {
    "duration": 0,
    "start_time": "2024-08-15T08:51:47.861Z"
   },
   {
    "duration": 0,
    "start_time": "2024-08-15T08:51:47.862Z"
   },
   {
    "duration": 0,
    "start_time": "2024-08-15T08:51:47.863Z"
   },
   {
    "duration": 0,
    "start_time": "2024-08-15T08:51:47.864Z"
   },
   {
    "duration": 0,
    "start_time": "2024-08-15T08:51:47.865Z"
   },
   {
    "duration": 1224,
    "start_time": "2024-08-15T09:00:10.956Z"
   },
   {
    "duration": 218,
    "start_time": "2024-08-15T09:00:12.182Z"
   },
   {
    "duration": 3,
    "start_time": "2024-08-15T09:00:12.401Z"
   },
   {
    "duration": 61,
    "start_time": "2024-08-15T09:00:12.406Z"
   },
   {
    "duration": 94,
    "start_time": "2024-08-15T09:00:12.469Z"
   },
   {
    "duration": 136,
    "start_time": "2024-08-15T09:00:12.565Z"
   },
   {
    "duration": 77,
    "start_time": "2024-08-15T09:00:12.703Z"
   },
   {
    "duration": 62,
    "start_time": "2024-08-15T09:00:12.782Z"
   },
   {
    "duration": 15,
    "start_time": "2024-08-15T09:00:12.846Z"
   },
   {
    "duration": 31,
    "start_time": "2024-08-15T09:00:12.863Z"
   },
   {
    "duration": 7,
    "start_time": "2024-08-15T09:00:12.896Z"
   },
   {
    "duration": 60,
    "start_time": "2024-08-15T09:00:12.904Z"
   },
   {
    "duration": 47,
    "start_time": "2024-08-15T09:00:12.966Z"
   },
   {
    "duration": 560,
    "start_time": "2024-08-15T09:00:13.016Z"
   },
   {
    "duration": 259,
    "start_time": "2024-08-15T09:00:13.578Z"
   },
   {
    "duration": 8,
    "start_time": "2024-08-15T09:00:13.838Z"
   },
   {
    "duration": 15,
    "start_time": "2024-08-15T09:00:13.847Z"
   },
   {
    "duration": 29,
    "start_time": "2024-08-15T09:00:13.863Z"
   },
   {
    "duration": 91,
    "start_time": "2024-08-15T09:00:13.894Z"
   },
   {
    "duration": 11,
    "start_time": "2024-08-15T09:00:13.987Z"
   },
   {
    "duration": 123,
    "start_time": "2024-08-15T09:00:14.000Z"
   },
   {
    "duration": 0,
    "start_time": "2024-08-15T09:00:14.125Z"
   },
   {
    "duration": 0,
    "start_time": "2024-08-15T09:00:14.126Z"
   },
   {
    "duration": 0,
    "start_time": "2024-08-15T09:00:14.128Z"
   },
   {
    "duration": 0,
    "start_time": "2024-08-15T09:00:14.130Z"
   },
   {
    "duration": 0,
    "start_time": "2024-08-15T09:00:14.131Z"
   },
   {
    "duration": 0,
    "start_time": "2024-08-15T09:00:14.133Z"
   },
   {
    "duration": 0,
    "start_time": "2024-08-15T09:00:14.134Z"
   },
   {
    "duration": 0,
    "start_time": "2024-08-15T09:00:14.136Z"
   },
   {
    "duration": 0,
    "start_time": "2024-08-15T09:00:14.137Z"
   },
   {
    "duration": 0,
    "start_time": "2024-08-15T09:00:14.161Z"
   },
   {
    "duration": 0,
    "start_time": "2024-08-15T09:00:14.163Z"
   },
   {
    "duration": 0,
    "start_time": "2024-08-15T09:00:14.164Z"
   },
   {
    "duration": 0,
    "start_time": "2024-08-15T09:00:14.165Z"
   },
   {
    "duration": 5,
    "start_time": "2024-08-15T09:00:32.418Z"
   },
   {
    "duration": 1357,
    "start_time": "2024-08-15T09:00:37.510Z"
   },
   {
    "duration": 219,
    "start_time": "2024-08-15T09:00:38.869Z"
   },
   {
    "duration": 3,
    "start_time": "2024-08-15T09:00:39.090Z"
   },
   {
    "duration": 38,
    "start_time": "2024-08-15T09:00:39.095Z"
   },
   {
    "duration": 88,
    "start_time": "2024-08-15T09:00:39.135Z"
   },
   {
    "duration": 137,
    "start_time": "2024-08-15T09:00:39.225Z"
   },
   {
    "duration": 70,
    "start_time": "2024-08-15T09:00:39.364Z"
   },
   {
    "duration": 49,
    "start_time": "2024-08-15T09:00:39.435Z"
   },
   {
    "duration": 15,
    "start_time": "2024-08-15T09:00:39.485Z"
   },
   {
    "duration": 33,
    "start_time": "2024-08-15T09:00:39.504Z"
   },
   {
    "duration": 9,
    "start_time": "2024-08-15T09:00:39.560Z"
   },
   {
    "duration": 36,
    "start_time": "2024-08-15T09:00:39.571Z"
   },
   {
    "duration": 57,
    "start_time": "2024-08-15T09:00:39.608Z"
   },
   {
    "duration": 584,
    "start_time": "2024-08-15T09:00:39.667Z"
   },
   {
    "duration": 237,
    "start_time": "2024-08-15T09:00:40.253Z"
   },
   {
    "duration": 9,
    "start_time": "2024-08-15T09:00:40.492Z"
   },
   {
    "duration": 7,
    "start_time": "2024-08-15T09:00:40.503Z"
   },
   {
    "duration": 49,
    "start_time": "2024-08-15T09:00:40.512Z"
   },
   {
    "duration": 71,
    "start_time": "2024-08-15T09:00:40.562Z"
   },
   {
    "duration": 28,
    "start_time": "2024-08-15T09:00:40.635Z"
   },
   {
    "duration": 5,
    "start_time": "2024-08-15T09:00:40.665Z"
   },
   {
    "duration": 46,
    "start_time": "2024-08-15T09:00:40.672Z"
   },
   {
    "duration": 107,
    "start_time": "2024-08-15T09:00:40.720Z"
   },
   {
    "duration": 6,
    "start_time": "2024-08-15T09:00:40.828Z"
   },
   {
    "duration": 9,
    "start_time": "2024-08-15T09:00:40.836Z"
   },
   {
    "duration": 9,
    "start_time": "2024-08-15T09:00:40.861Z"
   },
   {
    "duration": 10,
    "start_time": "2024-08-15T09:00:40.872Z"
   },
   {
    "duration": 16,
    "start_time": "2024-08-15T09:00:40.886Z"
   },
   {
    "duration": 26,
    "start_time": "2024-08-15T09:00:40.903Z"
   },
   {
    "duration": 9,
    "start_time": "2024-08-15T09:00:40.930Z"
   },
   {
    "duration": 26,
    "start_time": "2024-08-15T09:00:40.940Z"
   },
   {
    "duration": 8,
    "start_time": "2024-08-15T09:00:40.968Z"
   },
   {
    "duration": 12,
    "start_time": "2024-08-15T09:00:40.977Z"
   },
   {
    "duration": 8,
    "start_time": "2024-08-15T09:00:40.990Z"
   },
   {
    "duration": 1237,
    "start_time": "2024-08-15T09:22:29.568Z"
   },
   {
    "duration": 229,
    "start_time": "2024-08-15T09:22:30.808Z"
   },
   {
    "duration": 3,
    "start_time": "2024-08-15T09:22:31.038Z"
   },
   {
    "duration": 76,
    "start_time": "2024-08-15T09:22:31.044Z"
   },
   {
    "duration": 78,
    "start_time": "2024-08-15T09:22:31.122Z"
   },
   {
    "duration": 146,
    "start_time": "2024-08-15T09:22:31.202Z"
   },
   {
    "duration": 80,
    "start_time": "2024-08-15T09:22:31.350Z"
   },
   {
    "duration": 50,
    "start_time": "2024-08-15T09:22:31.431Z"
   },
   {
    "duration": 14,
    "start_time": "2024-08-15T09:22:31.483Z"
   },
   {
    "duration": 43,
    "start_time": "2024-08-15T09:22:31.499Z"
   },
   {
    "duration": 22,
    "start_time": "2024-08-15T09:22:31.544Z"
   },
   {
    "duration": 39,
    "start_time": "2024-08-15T09:22:31.567Z"
   },
   {
    "duration": 34,
    "start_time": "2024-08-15T09:22:31.607Z"
   },
   {
    "duration": 591,
    "start_time": "2024-08-15T09:22:31.661Z"
   },
   {
    "duration": 251,
    "start_time": "2024-08-15T09:22:32.260Z"
   },
   {
    "duration": 9,
    "start_time": "2024-08-15T09:22:32.512Z"
   },
   {
    "duration": 7,
    "start_time": "2024-08-15T09:22:32.523Z"
   },
   {
    "duration": 50,
    "start_time": "2024-08-15T09:22:32.531Z"
   },
   {
    "duration": 84,
    "start_time": "2024-08-15T09:22:32.582Z"
   },
   {
    "duration": 12,
    "start_time": "2024-08-15T09:22:32.668Z"
   },
   {
    "duration": 8,
    "start_time": "2024-08-15T09:22:32.682Z"
   },
   {
    "duration": 70,
    "start_time": "2024-08-15T09:22:32.692Z"
   },
   {
    "duration": 81,
    "start_time": "2024-08-15T09:22:32.764Z"
   },
   {
    "duration": 17,
    "start_time": "2024-08-15T09:22:32.846Z"
   },
   {
    "duration": 19,
    "start_time": "2024-08-15T09:22:32.865Z"
   },
   {
    "duration": 14,
    "start_time": "2024-08-15T09:22:32.886Z"
   },
   {
    "duration": 13,
    "start_time": "2024-08-15T09:22:32.902Z"
   },
   {
    "duration": 9,
    "start_time": "2024-08-15T09:22:32.918Z"
   },
   {
    "duration": 41,
    "start_time": "2024-08-15T09:22:32.929Z"
   },
   {
    "duration": 9,
    "start_time": "2024-08-15T09:22:32.972Z"
   },
   {
    "duration": 10,
    "start_time": "2024-08-15T09:22:32.983Z"
   },
   {
    "duration": 9,
    "start_time": "2024-08-15T09:22:32.995Z"
   },
   {
    "duration": 9,
    "start_time": "2024-08-15T09:22:33.005Z"
   },
   {
    "duration": 53,
    "start_time": "2024-08-15T09:22:33.016Z"
   },
   {
    "duration": 1411,
    "start_time": "2024-08-15T09:34:26.887Z"
   },
   {
    "duration": 858,
    "start_time": "2024-08-15T09:34:28.300Z"
   },
   {
    "duration": 3,
    "start_time": "2024-08-15T09:34:29.160Z"
   },
   {
    "duration": 49,
    "start_time": "2024-08-15T09:34:29.166Z"
   },
   {
    "duration": 99,
    "start_time": "2024-08-15T09:34:29.217Z"
   },
   {
    "duration": 134,
    "start_time": "2024-08-15T09:34:29.318Z"
   },
   {
    "duration": 95,
    "start_time": "2024-08-15T09:34:29.454Z"
   },
   {
    "duration": 62,
    "start_time": "2024-08-15T09:34:29.551Z"
   },
   {
    "duration": 14,
    "start_time": "2024-08-15T09:34:29.615Z"
   },
   {
    "duration": 100,
    "start_time": "2024-08-15T09:34:29.631Z"
   },
   {
    "duration": 8,
    "start_time": "2024-08-15T09:34:29.733Z"
   },
   {
    "duration": 51,
    "start_time": "2024-08-15T09:34:29.743Z"
   },
   {
    "duration": 36,
    "start_time": "2024-08-15T09:34:29.799Z"
   },
   {
    "duration": 622,
    "start_time": "2024-08-15T09:34:29.837Z"
   },
   {
    "duration": 339,
    "start_time": "2024-08-15T09:34:30.460Z"
   },
   {
    "duration": 10,
    "start_time": "2024-08-15T09:34:30.803Z"
   },
   {
    "duration": 48,
    "start_time": "2024-08-15T09:34:30.815Z"
   },
   {
    "duration": 58,
    "start_time": "2024-08-15T09:34:30.867Z"
   },
   {
    "duration": 132,
    "start_time": "2024-08-15T09:34:30.927Z"
   },
   {
    "duration": 20,
    "start_time": "2024-08-15T09:34:31.060Z"
   },
   {
    "duration": 41,
    "start_time": "2024-08-15T09:34:31.081Z"
   },
   {
    "duration": 101,
    "start_time": "2024-08-15T09:34:31.124Z"
   },
   {
    "duration": 142,
    "start_time": "2024-08-15T09:34:31.226Z"
   },
   {
    "duration": 126,
    "start_time": "2024-08-15T09:34:31.375Z"
   },
   {
    "duration": 251,
    "start_time": "2024-08-15T09:34:31.503Z"
   },
   {
    "duration": 97,
    "start_time": "2024-08-15T09:34:31.755Z"
   },
   {
    "duration": 46,
    "start_time": "2024-08-15T09:34:31.853Z"
   },
   {
    "duration": 27,
    "start_time": "2024-08-15T09:34:31.902Z"
   },
   {
    "duration": 92,
    "start_time": "2024-08-15T09:34:31.931Z"
   },
   {
    "duration": 33,
    "start_time": "2024-08-15T09:34:32.024Z"
   },
   {
    "duration": 38,
    "start_time": "2024-08-15T09:34:32.059Z"
   },
   {
    "duration": 8,
    "start_time": "2024-08-15T09:34:32.099Z"
   },
   {
    "duration": 51,
    "start_time": "2024-08-15T09:34:32.109Z"
   },
   {
    "duration": 35,
    "start_time": "2024-08-15T09:34:32.162Z"
   },
   {
    "duration": 1389,
    "start_time": "2024-08-15T10:43:41.311Z"
   },
   {
    "duration": 833,
    "start_time": "2024-08-15T10:43:42.702Z"
   },
   {
    "duration": 3,
    "start_time": "2024-08-15T10:43:43.536Z"
   },
   {
    "duration": 45,
    "start_time": "2024-08-15T10:43:43.541Z"
   },
   {
    "duration": 90,
    "start_time": "2024-08-15T10:43:43.587Z"
   },
   {
    "duration": 130,
    "start_time": "2024-08-15T10:43:43.679Z"
   },
   {
    "duration": 74,
    "start_time": "2024-08-15T10:43:43.811Z"
   },
   {
    "duration": 55,
    "start_time": "2024-08-15T10:43:43.887Z"
   },
   {
    "duration": 13,
    "start_time": "2024-08-15T10:43:43.943Z"
   },
   {
    "duration": 39,
    "start_time": "2024-08-15T10:43:43.960Z"
   },
   {
    "duration": 7,
    "start_time": "2024-08-15T10:43:44.001Z"
   },
   {
    "duration": 65,
    "start_time": "2024-08-15T10:43:44.010Z"
   },
   {
    "duration": 34,
    "start_time": "2024-08-15T10:43:44.077Z"
   },
   {
    "duration": 575,
    "start_time": "2024-08-15T10:43:44.113Z"
   },
   {
    "duration": 288,
    "start_time": "2024-08-15T10:43:44.690Z"
   },
   {
    "duration": 9,
    "start_time": "2024-08-15T10:43:44.980Z"
   },
   {
    "duration": 6,
    "start_time": "2024-08-15T10:43:44.991Z"
   },
   {
    "duration": 43,
    "start_time": "2024-08-15T10:43:44.999Z"
   },
   {
    "duration": 89,
    "start_time": "2024-08-15T10:43:45.043Z"
   },
   {
    "duration": 11,
    "start_time": "2024-08-15T10:43:45.134Z"
   },
   {
    "duration": 26,
    "start_time": "2024-08-15T10:43:45.147Z"
   },
   {
    "duration": 54,
    "start_time": "2024-08-15T10:43:45.175Z"
   },
   {
    "duration": 94,
    "start_time": "2024-08-15T10:43:45.231Z"
   },
   {
    "duration": 6,
    "start_time": "2024-08-15T10:43:45.327Z"
   },
   {
    "duration": 21,
    "start_time": "2024-08-15T10:43:45.335Z"
   },
   {
    "duration": 26,
    "start_time": "2024-08-15T10:43:45.358Z"
   },
   {
    "duration": 16,
    "start_time": "2024-08-15T10:43:45.386Z"
   },
   {
    "duration": 9,
    "start_time": "2024-08-15T10:43:45.405Z"
   },
   {
    "duration": 13,
    "start_time": "2024-08-15T10:43:45.416Z"
   },
   {
    "duration": 14,
    "start_time": "2024-08-15T10:43:45.431Z"
   },
   {
    "duration": 39,
    "start_time": "2024-08-15T10:43:45.447Z"
   },
   {
    "duration": 30,
    "start_time": "2024-08-15T10:43:45.487Z"
   },
   {
    "duration": 16,
    "start_time": "2024-08-15T10:43:45.518Z"
   },
   {
    "duration": 14,
    "start_time": "2024-08-15T10:43:45.536Z"
   },
   {
    "duration": 1250,
    "start_time": "2024-08-15T10:56:27.744Z"
   },
   {
    "duration": 215,
    "start_time": "2024-08-15T10:56:28.996Z"
   },
   {
    "duration": 3,
    "start_time": "2024-08-15T10:56:29.212Z"
   },
   {
    "duration": 58,
    "start_time": "2024-08-15T10:56:29.217Z"
   },
   {
    "duration": 88,
    "start_time": "2024-08-15T10:56:29.277Z"
   },
   {
    "duration": 126,
    "start_time": "2024-08-15T10:56:29.374Z"
   },
   {
    "duration": 99,
    "start_time": "2024-08-15T10:56:29.501Z"
   },
   {
    "duration": 61,
    "start_time": "2024-08-15T10:56:29.602Z"
   },
   {
    "duration": 24,
    "start_time": "2024-08-15T10:56:29.665Z"
   },
   {
    "duration": 48,
    "start_time": "2024-08-15T10:56:29.692Z"
   },
   {
    "duration": 12,
    "start_time": "2024-08-15T10:56:29.763Z"
   },
   {
    "duration": 51,
    "start_time": "2024-08-15T10:56:29.778Z"
   },
   {
    "duration": 56,
    "start_time": "2024-08-15T10:56:29.832Z"
   },
   {
    "duration": 591,
    "start_time": "2024-08-15T10:56:29.889Z"
   },
   {
    "duration": 248,
    "start_time": "2024-08-15T10:56:30.482Z"
   },
   {
    "duration": 8,
    "start_time": "2024-08-15T10:56:30.732Z"
   },
   {
    "duration": 46,
    "start_time": "2024-08-15T10:56:30.741Z"
   },
   {
    "duration": 48,
    "start_time": "2024-08-15T10:56:30.789Z"
   },
   {
    "duration": 138,
    "start_time": "2024-08-15T10:56:30.838Z"
   },
   {
    "duration": 39,
    "start_time": "2024-08-15T10:56:30.979Z"
   },
   {
    "duration": 23,
    "start_time": "2024-08-15T10:56:31.019Z"
   },
   {
    "duration": 65,
    "start_time": "2024-08-15T10:56:31.045Z"
   },
   {
    "duration": 95,
    "start_time": "2024-08-15T10:56:31.111Z"
   },
   {
    "duration": 5,
    "start_time": "2024-08-15T10:56:31.207Z"
   },
   {
    "duration": 11,
    "start_time": "2024-08-15T10:56:31.214Z"
   },
   {
    "duration": 49,
    "start_time": "2024-08-15T10:56:31.226Z"
   },
   {
    "duration": 14,
    "start_time": "2024-08-15T10:56:31.277Z"
   },
   {
    "duration": 71,
    "start_time": "2024-08-15T10:56:31.294Z"
   },
   {
    "duration": 31,
    "start_time": "2024-08-15T10:56:31.370Z"
   },
   {
    "duration": 35,
    "start_time": "2024-08-15T10:56:31.402Z"
   },
   {
    "duration": 15,
    "start_time": "2024-08-15T10:56:31.438Z"
   },
   {
    "duration": 41,
    "start_time": "2024-08-15T10:56:31.455Z"
   },
   {
    "duration": 78,
    "start_time": "2024-08-15T10:56:31.497Z"
   },
   {
    "duration": 73,
    "start_time": "2024-08-15T10:56:31.577Z"
   },
   {
    "duration": 1175,
    "start_time": "2024-08-15T10:58:50.993Z"
   },
   {
    "duration": 231,
    "start_time": "2024-08-15T10:58:52.174Z"
   },
   {
    "duration": 4,
    "start_time": "2024-08-15T10:58:52.407Z"
   },
   {
    "duration": 65,
    "start_time": "2024-08-15T10:58:52.413Z"
   },
   {
    "duration": 74,
    "start_time": "2024-08-15T10:58:52.480Z"
   },
   {
    "duration": 132,
    "start_time": "2024-08-15T10:58:52.565Z"
   },
   {
    "duration": 91,
    "start_time": "2024-08-15T10:58:52.698Z"
   },
   {
    "duration": 39,
    "start_time": "2024-08-15T10:58:52.790Z"
   },
   {
    "duration": 35,
    "start_time": "2024-08-15T10:58:52.830Z"
   },
   {
    "duration": 49,
    "start_time": "2024-08-15T10:58:52.875Z"
   },
   {
    "duration": 9,
    "start_time": "2024-08-15T10:58:52.926Z"
   },
   {
    "duration": 84,
    "start_time": "2024-08-15T10:58:52.936Z"
   },
   {
    "duration": 32,
    "start_time": "2024-08-15T10:58:53.021Z"
   },
   {
    "duration": 580,
    "start_time": "2024-08-15T10:58:53.054Z"
   },
   {
    "duration": 277,
    "start_time": "2024-08-15T10:58:53.635Z"
   },
   {
    "duration": 9,
    "start_time": "2024-08-15T10:58:53.914Z"
   },
   {
    "duration": 5,
    "start_time": "2024-08-15T10:58:53.925Z"
   },
   {
    "duration": 50,
    "start_time": "2024-08-15T10:58:53.932Z"
   },
   {
    "duration": 91,
    "start_time": "2024-08-15T10:58:53.983Z"
   },
   {
    "duration": 12,
    "start_time": "2024-08-15T10:58:54.076Z"
   },
   {
    "duration": 5,
    "start_time": "2024-08-15T10:58:54.089Z"
   },
   {
    "duration": 47,
    "start_time": "2024-08-15T10:58:54.096Z"
   },
   {
    "duration": 108,
    "start_time": "2024-08-15T10:58:54.145Z"
   },
   {
    "duration": 7,
    "start_time": "2024-08-15T10:58:54.261Z"
   },
   {
    "duration": 10,
    "start_time": "2024-08-15T10:58:54.271Z"
   },
   {
    "duration": 15,
    "start_time": "2024-08-15T10:58:54.284Z"
   },
   {
    "duration": 16,
    "start_time": "2024-08-15T10:58:54.302Z"
   },
   {
    "duration": 11,
    "start_time": "2024-08-15T10:58:54.323Z"
   },
   {
    "duration": 39,
    "start_time": "2024-08-15T10:58:54.336Z"
   },
   {
    "duration": 11,
    "start_time": "2024-08-15T10:58:54.376Z"
   },
   {
    "duration": 9,
    "start_time": "2024-08-15T10:58:54.388Z"
   },
   {
    "duration": 12,
    "start_time": "2024-08-15T10:58:54.399Z"
   },
   {
    "duration": 26,
    "start_time": "2024-08-15T10:58:54.413Z"
   },
   {
    "duration": 28,
    "start_time": "2024-08-15T10:58:54.441Z"
   },
   {
    "duration": 46,
    "start_time": "2024-08-15T11:11:51.680Z"
   },
   {
    "duration": 1383,
    "start_time": "2024-08-15T11:11:59.111Z"
   },
   {
    "duration": 835,
    "start_time": "2024-08-15T11:12:00.496Z"
   },
   {
    "duration": 3,
    "start_time": "2024-08-15T11:12:01.333Z"
   },
   {
    "duration": 104,
    "start_time": "2024-08-15T11:12:01.337Z"
   },
   {
    "duration": 77,
    "start_time": "2024-08-15T11:12:01.443Z"
   },
   {
    "duration": 133,
    "start_time": "2024-08-15T11:12:01.522Z"
   },
   {
    "duration": 81,
    "start_time": "2024-08-15T11:12:01.657Z"
   },
   {
    "duration": 68,
    "start_time": "2024-08-15T11:12:01.740Z"
   },
   {
    "duration": 29,
    "start_time": "2024-08-15T11:12:01.810Z"
   },
   {
    "duration": 14,
    "start_time": "2024-08-15T11:12:01.841Z"
   },
   {
    "duration": 46,
    "start_time": "2024-08-15T11:12:01.856Z"
   },
   {
    "duration": 8,
    "start_time": "2024-08-15T11:12:01.904Z"
   },
   {
    "duration": 59,
    "start_time": "2024-08-15T11:12:01.913Z"
   },
   {
    "duration": 33,
    "start_time": "2024-08-15T11:12:01.978Z"
   },
   {
    "duration": 563,
    "start_time": "2024-08-15T11:12:02.013Z"
   },
   {
    "duration": 252,
    "start_time": "2024-08-15T11:12:02.577Z"
   },
   {
    "duration": 8,
    "start_time": "2024-08-15T11:12:02.830Z"
   },
   {
    "duration": 26,
    "start_time": "2024-08-15T11:12:02.839Z"
   },
   {
    "duration": 56,
    "start_time": "2024-08-15T11:12:02.874Z"
   },
   {
    "duration": 84,
    "start_time": "2024-08-15T11:12:02.932Z"
   },
   {
    "duration": 11,
    "start_time": "2024-08-15T11:12:03.017Z"
   },
   {
    "duration": 19,
    "start_time": "2024-08-15T11:12:03.030Z"
   },
   {
    "duration": 59,
    "start_time": "2024-08-15T11:12:03.050Z"
   },
   {
    "duration": 86,
    "start_time": "2024-08-15T11:12:03.111Z"
   },
   {
    "duration": 5,
    "start_time": "2024-08-15T11:12:03.198Z"
   },
   {
    "duration": 25,
    "start_time": "2024-08-15T11:12:03.205Z"
   },
   {
    "duration": 26,
    "start_time": "2024-08-15T11:12:03.232Z"
   },
   {
    "duration": 18,
    "start_time": "2024-08-15T11:12:03.262Z"
   },
   {
    "duration": 31,
    "start_time": "2024-08-15T11:12:03.281Z"
   },
   {
    "duration": 9,
    "start_time": "2024-08-15T11:12:03.314Z"
   },
   {
    "duration": 13,
    "start_time": "2024-08-15T11:12:03.324Z"
   },
   {
    "duration": 11,
    "start_time": "2024-08-15T11:12:03.338Z"
   },
   {
    "duration": 9,
    "start_time": "2024-08-15T11:12:03.369Z"
   },
   {
    "duration": 9,
    "start_time": "2024-08-15T11:12:03.380Z"
   },
   {
    "duration": 20,
    "start_time": "2024-08-15T11:12:03.391Z"
   },
   {
    "duration": 33,
    "start_time": "2024-08-15T11:12:14.519Z"
   },
   {
    "duration": 36,
    "start_time": "2024-08-15T11:12:52.958Z"
   },
   {
    "duration": 36,
    "start_time": "2024-08-15T11:13:00.254Z"
   },
   {
    "duration": 31,
    "start_time": "2024-08-15T11:13:11.191Z"
   },
   {
    "duration": 5,
    "start_time": "2024-08-15T11:14:07.518Z"
   },
   {
    "duration": 32,
    "start_time": "2024-08-15T11:14:59.535Z"
   },
   {
    "duration": 5,
    "start_time": "2024-08-15T11:15:02.296Z"
   },
   {
    "duration": 32,
    "start_time": "2024-08-15T11:15:14.399Z"
   },
   {
    "duration": 6,
    "start_time": "2024-08-15T11:15:18.760Z"
   },
   {
    "duration": 6,
    "start_time": "2024-08-15T11:15:35.495Z"
   },
   {
    "duration": 5,
    "start_time": "2024-08-15T11:15:36.791Z"
   },
   {
    "duration": 4,
    "start_time": "2024-08-15T11:16:27.936Z"
   },
   {
    "duration": 5,
    "start_time": "2024-08-15T11:16:29.616Z"
   },
   {
    "duration": 5,
    "start_time": "2024-08-15T11:17:23.725Z"
   },
   {
    "duration": 92,
    "start_time": "2024-08-15T11:18:24.493Z"
   },
   {
    "duration": 6,
    "start_time": "2024-08-15T11:19:16.178Z"
   },
   {
    "duration": 5,
    "start_time": "2024-08-15T11:19:24.789Z"
   },
   {
    "duration": 1140,
    "start_time": "2024-08-15T11:19:40.692Z"
   },
   {
    "duration": 235,
    "start_time": "2024-08-15T11:19:41.834Z"
   },
   {
    "duration": 3,
    "start_time": "2024-08-15T11:19:42.071Z"
   },
   {
    "duration": 43,
    "start_time": "2024-08-15T11:19:42.076Z"
   },
   {
    "duration": 98,
    "start_time": "2024-08-15T11:19:42.121Z"
   },
   {
    "duration": 138,
    "start_time": "2024-08-15T11:19:42.221Z"
   },
   {
    "duration": 73,
    "start_time": "2024-08-15T11:19:42.361Z"
   },
   {
    "duration": 48,
    "start_time": "2024-08-15T11:19:42.435Z"
   },
   {
    "duration": 107,
    "start_time": "2024-08-15T11:19:42.484Z"
   },
   {
    "duration": 0,
    "start_time": "2024-08-15T11:19:42.593Z"
   },
   {
    "duration": 0,
    "start_time": "2024-08-15T11:19:42.594Z"
   },
   {
    "duration": 0,
    "start_time": "2024-08-15T11:19:42.595Z"
   },
   {
    "duration": 0,
    "start_time": "2024-08-15T11:19:42.596Z"
   },
   {
    "duration": 0,
    "start_time": "2024-08-15T11:19:42.597Z"
   },
   {
    "duration": 0,
    "start_time": "2024-08-15T11:19:42.598Z"
   },
   {
    "duration": 0,
    "start_time": "2024-08-15T11:19:42.599Z"
   },
   {
    "duration": 0,
    "start_time": "2024-08-15T11:19:42.601Z"
   },
   {
    "duration": 0,
    "start_time": "2024-08-15T11:19:42.601Z"
   },
   {
    "duration": 0,
    "start_time": "2024-08-15T11:19:42.602Z"
   },
   {
    "duration": 0,
    "start_time": "2024-08-15T11:19:42.603Z"
   },
   {
    "duration": 0,
    "start_time": "2024-08-15T11:19:42.604Z"
   },
   {
    "duration": 0,
    "start_time": "2024-08-15T11:19:42.605Z"
   },
   {
    "duration": 0,
    "start_time": "2024-08-15T11:19:42.606Z"
   },
   {
    "duration": 0,
    "start_time": "2024-08-15T11:19:42.607Z"
   },
   {
    "duration": 0,
    "start_time": "2024-08-15T11:19:42.608Z"
   },
   {
    "duration": 0,
    "start_time": "2024-08-15T11:19:42.609Z"
   },
   {
    "duration": 0,
    "start_time": "2024-08-15T11:19:42.609Z"
   },
   {
    "duration": 0,
    "start_time": "2024-08-15T11:19:42.610Z"
   },
   {
    "duration": 0,
    "start_time": "2024-08-15T11:19:42.611Z"
   },
   {
    "duration": 0,
    "start_time": "2024-08-15T11:19:42.612Z"
   },
   {
    "duration": 0,
    "start_time": "2024-08-15T11:19:42.613Z"
   },
   {
    "duration": 0,
    "start_time": "2024-08-15T11:19:42.614Z"
   },
   {
    "duration": 0,
    "start_time": "2024-08-15T11:19:42.615Z"
   },
   {
    "duration": 0,
    "start_time": "2024-08-15T11:19:42.616Z"
   },
   {
    "duration": 0,
    "start_time": "2024-08-15T11:19:42.617Z"
   },
   {
    "duration": 0,
    "start_time": "2024-08-15T11:19:42.618Z"
   },
   {
    "duration": 0,
    "start_time": "2024-08-15T11:19:42.619Z"
   },
   {
    "duration": 19,
    "start_time": "2024-08-15T11:19:52.255Z"
   },
   {
    "duration": 282,
    "start_time": "2024-08-15T11:20:14.397Z"
   },
   {
    "duration": 274,
    "start_time": "2024-08-15T11:20:22.370Z"
   },
   {
    "duration": 53,
    "start_time": "2024-08-15T11:20:57.654Z"
   },
   {
    "duration": 38,
    "start_time": "2024-08-15T11:21:11.178Z"
   },
   {
    "duration": 37,
    "start_time": "2024-08-15T11:21:22.402Z"
   },
   {
    "duration": 36,
    "start_time": "2024-08-15T11:21:37.192Z"
   },
   {
    "duration": 37,
    "start_time": "2024-08-15T11:21:42.060Z"
   },
   {
    "duration": 40,
    "start_time": "2024-08-15T11:22:02.403Z"
   },
   {
    "duration": 36,
    "start_time": "2024-08-15T11:22:06.519Z"
   },
   {
    "duration": 36,
    "start_time": "2024-08-15T11:26:08.428Z"
   },
   {
    "duration": 9,
    "start_time": "2024-08-15T11:35:42.867Z"
   },
   {
    "duration": 1214,
    "start_time": "2024-08-15T11:35:52.189Z"
   },
   {
    "duration": 208,
    "start_time": "2024-08-15T11:35:53.405Z"
   },
   {
    "duration": 4,
    "start_time": "2024-08-15T11:35:53.616Z"
   },
   {
    "duration": 75,
    "start_time": "2024-08-15T11:35:53.622Z"
   },
   {
    "duration": 182,
    "start_time": "2024-08-15T11:35:53.699Z"
   },
   {
    "duration": 129,
    "start_time": "2024-08-15T11:35:53.883Z"
   },
   {
    "duration": 74,
    "start_time": "2024-08-15T11:35:54.014Z"
   },
   {
    "duration": 37,
    "start_time": "2024-08-15T11:35:54.089Z"
   },
   {
    "duration": 13,
    "start_time": "2024-08-15T11:35:54.128Z"
   },
   {
    "duration": 43,
    "start_time": "2024-08-15T11:35:54.143Z"
   },
   {
    "duration": 8,
    "start_time": "2024-08-15T11:35:54.187Z"
   },
   {
    "duration": 74,
    "start_time": "2024-08-15T11:35:54.196Z"
   },
   {
    "duration": 35,
    "start_time": "2024-08-15T11:35:54.272Z"
   },
   {
    "duration": 602,
    "start_time": "2024-08-15T11:35:54.311Z"
   },
   {
    "duration": 255,
    "start_time": "2024-08-15T11:35:54.915Z"
   },
   {
    "duration": 7,
    "start_time": "2024-08-15T11:35:55.171Z"
   },
   {
    "duration": 4,
    "start_time": "2024-08-15T11:35:55.180Z"
   },
   {
    "duration": 12,
    "start_time": "2024-08-15T11:35:55.186Z"
   },
   {
    "duration": 30,
    "start_time": "2024-08-15T11:35:55.200Z"
   },
   {
    "duration": 90,
    "start_time": "2024-08-15T11:35:55.232Z"
   },
   {
    "duration": 12,
    "start_time": "2024-08-15T11:35:55.323Z"
   },
   {
    "duration": 4,
    "start_time": "2024-08-15T11:35:55.336Z"
   },
   {
    "duration": 62,
    "start_time": "2024-08-15T11:35:55.342Z"
   },
   {
    "duration": 90,
    "start_time": "2024-08-15T11:35:55.406Z"
   },
   {
    "duration": 5,
    "start_time": "2024-08-15T11:35:55.497Z"
   },
   {
    "duration": 10,
    "start_time": "2024-08-15T11:35:55.503Z"
   },
   {
    "duration": 19,
    "start_time": "2024-08-15T11:35:55.514Z"
   },
   {
    "duration": 11,
    "start_time": "2024-08-15T11:35:55.534Z"
   },
   {
    "duration": 24,
    "start_time": "2024-08-15T11:35:55.546Z"
   },
   {
    "duration": 8,
    "start_time": "2024-08-15T11:35:55.572Z"
   },
   {
    "duration": 8,
    "start_time": "2024-08-15T11:35:55.582Z"
   },
   {
    "duration": 28,
    "start_time": "2024-08-15T11:35:55.591Z"
   },
   {
    "duration": 8,
    "start_time": "2024-08-15T11:35:55.620Z"
   },
   {
    "duration": 15,
    "start_time": "2024-08-15T11:35:55.630Z"
   },
   {
    "duration": 21,
    "start_time": "2024-08-15T11:35:55.646Z"
   },
   {
    "duration": 8,
    "start_time": "2024-08-15T11:37:26.178Z"
   },
   {
    "duration": 4,
    "start_time": "2024-08-15T11:37:59.542Z"
   },
   {
    "duration": 3,
    "start_time": "2024-08-15T11:38:52.637Z"
   },
   {
    "duration": 66,
    "start_time": "2024-08-15T11:39:02.358Z"
   },
   {
    "duration": 4,
    "start_time": "2024-08-15T11:39:12.991Z"
   },
   {
    "duration": 9,
    "start_time": "2024-08-15T11:40:26.190Z"
   },
   {
    "duration": 8,
    "start_time": "2024-08-15T11:40:32.086Z"
   },
   {
    "duration": 9,
    "start_time": "2024-08-15T11:40:46.877Z"
   },
   {
    "duration": 4,
    "start_time": "2024-08-15T11:40:58.763Z"
   },
   {
    "duration": 3,
    "start_time": "2024-08-15T11:41:47.953Z"
   },
   {
    "duration": 3,
    "start_time": "2024-08-15T11:41:57.856Z"
   },
   {
    "duration": 6,
    "start_time": "2024-08-15T11:41:59.473Z"
   },
   {
    "duration": 7,
    "start_time": "2024-08-15T11:42:54.344Z"
   },
   {
    "duration": 8,
    "start_time": "2024-08-15T11:43:07.257Z"
   },
   {
    "duration": 9,
    "start_time": "2024-08-15T11:43:14.012Z"
   },
   {
    "duration": 13,
    "start_time": "2024-08-15T11:44:26.132Z"
   },
   {
    "duration": 16,
    "start_time": "2024-08-15T11:51:36.976Z"
   },
   {
    "duration": 14,
    "start_time": "2024-08-15T11:52:56.875Z"
   },
   {
    "duration": 64,
    "start_time": "2024-08-15T11:54:58.889Z"
   },
   {
    "duration": 6,
    "start_time": "2024-08-15T12:03:22.233Z"
   },
   {
    "duration": 1253,
    "start_time": "2024-08-15T12:06:55.493Z"
   },
   {
    "duration": 276,
    "start_time": "2024-08-15T12:06:56.748Z"
   },
   {
    "duration": 4,
    "start_time": "2024-08-15T12:06:57.025Z"
   },
   {
    "duration": 1194,
    "start_time": "2024-08-15T12:06:57.031Z"
   },
   {
    "duration": 0,
    "start_time": "2024-08-15T12:06:58.227Z"
   },
   {
    "duration": 0,
    "start_time": "2024-08-15T12:06:58.229Z"
   },
   {
    "duration": 0,
    "start_time": "2024-08-15T12:06:58.229Z"
   },
   {
    "duration": 0,
    "start_time": "2024-08-15T12:06:58.231Z"
   },
   {
    "duration": 0,
    "start_time": "2024-08-15T12:06:58.232Z"
   },
   {
    "duration": 0,
    "start_time": "2024-08-15T12:06:58.232Z"
   },
   {
    "duration": 0,
    "start_time": "2024-08-15T12:06:58.233Z"
   },
   {
    "duration": 0,
    "start_time": "2024-08-15T12:06:58.235Z"
   },
   {
    "duration": 0,
    "start_time": "2024-08-15T12:06:58.236Z"
   },
   {
    "duration": 0,
    "start_time": "2024-08-15T12:06:58.238Z"
   },
   {
    "duration": 0,
    "start_time": "2024-08-15T12:06:58.239Z"
   },
   {
    "duration": 0,
    "start_time": "2024-08-15T12:06:58.240Z"
   },
   {
    "duration": 0,
    "start_time": "2024-08-15T12:06:58.241Z"
   },
   {
    "duration": 0,
    "start_time": "2024-08-15T12:06:58.242Z"
   },
   {
    "duration": 0,
    "start_time": "2024-08-15T12:06:58.243Z"
   },
   {
    "duration": 0,
    "start_time": "2024-08-15T12:06:58.244Z"
   },
   {
    "duration": 0,
    "start_time": "2024-08-15T12:06:58.245Z"
   },
   {
    "duration": 0,
    "start_time": "2024-08-15T12:06:58.246Z"
   },
   {
    "duration": 0,
    "start_time": "2024-08-15T12:06:58.247Z"
   },
   {
    "duration": 0,
    "start_time": "2024-08-15T12:06:58.248Z"
   },
   {
    "duration": 0,
    "start_time": "2024-08-15T12:06:58.249Z"
   },
   {
    "duration": 0,
    "start_time": "2024-08-15T12:06:58.250Z"
   },
   {
    "duration": 0,
    "start_time": "2024-08-15T12:06:58.251Z"
   },
   {
    "duration": 0,
    "start_time": "2024-08-15T12:06:58.252Z"
   },
   {
    "duration": 0,
    "start_time": "2024-08-15T12:06:58.253Z"
   },
   {
    "duration": 0,
    "start_time": "2024-08-15T12:06:58.254Z"
   },
   {
    "duration": 0,
    "start_time": "2024-08-15T12:06:58.255Z"
   },
   {
    "duration": 0,
    "start_time": "2024-08-15T12:06:58.256Z"
   },
   {
    "duration": 0,
    "start_time": "2024-08-15T12:06:58.257Z"
   },
   {
    "duration": 0,
    "start_time": "2024-08-15T12:06:58.258Z"
   },
   {
    "duration": 12,
    "start_time": "2024-08-15T12:08:19.663Z"
   },
   {
    "duration": 79,
    "start_time": "2024-08-15T12:09:15.257Z"
   },
   {
    "duration": 67,
    "start_time": "2024-08-15T12:09:32.739Z"
   },
   {
    "duration": 64,
    "start_time": "2024-08-15T12:09:40.861Z"
   },
   {
    "duration": 79,
    "start_time": "2024-08-15T12:09:43.977Z"
   },
   {
    "duration": 4,
    "start_time": "2024-08-15T12:09:57.048Z"
   },
   {
    "duration": 14,
    "start_time": "2024-08-15T12:10:01.364Z"
   },
   {
    "duration": 1193,
    "start_time": "2024-08-15T12:10:07.827Z"
   },
   {
    "duration": 225,
    "start_time": "2024-08-15T12:10:09.022Z"
   },
   {
    "duration": 13,
    "start_time": "2024-08-15T12:10:09.249Z"
   },
   {
    "duration": 54,
    "start_time": "2024-08-15T12:10:09.264Z"
   },
   {
    "duration": 102,
    "start_time": "2024-08-15T12:10:09.320Z"
   },
   {
    "duration": 138,
    "start_time": "2024-08-15T12:10:09.423Z"
   },
   {
    "duration": 73,
    "start_time": "2024-08-15T12:10:09.563Z"
   },
   {
    "duration": 54,
    "start_time": "2024-08-15T12:10:09.638Z"
   },
   {
    "duration": 14,
    "start_time": "2024-08-15T12:10:09.694Z"
   },
   {
    "duration": 52,
    "start_time": "2024-08-15T12:10:09.710Z"
   },
   {
    "duration": 10,
    "start_time": "2024-08-15T12:10:09.764Z"
   },
   {
    "duration": 50,
    "start_time": "2024-08-15T12:10:09.776Z"
   },
   {
    "duration": 70,
    "start_time": "2024-08-15T12:10:09.828Z"
   },
   {
    "duration": 573,
    "start_time": "2024-08-15T12:10:09.902Z"
   },
   {
    "duration": 253,
    "start_time": "2024-08-15T12:10:10.477Z"
   },
   {
    "duration": 13,
    "start_time": "2024-08-15T12:10:10.733Z"
   },
   {
    "duration": 21,
    "start_time": "2024-08-15T12:10:10.747Z"
   },
   {
    "duration": 27,
    "start_time": "2024-08-15T12:10:10.770Z"
   },
   {
    "duration": 92,
    "start_time": "2024-08-15T12:10:10.799Z"
   },
   {
    "duration": 12,
    "start_time": "2024-08-15T12:10:10.893Z"
   },
   {
    "duration": 9,
    "start_time": "2024-08-15T12:10:10.906Z"
   },
   {
    "duration": 63,
    "start_time": "2024-08-15T12:10:10.916Z"
   },
   {
    "duration": 98,
    "start_time": "2024-08-15T12:10:10.981Z"
   },
   {
    "duration": 5,
    "start_time": "2024-08-15T12:10:11.081Z"
   },
   {
    "duration": 5,
    "start_time": "2024-08-15T12:10:11.088Z"
   },
   {
    "duration": 12,
    "start_time": "2024-08-15T12:10:11.095Z"
   },
   {
    "duration": 11,
    "start_time": "2024-08-15T12:10:11.108Z"
   },
   {
    "duration": 40,
    "start_time": "2024-08-15T12:10:11.121Z"
   },
   {
    "duration": 13,
    "start_time": "2024-08-15T12:10:11.163Z"
   },
   {
    "duration": 9,
    "start_time": "2024-08-15T12:10:11.178Z"
   },
   {
    "duration": 9,
    "start_time": "2024-08-15T12:10:11.189Z"
   },
   {
    "duration": 10,
    "start_time": "2024-08-15T12:10:11.200Z"
   },
   {
    "duration": 52,
    "start_time": "2024-08-15T12:10:11.211Z"
   },
   {
    "duration": 11,
    "start_time": "2024-08-15T12:10:11.265Z"
   },
   {
    "duration": 382,
    "start_time": "2024-08-15T12:10:48.838Z"
   },
   {
    "duration": 1201,
    "start_time": "2024-08-15T12:46:24.491Z"
   },
   {
    "duration": 232,
    "start_time": "2024-08-15T12:46:25.694Z"
   },
   {
    "duration": 4,
    "start_time": "2024-08-15T12:46:25.928Z"
   },
   {
    "duration": 83,
    "start_time": "2024-08-15T12:46:25.934Z"
   },
   {
    "duration": 105,
    "start_time": "2024-08-15T12:46:26.020Z"
   },
   {
    "duration": 171,
    "start_time": "2024-08-15T12:46:26.127Z"
   },
   {
    "duration": 92,
    "start_time": "2024-08-15T12:46:26.299Z"
   },
   {
    "duration": 55,
    "start_time": "2024-08-15T12:46:26.393Z"
   },
   {
    "duration": 30,
    "start_time": "2024-08-15T12:46:26.450Z"
   },
   {
    "duration": 36,
    "start_time": "2024-08-15T12:46:26.485Z"
   },
   {
    "duration": 7,
    "start_time": "2024-08-15T12:46:26.523Z"
   },
   {
    "duration": 61,
    "start_time": "2024-08-15T12:46:26.532Z"
   },
   {
    "duration": 32,
    "start_time": "2024-08-15T12:46:26.595Z"
   },
   {
    "duration": 588,
    "start_time": "2024-08-15T12:46:26.629Z"
   },
   {
    "duration": 261,
    "start_time": "2024-08-15T12:46:27.218Z"
   },
   {
    "duration": 13,
    "start_time": "2024-08-15T12:46:27.481Z"
   },
   {
    "duration": 23,
    "start_time": "2024-08-15T12:46:27.496Z"
   },
   {
    "duration": 27,
    "start_time": "2024-08-15T12:46:27.522Z"
   },
   {
    "duration": 91,
    "start_time": "2024-08-15T12:46:27.565Z"
   },
   {
    "duration": 27,
    "start_time": "2024-08-15T12:46:27.658Z"
   },
   {
    "duration": 5,
    "start_time": "2024-08-15T12:46:27.688Z"
   },
   {
    "duration": 48,
    "start_time": "2024-08-15T12:46:27.695Z"
   },
   {
    "duration": 152,
    "start_time": "2024-08-15T12:46:27.745Z"
   },
   {
    "duration": 8,
    "start_time": "2024-08-15T12:46:27.900Z"
   },
   {
    "duration": 25,
    "start_time": "2024-08-15T12:46:27.911Z"
   },
   {
    "duration": 33,
    "start_time": "2024-08-15T12:46:27.938Z"
   },
   {
    "duration": 32,
    "start_time": "2024-08-15T12:46:27.972Z"
   },
   {
    "duration": 10,
    "start_time": "2024-08-15T12:46:28.009Z"
   },
   {
    "duration": 28,
    "start_time": "2024-08-15T12:46:28.022Z"
   },
   {
    "duration": 19,
    "start_time": "2024-08-15T12:46:28.053Z"
   },
   {
    "duration": 18,
    "start_time": "2024-08-15T12:46:28.077Z"
   },
   {
    "duration": 9,
    "start_time": "2024-08-15T12:46:28.097Z"
   },
   {
    "duration": 13,
    "start_time": "2024-08-15T12:46:28.108Z"
   },
   {
    "duration": 9,
    "start_time": "2024-08-15T12:46:28.123Z"
   },
   {
    "duration": 18,
    "start_time": "2024-08-15T12:58:37.886Z"
   },
   {
    "duration": 8,
    "start_time": "2024-08-15T12:58:54.915Z"
   },
   {
    "duration": 1253,
    "start_time": "2024-08-15T12:59:01.430Z"
   },
   {
    "duration": 215,
    "start_time": "2024-08-15T12:59:02.685Z"
   },
   {
    "duration": 3,
    "start_time": "2024-08-15T12:59:02.902Z"
   },
   {
    "duration": 64,
    "start_time": "2024-08-15T12:59:02.907Z"
   },
   {
    "duration": 98,
    "start_time": "2024-08-15T12:59:02.974Z"
   },
   {
    "duration": 131,
    "start_time": "2024-08-15T12:59:03.074Z"
   },
   {
    "duration": 74,
    "start_time": "2024-08-15T12:59:03.207Z"
   },
   {
    "duration": 50,
    "start_time": "2024-08-15T12:59:03.282Z"
   },
   {
    "duration": 15,
    "start_time": "2024-08-15T12:59:03.333Z"
   },
   {
    "duration": 38,
    "start_time": "2024-08-15T12:59:03.349Z"
   },
   {
    "duration": 19,
    "start_time": "2024-08-15T12:59:03.389Z"
   },
   {
    "duration": 35,
    "start_time": "2024-08-15T12:59:03.410Z"
   },
   {
    "duration": 39,
    "start_time": "2024-08-15T12:59:03.446Z"
   },
   {
    "duration": 530,
    "start_time": "2024-08-15T12:59:03.488Z"
   },
   {
    "duration": 250,
    "start_time": "2024-08-15T12:59:04.020Z"
   },
   {
    "duration": 12,
    "start_time": "2024-08-15T12:59:04.272Z"
   },
   {
    "duration": 28,
    "start_time": "2024-08-15T12:59:04.286Z"
   },
   {
    "duration": 8,
    "start_time": "2024-08-15T12:59:04.316Z"
   },
   {
    "duration": 50,
    "start_time": "2024-08-15T12:59:04.325Z"
   },
   {
    "duration": 82,
    "start_time": "2024-08-15T12:59:04.377Z"
   },
   {
    "duration": 11,
    "start_time": "2024-08-15T12:59:04.461Z"
   },
   {
    "duration": 28,
    "start_time": "2024-08-15T12:59:04.474Z"
   },
   {
    "duration": 56,
    "start_time": "2024-08-15T12:59:04.504Z"
   },
   {
    "duration": 83,
    "start_time": "2024-08-15T12:59:04.562Z"
   },
   {
    "duration": 17,
    "start_time": "2024-08-15T12:59:04.647Z"
   },
   {
    "duration": 42,
    "start_time": "2024-08-15T12:59:04.665Z"
   },
   {
    "duration": 39,
    "start_time": "2024-08-15T12:59:04.709Z"
   },
   {
    "duration": 19,
    "start_time": "2024-08-15T12:59:04.749Z"
   },
   {
    "duration": 23,
    "start_time": "2024-08-15T12:59:04.770Z"
   },
   {
    "duration": 30,
    "start_time": "2024-08-15T12:59:04.795Z"
   },
   {
    "duration": 38,
    "start_time": "2024-08-15T12:59:04.827Z"
   },
   {
    "duration": 19,
    "start_time": "2024-08-15T12:59:04.866Z"
   },
   {
    "duration": 45,
    "start_time": "2024-08-15T12:59:04.887Z"
   },
   {
    "duration": 21,
    "start_time": "2024-08-15T12:59:04.933Z"
   },
   {
    "duration": 17,
    "start_time": "2024-08-15T12:59:04.956Z"
   },
   {
    "duration": 103,
    "start_time": "2024-08-15T13:08:28.717Z"
   },
   {
    "duration": 13,
    "start_time": "2024-08-15T13:08:38.679Z"
   },
   {
    "duration": 26,
    "start_time": "2024-08-15T13:15:06.844Z"
   },
   {
    "duration": 18,
    "start_time": "2024-08-15T13:15:26.531Z"
   },
   {
    "duration": 21,
    "start_time": "2024-08-15T13:15:40.276Z"
   },
   {
    "duration": 11,
    "start_time": "2024-08-15T13:15:46.147Z"
   },
   {
    "duration": 11,
    "start_time": "2024-08-15T13:16:01.861Z"
   },
   {
    "duration": 7,
    "start_time": "2024-08-15T13:17:49.717Z"
   },
   {
    "duration": 12,
    "start_time": "2024-08-15T13:17:54.684Z"
   },
   {
    "duration": 7,
    "start_time": "2024-08-15T13:20:10.110Z"
   },
   {
    "duration": 7,
    "start_time": "2024-08-15T13:20:19.045Z"
   },
   {
    "duration": 8,
    "start_time": "2024-08-15T13:21:27.508Z"
   },
   {
    "duration": 6,
    "start_time": "2024-08-15T13:21:40.642Z"
   },
   {
    "duration": 6,
    "start_time": "2024-08-15T13:21:45.878Z"
   },
   {
    "duration": 7,
    "start_time": "2024-08-15T13:21:47.534Z"
   },
   {
    "duration": 7,
    "start_time": "2024-08-15T13:33:32.459Z"
   },
   {
    "duration": 18,
    "start_time": "2024-08-15T13:35:53.539Z"
   },
   {
    "duration": 4,
    "start_time": "2024-08-15T13:37:36.460Z"
   },
   {
    "duration": 15,
    "start_time": "2024-08-15T13:37:42.252Z"
   },
   {
    "duration": 14,
    "start_time": "2024-08-15T13:38:02.883Z"
   },
   {
    "duration": 6,
    "start_time": "2024-08-15T13:39:20.740Z"
   },
   {
    "duration": 1316,
    "start_time": "2024-08-15T13:41:38.907Z"
   },
   {
    "duration": 228,
    "start_time": "2024-08-15T13:41:40.224Z"
   },
   {
    "duration": 4,
    "start_time": "2024-08-15T13:41:40.454Z"
   },
   {
    "duration": 40,
    "start_time": "2024-08-15T13:41:40.461Z"
   },
   {
    "duration": 102,
    "start_time": "2024-08-15T13:41:40.503Z"
   },
   {
    "duration": 131,
    "start_time": "2024-08-15T13:41:40.606Z"
   },
   {
    "duration": 73,
    "start_time": "2024-08-15T13:41:40.739Z"
   },
   {
    "duration": 50,
    "start_time": "2024-08-15T13:41:40.814Z"
   },
   {
    "duration": 15,
    "start_time": "2024-08-15T13:41:40.865Z"
   },
   {
    "duration": 31,
    "start_time": "2024-08-15T13:41:40.882Z"
   },
   {
    "duration": 8,
    "start_time": "2024-08-15T13:41:40.915Z"
   },
   {
    "duration": 62,
    "start_time": "2024-08-15T13:41:40.924Z"
   },
   {
    "duration": 33,
    "start_time": "2024-08-15T13:41:40.988Z"
   },
   {
    "duration": 549,
    "start_time": "2024-08-15T13:41:41.022Z"
   },
   {
    "duration": 276,
    "start_time": "2024-08-15T13:41:41.573Z"
   },
   {
    "duration": 17,
    "start_time": "2024-08-15T13:41:41.850Z"
   },
   {
    "duration": 8,
    "start_time": "2024-08-15T13:41:41.869Z"
   },
   {
    "duration": 34,
    "start_time": "2024-08-15T13:41:41.880Z"
   },
   {
    "duration": 117,
    "start_time": "2024-08-15T13:41:41.917Z"
   },
   {
    "duration": 26,
    "start_time": "2024-08-15T13:41:42.036Z"
   },
   {
    "duration": 6,
    "start_time": "2024-08-15T13:41:42.064Z"
   },
   {
    "duration": 88,
    "start_time": "2024-08-15T13:41:42.071Z"
   },
   {
    "duration": 86,
    "start_time": "2024-08-15T13:41:42.160Z"
   },
   {
    "duration": 14,
    "start_time": "2024-08-15T13:41:42.248Z"
   },
   {
    "duration": 18,
    "start_time": "2024-08-15T13:41:42.264Z"
   },
   {
    "duration": 24,
    "start_time": "2024-08-15T13:41:42.284Z"
   },
   {
    "duration": 16,
    "start_time": "2024-08-15T13:41:42.310Z"
   },
   {
    "duration": 9,
    "start_time": "2024-08-15T13:41:42.331Z"
   },
   {
    "duration": 11,
    "start_time": "2024-08-15T13:41:42.361Z"
   },
   {
    "duration": 14,
    "start_time": "2024-08-15T13:41:42.374Z"
   },
   {
    "duration": 19,
    "start_time": "2024-08-15T13:41:42.390Z"
   },
   {
    "duration": 15,
    "start_time": "2024-08-15T13:41:42.411Z"
   },
   {
    "duration": 49,
    "start_time": "2024-08-15T13:41:42.429Z"
   },
   {
    "duration": 12,
    "start_time": "2024-08-15T13:41:42.480Z"
   },
   {
    "duration": 7,
    "start_time": "2024-08-15T13:41:58.688Z"
   },
   {
    "duration": 5,
    "start_time": "2024-08-15T13:42:07.846Z"
   },
   {
    "duration": 8,
    "start_time": "2024-08-15T13:42:20.067Z"
   },
   {
    "duration": 5,
    "start_time": "2024-08-15T13:42:36.464Z"
   },
   {
    "duration": 5,
    "start_time": "2024-08-15T13:42:49.090Z"
   },
   {
    "duration": 6,
    "start_time": "2024-08-15T14:01:52.557Z"
   },
   {
    "duration": 15,
    "start_time": "2024-08-15T14:01:57.333Z"
   },
   {
    "duration": 9,
    "start_time": "2024-08-15T14:02:11.113Z"
   },
   {
    "duration": 5,
    "start_time": "2024-08-15T14:02:12.721Z"
   },
   {
    "duration": 10,
    "start_time": "2024-08-15T14:02:56.411Z"
   },
   {
    "duration": 10,
    "start_time": "2024-08-15T14:03:13.658Z"
   },
   {
    "duration": 9,
    "start_time": "2024-08-15T14:03:49.505Z"
   },
   {
    "duration": 8,
    "start_time": "2024-08-15T14:04:14.101Z"
   },
   {
    "duration": 73,
    "start_time": "2024-08-15T14:04:46.565Z"
   },
   {
    "duration": 1182,
    "start_time": "2024-08-15T14:05:00.013Z"
   },
   {
    "duration": 203,
    "start_time": "2024-08-15T14:05:01.197Z"
   },
   {
    "duration": 3,
    "start_time": "2024-08-15T14:05:01.402Z"
   },
   {
    "duration": 104,
    "start_time": "2024-08-15T14:05:01.406Z"
   },
   {
    "duration": 74,
    "start_time": "2024-08-15T14:05:01.512Z"
   },
   {
    "duration": 137,
    "start_time": "2024-08-15T14:05:01.587Z"
   },
   {
    "duration": 74,
    "start_time": "2024-08-15T14:05:01.726Z"
   },
   {
    "duration": 117,
    "start_time": "2024-08-15T14:05:01.802Z"
   },
   {
    "duration": 17,
    "start_time": "2024-08-15T14:05:01.921Z"
   },
   {
    "duration": 60,
    "start_time": "2024-08-15T14:05:01.939Z"
   },
   {
    "duration": 7,
    "start_time": "2024-08-15T14:05:02.001Z"
   },
   {
    "duration": 98,
    "start_time": "2024-08-15T14:05:02.009Z"
   },
   {
    "duration": 34,
    "start_time": "2024-08-15T14:05:02.109Z"
   },
   {
    "duration": 590,
    "start_time": "2024-08-15T14:05:02.146Z"
   },
   {
    "duration": 240,
    "start_time": "2024-08-15T14:05:02.738Z"
   },
   {
    "duration": 8,
    "start_time": "2024-08-15T14:05:02.979Z"
   },
   {
    "duration": 24,
    "start_time": "2024-08-15T14:05:02.989Z"
   },
   {
    "duration": 14,
    "start_time": "2024-08-15T14:05:03.014Z"
   },
   {
    "duration": 7,
    "start_time": "2024-08-15T14:05:03.029Z"
   },
   {
    "duration": 37,
    "start_time": "2024-08-15T14:05:03.037Z"
   },
   {
    "duration": 84,
    "start_time": "2024-08-15T14:05:03.075Z"
   },
   {
    "duration": 13,
    "start_time": "2024-08-15T14:05:03.160Z"
   },
   {
    "duration": 7,
    "start_time": "2024-08-15T14:05:03.175Z"
   },
   {
    "duration": 79,
    "start_time": "2024-08-15T14:05:03.184Z"
   },
   {
    "duration": 84,
    "start_time": "2024-08-15T14:05:03.265Z"
   },
   {
    "duration": 6,
    "start_time": "2024-08-15T14:05:03.361Z"
   },
   {
    "duration": 43,
    "start_time": "2024-08-15T14:05:03.368Z"
   },
   {
    "duration": 44,
    "start_time": "2024-08-15T14:05:03.413Z"
   },
   {
    "duration": 13,
    "start_time": "2024-08-15T14:05:03.458Z"
   },
   {
    "duration": 13,
    "start_time": "2024-08-15T14:05:03.473Z"
   },
   {
    "duration": 14,
    "start_time": "2024-08-15T14:05:03.487Z"
   },
   {
    "duration": 16,
    "start_time": "2024-08-15T14:05:03.503Z"
   },
   {
    "duration": 8,
    "start_time": "2024-08-15T14:05:03.521Z"
   },
   {
    "duration": 45,
    "start_time": "2024-08-15T14:05:03.531Z"
   },
   {
    "duration": 17,
    "start_time": "2024-08-15T14:05:03.578Z"
   },
   {
    "duration": 18,
    "start_time": "2024-08-15T14:05:03.597Z"
   },
   {
    "duration": 1221,
    "start_time": "2024-08-15T14:37:01.216Z"
   },
   {
    "duration": 212,
    "start_time": "2024-08-15T14:37:02.439Z"
   },
   {
    "duration": 4,
    "start_time": "2024-08-15T14:37:02.660Z"
   },
   {
    "duration": 68,
    "start_time": "2024-08-15T14:37:02.665Z"
   },
   {
    "duration": 77,
    "start_time": "2024-08-15T14:37:02.735Z"
   },
   {
    "duration": 127,
    "start_time": "2024-08-15T14:37:02.813Z"
   },
   {
    "duration": 78,
    "start_time": "2024-08-15T14:37:02.942Z"
   },
   {
    "duration": 47,
    "start_time": "2024-08-15T14:37:03.022Z"
   },
   {
    "duration": 14,
    "start_time": "2024-08-15T14:37:03.071Z"
   },
   {
    "duration": 35,
    "start_time": "2024-08-15T14:37:03.086Z"
   },
   {
    "duration": 7,
    "start_time": "2024-08-15T14:37:03.122Z"
   },
   {
    "duration": 52,
    "start_time": "2024-08-15T14:37:03.130Z"
   },
   {
    "duration": 32,
    "start_time": "2024-08-15T14:37:03.184Z"
   },
   {
    "duration": 542,
    "start_time": "2024-08-15T14:37:03.219Z"
   },
   {
    "duration": 272,
    "start_time": "2024-08-15T14:37:03.762Z"
   },
   {
    "duration": 9,
    "start_time": "2024-08-15T14:37:04.035Z"
   },
   {
    "duration": 20,
    "start_time": "2024-08-15T14:37:04.046Z"
   },
   {
    "duration": 7,
    "start_time": "2024-08-15T14:37:04.068Z"
   },
   {
    "duration": 10,
    "start_time": "2024-08-15T14:37:04.076Z"
   },
   {
    "duration": 25,
    "start_time": "2024-08-15T14:37:04.088Z"
   },
   {
    "duration": 96,
    "start_time": "2024-08-15T14:37:04.114Z"
   },
   {
    "duration": 11,
    "start_time": "2024-08-15T14:37:04.212Z"
   },
   {
    "duration": 4,
    "start_time": "2024-08-15T14:37:04.225Z"
   },
   {
    "duration": 81,
    "start_time": "2024-08-15T14:37:04.230Z"
   },
   {
    "duration": 85,
    "start_time": "2024-08-15T14:37:04.312Z"
   },
   {
    "duration": 5,
    "start_time": "2024-08-15T14:37:04.398Z"
   },
   {
    "duration": 8,
    "start_time": "2024-08-15T14:37:04.404Z"
   },
   {
    "duration": 11,
    "start_time": "2024-08-15T14:37:04.414Z"
   },
   {
    "duration": 10,
    "start_time": "2024-08-15T14:37:04.427Z"
   },
   {
    "duration": 29,
    "start_time": "2024-08-15T14:37:04.438Z"
   },
   {
    "duration": 9,
    "start_time": "2024-08-15T14:37:04.468Z"
   },
   {
    "duration": 10,
    "start_time": "2024-08-15T14:37:04.479Z"
   },
   {
    "duration": 36,
    "start_time": "2024-08-15T14:37:04.491Z"
   },
   {
    "duration": 9,
    "start_time": "2024-08-15T14:37:04.529Z"
   },
   {
    "duration": 9,
    "start_time": "2024-08-15T14:37:04.539Z"
   },
   {
    "duration": 9,
    "start_time": "2024-08-15T14:37:04.561Z"
   },
   {
    "duration": 1174,
    "start_time": "2024-08-15T14:38:11.804Z"
   },
   {
    "duration": 219,
    "start_time": "2024-08-15T14:38:12.980Z"
   },
   {
    "duration": 4,
    "start_time": "2024-08-15T14:38:13.200Z"
   },
   {
    "duration": 61,
    "start_time": "2024-08-15T14:38:13.207Z"
   },
   {
    "duration": 75,
    "start_time": "2024-08-15T14:38:13.270Z"
   },
   {
    "duration": 130,
    "start_time": "2024-08-15T14:38:13.361Z"
   },
   {
    "duration": 84,
    "start_time": "2024-08-15T14:38:13.493Z"
   },
   {
    "duration": 39,
    "start_time": "2024-08-15T14:38:13.578Z"
   },
   {
    "duration": 13,
    "start_time": "2024-08-15T14:38:13.619Z"
   },
   {
    "duration": 46,
    "start_time": "2024-08-15T14:38:13.634Z"
   },
   {
    "duration": 7,
    "start_time": "2024-08-15T14:38:13.681Z"
   },
   {
    "duration": 33,
    "start_time": "2024-08-15T14:38:13.690Z"
   },
   {
    "duration": 51,
    "start_time": "2024-08-15T14:38:13.724Z"
   },
   {
    "duration": 557,
    "start_time": "2024-08-15T14:38:13.777Z"
   },
   {
    "duration": 255,
    "start_time": "2024-08-15T14:38:14.336Z"
   },
   {
    "duration": 8,
    "start_time": "2024-08-15T14:38:14.592Z"
   },
   {
    "duration": 7,
    "start_time": "2024-08-15T14:38:14.601Z"
   },
   {
    "duration": 9,
    "start_time": "2024-08-15T14:38:14.610Z"
   },
   {
    "duration": 40,
    "start_time": "2024-08-15T14:38:14.621Z"
   },
   {
    "duration": 26,
    "start_time": "2024-08-15T14:38:14.663Z"
   },
   {
    "duration": 87,
    "start_time": "2024-08-15T14:38:14.690Z"
   },
   {
    "duration": 12,
    "start_time": "2024-08-15T14:38:14.778Z"
   },
   {
    "duration": 6,
    "start_time": "2024-08-15T14:38:14.791Z"
   },
   {
    "duration": 64,
    "start_time": "2024-08-15T14:38:14.799Z"
   },
   {
    "duration": 99,
    "start_time": "2024-08-15T14:38:14.865Z"
   },
   {
    "duration": 5,
    "start_time": "2024-08-15T14:38:14.966Z"
   },
   {
    "duration": 14,
    "start_time": "2024-08-15T14:38:14.973Z"
   },
   {
    "duration": 9,
    "start_time": "2024-08-15T14:38:14.991Z"
   },
   {
    "duration": 44,
    "start_time": "2024-08-15T14:38:15.002Z"
   },
   {
    "duration": 17,
    "start_time": "2024-08-15T14:38:15.048Z"
   },
   {
    "duration": 27,
    "start_time": "2024-08-15T14:38:15.067Z"
   },
   {
    "duration": 17,
    "start_time": "2024-08-15T14:38:15.096Z"
   },
   {
    "duration": 18,
    "start_time": "2024-08-15T14:38:15.115Z"
   },
   {
    "duration": 22,
    "start_time": "2024-08-15T14:38:15.135Z"
   },
   {
    "duration": 8,
    "start_time": "2024-08-15T14:38:15.159Z"
   },
   {
    "duration": 15,
    "start_time": "2024-08-15T14:38:15.168Z"
   }
  ],
  "kernelspec": {
   "display_name": "Python 3 (ipykernel)",
   "language": "python",
   "name": "python3"
  },
  "language_info": {
   "codemirror_mode": {
    "name": "ipython",
    "version": 3
   },
   "file_extension": ".py",
   "mimetype": "text/x-python",
   "name": "python",
   "nbconvert_exporter": "python",
   "pygments_lexer": "ipython3",
   "version": "3.9.5"
  },
  "toc": {
   "base_numbering": 1,
   "nav_menu": {},
   "number_sections": true,
   "sideBar": true,
   "skip_h1_title": true,
   "title_cell": "Table of Contents",
   "title_sidebar": "Contents",
   "toc_cell": false,
   "toc_position": {
    "height": "calc(100% - 180px)",
    "left": "10px",
    "top": "150px",
    "width": "384px"
   },
   "toc_section_display": true,
   "toc_window_display": false
  }
 },
 "nbformat": 4,
 "nbformat_minor": 2
}
